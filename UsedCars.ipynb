{
 "cells": [
  {
   "cell_type": "markdown",
   "id": "3bf498df",
   "metadata": {},
   "source": [
    "# Used Cars"
   ]
  },
  {
   "cell_type": "markdown",
   "id": "504e07e5",
   "metadata": {},
   "source": [
    "Used Cars skup podataka sadrži informacije o prodaji automobila koje pruža Craigslist.\n",
    "Više informacija je moguće pronaći na: https://www.kaggle.com/datasets/austinreese/craigslist-carstrucks-data"
   ]
  },
  {
   "cell_type": "code",
   "execution_count": 1,
   "id": "423584c7",
   "metadata": {},
   "outputs": [],
   "source": [
    "import numpy as np\n",
    "import pandas as pd\n",
    "import matplotlib.pyplot as plt\n",
    "import seaborn as sns\n",
    "%matplotlib inline\n",
    "\n",
    "\n",
    "# mozes napravit specijalno rjesenja za npr samo toyotu"
   ]
  },
  {
   "cell_type": "markdown",
   "id": "8c5bf2f5",
   "metadata": {},
   "source": [
    "## Učitavanje podataka"
   ]
  },
  {
   "cell_type": "markdown",
   "id": "ab957d02",
   "metadata": {},
   "source": [
    "Na samom početku je potrebno učitati podatke i pogledati od kojih se stupaca sastoji te kakve se informacije u njima pružaju."
   ]
  },
  {
   "cell_type": "code",
   "execution_count": 75,
   "id": "33112aa5",
   "metadata": {},
   "outputs": [
    {
     "data": {
      "text/html": [
       "<div>\n",
       "<style scoped>\n",
       "    .dataframe tbody tr th:only-of-type {\n",
       "        vertical-align: middle;\n",
       "    }\n",
       "\n",
       "    .dataframe tbody tr th {\n",
       "        vertical-align: top;\n",
       "    }\n",
       "\n",
       "    .dataframe thead th {\n",
       "        text-align: right;\n",
       "    }\n",
       "</style>\n",
       "<table border=\"1\" class=\"dataframe\">\n",
       "  <thead>\n",
       "    <tr style=\"text-align: right;\">\n",
       "      <th></th>\n",
       "      <th>id</th>\n",
       "      <th>url</th>\n",
       "      <th>region</th>\n",
       "      <th>region_url</th>\n",
       "      <th>price</th>\n",
       "      <th>year</th>\n",
       "      <th>manufacturer</th>\n",
       "      <th>model</th>\n",
       "      <th>condition</th>\n",
       "      <th>cylinders</th>\n",
       "      <th>...</th>\n",
       "      <th>size</th>\n",
       "      <th>type</th>\n",
       "      <th>paint_color</th>\n",
       "      <th>image_url</th>\n",
       "      <th>description</th>\n",
       "      <th>county</th>\n",
       "      <th>state</th>\n",
       "      <th>lat</th>\n",
       "      <th>long</th>\n",
       "      <th>posting_date</th>\n",
       "    </tr>\n",
       "  </thead>\n",
       "  <tbody>\n",
       "    <tr>\n",
       "      <th>0</th>\n",
       "      <td>7222695916</td>\n",
       "      <td>https://prescott.craigslist.org/cto/d/prescott...</td>\n",
       "      <td>prescott</td>\n",
       "      <td>https://prescott.craigslist.org</td>\n",
       "      <td>6000</td>\n",
       "      <td>NaN</td>\n",
       "      <td>NaN</td>\n",
       "      <td>NaN</td>\n",
       "      <td>NaN</td>\n",
       "      <td>NaN</td>\n",
       "      <td>...</td>\n",
       "      <td>NaN</td>\n",
       "      <td>NaN</td>\n",
       "      <td>NaN</td>\n",
       "      <td>NaN</td>\n",
       "      <td>NaN</td>\n",
       "      <td>NaN</td>\n",
       "      <td>az</td>\n",
       "      <td>NaN</td>\n",
       "      <td>NaN</td>\n",
       "      <td>NaN</td>\n",
       "    </tr>\n",
       "    <tr>\n",
       "      <th>1</th>\n",
       "      <td>7218891961</td>\n",
       "      <td>https://fayar.craigslist.org/ctd/d/bentonville...</td>\n",
       "      <td>fayetteville</td>\n",
       "      <td>https://fayar.craigslist.org</td>\n",
       "      <td>11900</td>\n",
       "      <td>NaN</td>\n",
       "      <td>NaN</td>\n",
       "      <td>NaN</td>\n",
       "      <td>NaN</td>\n",
       "      <td>NaN</td>\n",
       "      <td>...</td>\n",
       "      <td>NaN</td>\n",
       "      <td>NaN</td>\n",
       "      <td>NaN</td>\n",
       "      <td>NaN</td>\n",
       "      <td>NaN</td>\n",
       "      <td>NaN</td>\n",
       "      <td>ar</td>\n",
       "      <td>NaN</td>\n",
       "      <td>NaN</td>\n",
       "      <td>NaN</td>\n",
       "    </tr>\n",
       "    <tr>\n",
       "      <th>2</th>\n",
       "      <td>7221797935</td>\n",
       "      <td>https://keys.craigslist.org/cto/d/summerland-k...</td>\n",
       "      <td>florida keys</td>\n",
       "      <td>https://keys.craigslist.org</td>\n",
       "      <td>21000</td>\n",
       "      <td>NaN</td>\n",
       "      <td>NaN</td>\n",
       "      <td>NaN</td>\n",
       "      <td>NaN</td>\n",
       "      <td>NaN</td>\n",
       "      <td>...</td>\n",
       "      <td>NaN</td>\n",
       "      <td>NaN</td>\n",
       "      <td>NaN</td>\n",
       "      <td>NaN</td>\n",
       "      <td>NaN</td>\n",
       "      <td>NaN</td>\n",
       "      <td>fl</td>\n",
       "      <td>NaN</td>\n",
       "      <td>NaN</td>\n",
       "      <td>NaN</td>\n",
       "    </tr>\n",
       "    <tr>\n",
       "      <th>3</th>\n",
       "      <td>7222270760</td>\n",
       "      <td>https://worcester.craigslist.org/cto/d/west-br...</td>\n",
       "      <td>worcester / central MA</td>\n",
       "      <td>https://worcester.craigslist.org</td>\n",
       "      <td>1500</td>\n",
       "      <td>NaN</td>\n",
       "      <td>NaN</td>\n",
       "      <td>NaN</td>\n",
       "      <td>NaN</td>\n",
       "      <td>NaN</td>\n",
       "      <td>...</td>\n",
       "      <td>NaN</td>\n",
       "      <td>NaN</td>\n",
       "      <td>NaN</td>\n",
       "      <td>NaN</td>\n",
       "      <td>NaN</td>\n",
       "      <td>NaN</td>\n",
       "      <td>ma</td>\n",
       "      <td>NaN</td>\n",
       "      <td>NaN</td>\n",
       "      <td>NaN</td>\n",
       "    </tr>\n",
       "    <tr>\n",
       "      <th>4</th>\n",
       "      <td>7210384030</td>\n",
       "      <td>https://greensboro.craigslist.org/cto/d/trinit...</td>\n",
       "      <td>greensboro</td>\n",
       "      <td>https://greensboro.craigslist.org</td>\n",
       "      <td>4900</td>\n",
       "      <td>NaN</td>\n",
       "      <td>NaN</td>\n",
       "      <td>NaN</td>\n",
       "      <td>NaN</td>\n",
       "      <td>NaN</td>\n",
       "      <td>...</td>\n",
       "      <td>NaN</td>\n",
       "      <td>NaN</td>\n",
       "      <td>NaN</td>\n",
       "      <td>NaN</td>\n",
       "      <td>NaN</td>\n",
       "      <td>NaN</td>\n",
       "      <td>nc</td>\n",
       "      <td>NaN</td>\n",
       "      <td>NaN</td>\n",
       "      <td>NaN</td>\n",
       "    </tr>\n",
       "  </tbody>\n",
       "</table>\n",
       "<p>5 rows × 26 columns</p>\n",
       "</div>"
      ],
      "text/plain": [
       "           id                                                url  \\\n",
       "0  7222695916  https://prescott.craigslist.org/cto/d/prescott...   \n",
       "1  7218891961  https://fayar.craigslist.org/ctd/d/bentonville...   \n",
       "2  7221797935  https://keys.craigslist.org/cto/d/summerland-k...   \n",
       "3  7222270760  https://worcester.craigslist.org/cto/d/west-br...   \n",
       "4  7210384030  https://greensboro.craigslist.org/cto/d/trinit...   \n",
       "\n",
       "                   region                         region_url  price  year  \\\n",
       "0                prescott    https://prescott.craigslist.org   6000   NaN   \n",
       "1            fayetteville       https://fayar.craigslist.org  11900   NaN   \n",
       "2            florida keys        https://keys.craigslist.org  21000   NaN   \n",
       "3  worcester / central MA   https://worcester.craigslist.org   1500   NaN   \n",
       "4              greensboro  https://greensboro.craigslist.org   4900   NaN   \n",
       "\n",
       "  manufacturer model condition cylinders  ... size  type paint_color  \\\n",
       "0          NaN   NaN       NaN       NaN  ...  NaN   NaN         NaN   \n",
       "1          NaN   NaN       NaN       NaN  ...  NaN   NaN         NaN   \n",
       "2          NaN   NaN       NaN       NaN  ...  NaN   NaN         NaN   \n",
       "3          NaN   NaN       NaN       NaN  ...  NaN   NaN         NaN   \n",
       "4          NaN   NaN       NaN       NaN  ...  NaN   NaN         NaN   \n",
       "\n",
       "  image_url description county state lat long posting_date  \n",
       "0       NaN         NaN    NaN    az NaN  NaN          NaN  \n",
       "1       NaN         NaN    NaN    ar NaN  NaN          NaN  \n",
       "2       NaN         NaN    NaN    fl NaN  NaN          NaN  \n",
       "3       NaN         NaN    NaN    ma NaN  NaN          NaN  \n",
       "4       NaN         NaN    NaN    nc NaN  NaN          NaN  \n",
       "\n",
       "[5 rows x 26 columns]"
      ]
     },
     "execution_count": 75,
     "metadata": {},
     "output_type": "execute_result"
    }
   ],
   "source": [
    "df = pd.read_csv('vehicles.csv')\n",
    "df.head(5)"
   ]
  },
  {
   "cell_type": "markdown",
   "id": "a04e1fba",
   "metadata": {},
   "source": [
    "Kolonu id postavljam kao index skupa podataka."
   ]
  },
  {
   "cell_type": "code",
   "execution_count": 76,
   "id": "e07e1ffd",
   "metadata": {},
   "outputs": [],
   "source": [
    "df = df.set_index('id')"
   ]
  },
  {
   "cell_type": "markdown",
   "id": "fcde060c",
   "metadata": {},
   "source": [
    "Postoje retci koji se sastoje od mnogo NaN vrijednosti pa ćemo takve ukloniti jer nema smisla raditi prekciju nad podacima koji su većinski imputirani."
   ]
  },
  {
   "cell_type": "code",
   "execution_count": 77,
   "id": "e327c775",
   "metadata": {},
   "outputs": [],
   "source": [
    "nan_cnt = df.isnull().sum(axis=1)\n",
    "\n",
    "idx = nan_cnt < 8\n",
    "df = df[idx]"
   ]
  },
  {
   "cell_type": "code",
   "execution_count": 78,
   "id": "82571bfd",
   "metadata": {},
   "outputs": [
    {
     "data": {
      "text/plain": [
       "(390742, 25)"
      ]
     },
     "execution_count": 78,
     "metadata": {},
     "output_type": "execute_result"
    }
   ],
   "source": [
    "df.shape"
   ]
  },
  {
   "cell_type": "code",
   "execution_count": 83,
   "id": "2f626ca4",
   "metadata": {},
   "outputs": [
    {
     "data": {
      "text/html": [
       "<div>\n",
       "<style scoped>\n",
       "    .dataframe tbody tr th:only-of-type {\n",
       "        vertical-align: middle;\n",
       "    }\n",
       "\n",
       "    .dataframe tbody tr th {\n",
       "        vertical-align: top;\n",
       "    }\n",
       "\n",
       "    .dataframe thead th {\n",
       "        text-align: right;\n",
       "    }\n",
       "</style>\n",
       "<table border=\"1\" class=\"dataframe\">\n",
       "  <thead>\n",
       "    <tr style=\"text-align: right;\">\n",
       "      <th></th>\n",
       "      <th>price</th>\n",
       "      <th>year</th>\n",
       "      <th>odometer</th>\n",
       "      <th>county</th>\n",
       "      <th>lat</th>\n",
       "      <th>long</th>\n",
       "    </tr>\n",
       "  </thead>\n",
       "  <tbody>\n",
       "    <tr>\n",
       "      <th>count</th>\n",
       "      <td>6.377600e+04</td>\n",
       "      <td>63776.000000</td>\n",
       "      <td>6.324700e+04</td>\n",
       "      <td>0.0</td>\n",
       "      <td>62950.000000</td>\n",
       "      <td>62950.000000</td>\n",
       "    </tr>\n",
       "    <tr>\n",
       "      <th>mean</th>\n",
       "      <td>3.692480e+04</td>\n",
       "      <td>2010.869763</td>\n",
       "      <td>1.037517e+05</td>\n",
       "      <td>NaN</td>\n",
       "      <td>38.788844</td>\n",
       "      <td>-95.370710</td>\n",
       "    </tr>\n",
       "    <tr>\n",
       "      <th>std</th>\n",
       "      <td>4.399714e+06</td>\n",
       "      <td>10.794611</td>\n",
       "      <td>1.920003e+05</td>\n",
       "      <td>NaN</td>\n",
       "      <td>5.863687</td>\n",
       "      <td>18.053911</td>\n",
       "    </tr>\n",
       "    <tr>\n",
       "      <th>min</th>\n",
       "      <td>0.000000e+00</td>\n",
       "      <td>1913.000000</td>\n",
       "      <td>0.000000e+00</td>\n",
       "      <td>NaN</td>\n",
       "      <td>-0.110958</td>\n",
       "      <td>-159.530300</td>\n",
       "    </tr>\n",
       "    <tr>\n",
       "      <th>25%</th>\n",
       "      <td>6.800000e+03</td>\n",
       "      <td>2008.000000</td>\n",
       "      <td>4.537900e+04</td>\n",
       "      <td>NaN</td>\n",
       "      <td>34.892100</td>\n",
       "      <td>-112.245386</td>\n",
       "    </tr>\n",
       "    <tr>\n",
       "      <th>50%</th>\n",
       "      <td>1.595000e+04</td>\n",
       "      <td>2014.000000</td>\n",
       "      <td>9.481200e+04</td>\n",
       "      <td>NaN</td>\n",
       "      <td>39.531219</td>\n",
       "      <td>-89.943849</td>\n",
       "    </tr>\n",
       "    <tr>\n",
       "      <th>75%</th>\n",
       "      <td>2.959000e+04</td>\n",
       "      <td>2017.000000</td>\n",
       "      <td>1.404430e+05</td>\n",
       "      <td>NaN</td>\n",
       "      <td>42.756205</td>\n",
       "      <td>-81.367592</td>\n",
       "    </tr>\n",
       "    <tr>\n",
       "      <th>max</th>\n",
       "      <td>1.111111e+09</td>\n",
       "      <td>2022.000000</td>\n",
       "      <td>1.000000e+07</td>\n",
       "      <td>NaN</td>\n",
       "      <td>76.714376</td>\n",
       "      <td>94.163200</td>\n",
       "    </tr>\n",
       "  </tbody>\n",
       "</table>\n",
       "</div>"
      ],
      "text/plain": [
       "              price          year      odometer  county           lat  \\\n",
       "count  6.377600e+04  63776.000000  6.324700e+04     0.0  62950.000000   \n",
       "mean   3.692480e+04   2010.869763  1.037517e+05     NaN     38.788844   \n",
       "std    4.399714e+06     10.794611  1.920003e+05     NaN      5.863687   \n",
       "min    0.000000e+00   1913.000000  0.000000e+00     NaN     -0.110958   \n",
       "25%    6.800000e+03   2008.000000  4.537900e+04     NaN     34.892100   \n",
       "50%    1.595000e+04   2014.000000  9.481200e+04     NaN     39.531219   \n",
       "75%    2.959000e+04   2017.000000  1.404430e+05     NaN     42.756205   \n",
       "max    1.111111e+09   2022.000000  1.000000e+07     NaN     76.714376   \n",
       "\n",
       "               long  \n",
       "count  62950.000000  \n",
       "mean     -95.370710  \n",
       "std       18.053911  \n",
       "min     -159.530300  \n",
       "25%     -112.245386  \n",
       "50%      -89.943849  \n",
       "75%      -81.367592  \n",
       "max       94.163200  "
      ]
     },
     "execution_count": 83,
     "metadata": {},
     "output_type": "execute_result"
    }
   ],
   "source": [
    "df.describe()"
   ]
  },
  {
   "cell_type": "markdown",
   "id": "7359a203",
   "metadata": {},
   "source": [
    "Vidimo da postoje cijene koje su nerealno velike. Također postoje cijene poput 123456789 koje izgledaju sasvim nasumičnim. Ovakve su greške mogle nastatiti pogreškom u scrapingu ili pogrešnim unosom u bazu podataka.  Uklonit ću sve cijene koje su veće od 10 000 000 kako bi uklonili outliere is skupa. Također postoje retci u kojima je cijena automobila manja od 100 ili čak 0. Vjerojatno su ovakvi rezultati također nastali greškom jer ne postoje automobili na Craigslistu koji se prodaju po cijeni 0, pa ću i njih ukloniti."
   ]
  },
  {
   "cell_type": "markdown",
   "id": "1a654b9e",
   "metadata": {},
   "source": [
    "Iz podataka o distribuciji možemo uočiti da kolona price sadrži outliere pa je njih potrebno maknuti iz skupa podataka."
   ]
  },
  {
   "cell_type": "code",
   "execution_count": 84,
   "id": "7fffba1d",
   "metadata": {},
   "outputs": [
    {
     "data": {
      "text/plain": [
       "id\n",
       "7305265540    1111111111\n",
       "7317067334        999999\n",
       "7316352222        225000\n",
       "7313852214        225000\n",
       "7316240854        213000\n",
       "7315904521        175000\n",
       "7310531509        150000\n",
       "7314985804        135000\n",
       "7316206367        125000\n",
       "7314829807        123456\n",
       "7316935761        119999\n",
       "7309746801        119999\n",
       "7311856070        119995\n",
       "7315954519        119995\n",
       "7309945912        119900\n",
       "7309389841        119900\n",
       "7312903257        119888\n",
       "7306896169        116000\n",
       "7311596305        112500\n",
       "7312866001        110000\n",
       "7315301205        107999\n",
       "7314085180        103500\n",
       "7305712270        102999\n",
       "7308288624        102900\n",
       "7312900675        100995\n",
       "7314759510        100995\n",
       "7309906351        100995\n",
       "7308821737        100995\n",
       "7306824123        100000\n",
       "7317034296         99999\n",
       "7315009609         99999\n",
       "7316789567         99888\n",
       "7315520204         99888\n",
       "7315632211         99700\n",
       "7316386358         99000\n",
       "7316388850         99000\n",
       "7315923139         98750\n",
       "7316342215         97900\n",
       "7307730715         97500\n",
       "7315350737         95995\n",
       "7309762016         95991\n",
       "7316693780         95991\n",
       "7308001892         95000\n",
       "7316478966         95000\n",
       "7310914472         94999\n",
       "7313253137         94998\n",
       "7314900952         94995\n",
       "7314898527         94995\n",
       "7314900196         94995\n",
       "7314901621         94995\n",
       "Name: price, dtype: int64"
      ]
     },
     "execution_count": 84,
     "metadata": {},
     "output_type": "execute_result"
    }
   ],
   "source": [
    "price_sorted = df['price'].sort_values(ascending=False)\n",
    "price_sorted.head(50)"
   ]
  },
  {
   "cell_type": "code",
   "execution_count": 85,
   "id": "b5b269ff",
   "metadata": {},
   "outputs": [
    {
     "data": {
      "text/html": [
       "<div>\n",
       "<style scoped>\n",
       "    .dataframe tbody tr th:only-of-type {\n",
       "        vertical-align: middle;\n",
       "    }\n",
       "\n",
       "    .dataframe tbody tr th {\n",
       "        vertical-align: top;\n",
       "    }\n",
       "\n",
       "    .dataframe thead th {\n",
       "        text-align: right;\n",
       "    }\n",
       "</style>\n",
       "<table border=\"1\" class=\"dataframe\">\n",
       "  <thead>\n",
       "    <tr style=\"text-align: right;\">\n",
       "      <th></th>\n",
       "      <th>price</th>\n",
       "      <th>year</th>\n",
       "      <th>odometer</th>\n",
       "      <th>county</th>\n",
       "      <th>lat</th>\n",
       "      <th>long</th>\n",
       "    </tr>\n",
       "  </thead>\n",
       "  <tbody>\n",
       "    <tr>\n",
       "      <th>count</th>\n",
       "      <td>58138.000000</td>\n",
       "      <td>58138.000000</td>\n",
       "      <td>5.786700e+04</td>\n",
       "      <td>0.0</td>\n",
       "      <td>57614.000000</td>\n",
       "      <td>57614.000000</td>\n",
       "    </tr>\n",
       "    <tr>\n",
       "      <th>mean</th>\n",
       "      <td>21393.866060</td>\n",
       "      <td>2010.577608</td>\n",
       "      <td>1.050389e+05</td>\n",
       "      <td>NaN</td>\n",
       "      <td>38.792478</td>\n",
       "      <td>-94.915228</td>\n",
       "    </tr>\n",
       "    <tr>\n",
       "      <th>std</th>\n",
       "      <td>16593.864513</td>\n",
       "      <td>11.030882</td>\n",
       "      <td>1.884761e+05</td>\n",
       "      <td>NaN</td>\n",
       "      <td>5.873017</td>\n",
       "      <td>17.789943</td>\n",
       "    </tr>\n",
       "    <tr>\n",
       "      <th>min</th>\n",
       "      <td>101.000000</td>\n",
       "      <td>1913.000000</td>\n",
       "      <td>0.000000e+00</td>\n",
       "      <td>NaN</td>\n",
       "      <td>-0.110958</td>\n",
       "      <td>-159.530300</td>\n",
       "    </tr>\n",
       "    <tr>\n",
       "      <th>25%</th>\n",
       "      <td>8900.000000</td>\n",
       "      <td>2008.000000</td>\n",
       "      <td>4.619500e+04</td>\n",
       "      <td>NaN</td>\n",
       "      <td>34.950600</td>\n",
       "      <td>-111.924900</td>\n",
       "    </tr>\n",
       "    <tr>\n",
       "      <th>50%</th>\n",
       "      <td>17600.000000</td>\n",
       "      <td>2013.000000</td>\n",
       "      <td>9.669400e+04</td>\n",
       "      <td>NaN</td>\n",
       "      <td>39.628043</td>\n",
       "      <td>-89.108146</td>\n",
       "    </tr>\n",
       "    <tr>\n",
       "      <th>75%</th>\n",
       "      <td>30590.000000</td>\n",
       "      <td>2017.000000</td>\n",
       "      <td>1.423170e+05</td>\n",
       "      <td>NaN</td>\n",
       "      <td>42.681010</td>\n",
       "      <td>-81.347605</td>\n",
       "    </tr>\n",
       "    <tr>\n",
       "      <th>max</th>\n",
       "      <td>999999.000000</td>\n",
       "      <td>2022.000000</td>\n",
       "      <td>1.000000e+07</td>\n",
       "      <td>NaN</td>\n",
       "      <td>76.714376</td>\n",
       "      <td>94.163200</td>\n",
       "    </tr>\n",
       "  </tbody>\n",
       "</table>\n",
       "</div>"
      ],
      "text/plain": [
       "               price          year      odometer  county           lat  \\\n",
       "count   58138.000000  58138.000000  5.786700e+04     0.0  57614.000000   \n",
       "mean    21393.866060   2010.577608  1.050389e+05     NaN     38.792478   \n",
       "std     16593.864513     11.030882  1.884761e+05     NaN      5.873017   \n",
       "min       101.000000   1913.000000  0.000000e+00     NaN     -0.110958   \n",
       "25%      8900.000000   2008.000000  4.619500e+04     NaN     34.950600   \n",
       "50%     17600.000000   2013.000000  9.669400e+04     NaN     39.628043   \n",
       "75%     30590.000000   2017.000000  1.423170e+05     NaN     42.681010   \n",
       "max    999999.000000   2022.000000  1.000000e+07     NaN     76.714376   \n",
       "\n",
       "               long  \n",
       "count  57614.000000  \n",
       "mean     -94.915228  \n",
       "std       17.789943  \n",
       "min     -159.530300  \n",
       "25%     -111.924900  \n",
       "50%      -89.108146  \n",
       "75%      -81.347605  \n",
       "max       94.163200  "
      ]
     },
     "execution_count": 85,
     "metadata": {},
     "output_type": "execute_result"
    }
   ],
   "source": [
    "df = df[df['price'] < 10000000]\n",
    "df = df[df['price'] > 100]\n",
    "df.describe()"
   ]
  },
  {
   "cell_type": "code",
   "execution_count": 86,
   "id": "222fba82",
   "metadata": {},
   "outputs": [
    {
     "data": {
      "text/plain": [
       "ford    58138\n",
       "Name: manufacturer, dtype: int64"
      ]
     },
     "execution_count": 86,
     "metadata": {},
     "output_type": "execute_result"
    }
   ],
   "source": [
    "df['manufacturer'].value_counts()"
   ]
  },
  {
   "cell_type": "code",
   "execution_count": null,
   "id": "93e790ae",
   "metadata": {},
   "outputs": [],
   "source": [
    "df = df[df['manufacturer'] == 'ford']"
   ]
  },
  {
   "cell_type": "code",
   "execution_count": 87,
   "id": "0bb188b3",
   "metadata": {},
   "outputs": [
    {
     "data": {
      "text/plain": [
       "(58138, 25)"
      ]
     },
     "execution_count": 87,
     "metadata": {},
     "output_type": "execute_result"
    }
   ],
   "source": [
    "df.shape"
   ]
  },
  {
   "cell_type": "markdown",
   "id": "77cfde02",
   "metadata": {},
   "source": [
    "## Tipovi podataka"
   ]
  },
  {
   "cell_type": "markdown",
   "id": "d3f47c04",
   "metadata": {},
   "source": [
    "Nakon pregleda podataka, nastavljam sa njihovom obradom. Prvi korak u obradi je pregled tipa stupaca i preoblikovanje tipa ukoliko je to potrebo. Može se vidjeti da je stupac 'year' tipa float64 pa ga je potrebno pretvoriti u tip int64. Također ću izvući broj cilindara iz stringa stupaca cylinders i pretvoriti ga u tip int32 jer model regresije radi samo sa numeričkim vrijednostima.  Na posljetku ću prebaciti stupac 'posting_date' iz object u datetime, a odmah i pretvoriti u numeričku vrijednost tako što ću izračunati koliko je dana prošlo od objva na Craigslistu do danas."
   ]
  },
  {
   "cell_type": "code",
   "execution_count": 88,
   "id": "ab28ea42",
   "metadata": {},
   "outputs": [
    {
     "data": {
      "text/plain": [
       "url              object\n",
       "region           object\n",
       "region_url       object\n",
       "price             int64\n",
       "year            float64\n",
       "manufacturer     object\n",
       "model            object\n",
       "condition        object\n",
       "cylinders        object\n",
       "fuel             object\n",
       "odometer        float64\n",
       "title_status     object\n",
       "transmission     object\n",
       "VIN              object\n",
       "drive            object\n",
       "size             object\n",
       "type             object\n",
       "paint_color      object\n",
       "image_url        object\n",
       "description      object\n",
       "county          float64\n",
       "state            object\n",
       "lat             float64\n",
       "long            float64\n",
       "posting_date     object\n",
       "dtype: object"
      ]
     },
     "execution_count": 88,
     "metadata": {},
     "output_type": "execute_result"
    }
   ],
   "source": [
    "df.dtypes"
   ]
  },
  {
   "cell_type": "code",
   "execution_count": 89,
   "id": "3800c3dd",
   "metadata": {},
   "outputs": [
    {
     "data": {
      "text/plain": [
       "8 cylinders     17082\n",
       "6 cylinders     12871\n",
       "4 cylinders      7483\n",
       "10 cylinders      916\n",
       "other             124\n",
       "3 cylinders       119\n",
       "5 cylinders        29\n",
       "12 cylinders        3\n",
       "Name: cylinders, dtype: int64"
      ]
     },
     "execution_count": 89,
     "metadata": {},
     "output_type": "execute_result"
    }
   ],
   "source": [
    "df['cylinders'].value_counts()"
   ]
  },
  {
   "cell_type": "code",
   "execution_count": 90,
   "id": "5ceb6b8d",
   "metadata": {},
   "outputs": [
    {
     "data": {
      "text/plain": [
       "url              object\n",
       "region           object\n",
       "region_url       object\n",
       "price             int64\n",
       "year              Int64\n",
       "manufacturer     object\n",
       "model            object\n",
       "condition        object\n",
       "cylinders         Int32\n",
       "fuel             object\n",
       "odometer        float64\n",
       "title_status     object\n",
       "transmission     object\n",
       "VIN              object\n",
       "drive            object\n",
       "size             object\n",
       "type             object\n",
       "paint_color      object\n",
       "image_url        object\n",
       "description      object\n",
       "county          float64\n",
       "state            object\n",
       "lat             float64\n",
       "long            float64\n",
       "posting_date      int64\n",
       "dtype: object"
      ]
     },
     "execution_count": 90,
     "metadata": {},
     "output_type": "execute_result"
    }
   ],
   "source": [
    "from datetime import datetime\n",
    "\n",
    "df['year'] = pd.to_numeric(df['year'], errors='coerce').astype(pd.Int64Dtype())\n",
    "df['cylinders'].apply(lambda x: '6 cylinders' if x=='other' else x)\n",
    "df['cylinders'] = pd.to_numeric(df['cylinders'].apply(lambda x: str(x).split()[0]), errors='coerce').astype(pd.Int32Dtype())\n",
    "df['posting_date'] = df['posting_date'].apply(lambda x: datetime.strptime(x, \"%Y-%m-%dT%H:%M:%S%z\").replace(tzinfo=None))\n",
    "\n",
    "today = datetime.today()\n",
    "df['posting_date'] = (today - df['posting_date']).dt.days\n",
    "df.dtypes"
   ]
  },
  {
   "cell_type": "markdown",
   "id": "161b448b",
   "metadata": {},
   "source": [
    "## Odabir značajki"
   ]
  },
  {
   "cell_type": "markdown",
   "id": "28e18627",
   "metadata": {},
   "source": [
    "Sve kolone nisu potrebne za predikciju cijene automibila, zbog čega radim novi skup podataka koji će sadržavati podskup kolona originalnog skupa podataka koji bi mogli biti od važnosti u predikciji. Kolona county je izbačena jer sadrži samo NaN vrijednosti. Neke od kolona poput url, region_url, title_status, VIN, image_url, description nisu od koristi u predikciji te nisu uključene u skup podataka koji će se koristiti za trening modela."
   ]
  },
  {
   "cell_type": "code",
   "execution_count": 104,
   "id": "d0c7a5bf",
   "metadata": {},
   "outputs": [],
   "source": [
    "df_feat = df.copy()\n",
    "df_feat = df_feat[['price','year','condition','cylinders','odometer','fuel', 'title_status', 'transmission','drive','size','type','posting_date']]"
   ]
  },
  {
   "cell_type": "code",
   "execution_count": 105,
   "id": "55ac72b5",
   "metadata": {},
   "outputs": [
    {
     "data": {
      "text/plain": [
       "(58138, 12)"
      ]
     },
     "execution_count": 105,
     "metadata": {},
     "output_type": "execute_result"
    }
   ],
   "source": [
    "df_feat.shape"
   ]
  },
  {
   "cell_type": "markdown",
   "id": "683d25bc",
   "metadata": {},
   "source": [
    "## Podjela skupa podataka za fazu treniranja"
   ]
  },
  {
   "cell_type": "markdown",
   "id": "8a204cba",
   "metadata": {},
   "source": [
    "Prije imputacije nedostajućih vrijednosti, potrebno je podijeliti skup podataka na dijelove. Razlog je to što je potrebno vrijednost kojom će se nedostajeća vrijednost zamijeniti, primjerice prilikom računanja moda, izračunati na skupu podataka na kojem se model trenira jer model ne bi trebao biti svjestan podataka na kojima će se testirati njegove performanse."
   ]
  },
  {
   "cell_type": "markdown",
   "id": "692ba3e3",
   "metadata": {},
   "source": [
    "Obrađeni je skup podataka potrebno podijelit na više dijelova kako bi se nad njima mogla raditi regresija. Najčešće se skup dijeli na podskup za trening, podskup za validaciju te podskup za test, a može se i dodatno podijeliti na podskup za tuning. Podskup za trening služi za treniranje modela, odnosno podešavanje parametara modela, a podskup za validaciju za usporedbu modela sa različitim hiperparametrima. Ta se usporedba radi na skupu za validaciju koji je različit od skupa za treniranje kako bi se izbjegla pristranost jer statistički gledano nije ispravno mjeriti točnost modela na skupu na kojem je treniran. Slična je uporaba i podskupa za tuning. On se koristi kad postoje hiperparametri na više razina. Podskup za test služi za konačnu evaluaciju modela nakon što su određeni svi parametri i hiperparameteri. Također se originalni skup može podijeliti i na 10 (k) dijelo kad bi se radila 10-fold (k-fold) unakrsna validacija (cross-validation). Nakon što se podese hiperparametri modela, model se trenira na cjelokupnom skupu podataka prije nego se deploy-a."
   ]
  },
  {
   "cell_type": "code",
   "execution_count": 106,
   "id": "806d13a6",
   "metadata": {},
   "outputs": [],
   "source": [
    "from sklearn.model_selection import train_test_split\n",
    "\n",
    "df_train, df_test = train_test_split(df_feat, test_size=0.2, random_state=42)\n",
    "df_train, df_val =  train_test_split(df_train, test_size=0.2, random_state=42)"
   ]
  },
  {
   "cell_type": "markdown",
   "id": "52bd30e3",
   "metadata": {},
   "source": [
    "## Nedostajuće vrijednosti"
   ]
  },
  {
   "cell_type": "code",
   "execution_count": 107,
   "id": "a95bd594",
   "metadata": {},
   "outputs": [
    {
     "data": {
      "text/plain": [
       "price               0\n",
       "year                0\n",
       "condition       14228\n",
       "cylinders       12525\n",
       "odometer          178\n",
       "fuel              199\n",
       "title_status      669\n",
       "transmission      198\n",
       "drive            7441\n",
       "size            24655\n",
       "type             6787\n",
       "posting_date        0\n",
       "dtype: int64"
      ]
     },
     "execution_count": 107,
     "metadata": {},
     "output_type": "execute_result"
    }
   ],
   "source": [
    "df_train.isna().sum()"
   ]
  },
  {
   "cell_type": "markdown",
   "id": "461082d8",
   "metadata": {},
   "source": [
    "Postotak nedostajućih vrijednosti po koloni:"
   ]
  },
  {
   "cell_type": "code",
   "execution_count": 108,
   "id": "84ecbf74",
   "metadata": {},
   "outputs": [
    {
     "data": {
      "text/plain": [
       "price            0.000000\n",
       "year             0.000000\n",
       "condition       38.239088\n",
       "cylinders       33.662116\n",
       "odometer         0.478392\n",
       "fuel             0.534831\n",
       "title_status     1.798000\n",
       "transmission     0.532144\n",
       "drive           19.998387\n",
       "size            66.262632\n",
       "type            18.240701\n",
       "posting_date     0.000000\n",
       "dtype: float64"
      ]
     },
     "execution_count": 108,
     "metadata": {},
     "output_type": "execute_result"
    }
   ],
   "source": [
    "df_train.isna().sum() / len(df_train) * 100"
   ]
  },
  {
   "cell_type": "markdown",
   "id": "9bbb011e",
   "metadata": {},
   "source": [
    "Ovaj skup podataka sadrži velik broj nedostajućih vrijednosti te je potrebno proći kolonu po kolonu i odrediti na koji će se način pristupiti imputaciji podataka. Imputacija podataka je bitna jer mnogi regresijski modeli ne mogu baratati sa nedostajućim vrijednostima. Različite se metode koriste ovisno o tome jesu li podaci numerički ili kategoričiki. Ukoliko su podaci numerički, podaci se mogu imputirati tako što se umjesto nedostajuće vrijednosti stavi srednja vrijednost, medijan ili mod. Korištenje medijana i moda ima prednost u tome što na njega ne utječu outlieri koliko na srednju vrijednost. S druge strane, ove metode ne uzimaju u obrzir koreliranost podataka. Također je moguće koristit kNN metodu gdje se nedostajeća vrijednost zamijeni ovisno o primjerima koji su najbliži primjeru koji je u pitanju."
   ]
  },
  {
   "cell_type": "markdown",
   "id": "aa282baa",
   "metadata": {},
   "source": [
    "Moguće je i u potpunosti zanemarati neku od kolona ukoliko je broj nedostajućih vrijednosti prevelik. Takav je bio slučaj sa kolonom county kod odabira značajki koja se sastoji iskljčivo od NaN vrijednosti."
   ]
  },
  {
   "cell_type": "markdown",
   "id": "8c15e0b6",
   "metadata": {},
   "source": [
    "Kod kategoričkih varijabli je češće korištenje moda (najčešće vrijednsoti) kao zamjenu za nedostajuće vrijednosti. Kod numeričkih je podataka češće korištenje srednje vrijednosti i medijana jer oni bolje opisiuju numeričke varijable. Mod se koristi kad kolona koja je u pitanju nema velik postotak nedostajućih vrijednosti. Kad postoji mnogo nedostajućih vrijednosti, kao što je kolona cylinders, onda je bolje koristiti neku od prediktivnih metoda poput kNN."
   ]
  },
  {
   "cell_type": "markdown",
   "id": "851d2e69",
   "metadata": {},
   "source": [
    "Potrebno je i pregledati zavisnost varijabli sa cijenom kako bi ustanovili je li potrebno koristiti sve varijable u treniranju modela."
   ]
  },
  {
   "cell_type": "markdown",
   "id": "27c52a2e",
   "metadata": {},
   "source": [
    "Krenimo prvo sa imputacijom podataka kod numeričkih varijabli."
   ]
  },
  {
   "cell_type": "markdown",
   "id": "97dac61d",
   "metadata": {},
   "source": [
    "### Year"
   ]
  },
  {
   "cell_type": "code",
   "execution_count": 109,
   "id": "222ed52a",
   "metadata": {},
   "outputs": [
    {
     "data": {
      "text/plain": [
       "<seaborn.axisgrid.JointGrid at 0x236707e4be0>"
      ]
     },
     "execution_count": 109,
     "metadata": {},
     "output_type": "execute_result"
    },
    {
     "data": {
      "image/png": "[encoded data removed]",
      "text/plain": [
       "<Figure size 432x432 with 3 Axes>"
      ]
     },
     "metadata": {
      "needs_background": "light"
     },
     "output_type": "display_data"
    }
   ],
   "source": [
    "df_price = df_train[df_train['year']>1990].copy()\n",
    "sns.jointplot(x='year',y='price',data=df_price,kind='scatter')"
   ]
  },
  {
   "cell_type": "code",
   "execution_count": 97,
   "id": "46ccc815",
   "metadata": {},
   "outputs": [
    {
     "data": {
      "text/html": [
       "<div>\n",
       "<style scoped>\n",
       "    .dataframe tbody tr th:only-of-type {\n",
       "        vertical-align: middle;\n",
       "    }\n",
       "\n",
       "    .dataframe tbody tr th {\n",
       "        vertical-align: top;\n",
       "    }\n",
       "\n",
       "    .dataframe thead th {\n",
       "        text-align: right;\n",
       "    }\n",
       "</style>\n",
       "<table border=\"1\" class=\"dataframe\">\n",
       "  <thead>\n",
       "    <tr style=\"text-align: right;\">\n",
       "      <th></th>\n",
       "      <th>price</th>\n",
       "    </tr>\n",
       "    <tr>\n",
       "      <th>year</th>\n",
       "      <th></th>\n",
       "    </tr>\n",
       "  </thead>\n",
       "  <tbody>\n",
       "    <tr>\n",
       "      <th>1991</th>\n",
       "      <td>6934.085714</td>\n",
       "    </tr>\n",
       "    <tr>\n",
       "      <th>1992</th>\n",
       "      <td>8666.961538</td>\n",
       "    </tr>\n",
       "    <tr>\n",
       "      <th>1993</th>\n",
       "      <td>6906.623377</td>\n",
       "    </tr>\n",
       "    <tr>\n",
       "      <th>1994</th>\n",
       "      <td>7068.616162</td>\n",
       "    </tr>\n",
       "    <tr>\n",
       "      <th>1995</th>\n",
       "      <td>7658.517730</td>\n",
       "    </tr>\n",
       "    <tr>\n",
       "      <th>1996</th>\n",
       "      <td>9942.348571</td>\n",
       "    </tr>\n",
       "    <tr>\n",
       "      <th>1997</th>\n",
       "      <td>7683.800000</td>\n",
       "    </tr>\n",
       "    <tr>\n",
       "      <th>1998</th>\n",
       "      <td>6771.000000</td>\n",
       "    </tr>\n",
       "    <tr>\n",
       "      <th>1999</th>\n",
       "      <td>11002.910843</td>\n",
       "    </tr>\n",
       "    <tr>\n",
       "      <th>2000</th>\n",
       "      <td>9391.334152</td>\n",
       "    </tr>\n",
       "    <tr>\n",
       "      <th>2001</th>\n",
       "      <td>9811.068182</td>\n",
       "    </tr>\n",
       "    <tr>\n",
       "      <th>2002</th>\n",
       "      <td>9351.198261</td>\n",
       "    </tr>\n",
       "    <tr>\n",
       "      <th>2003</th>\n",
       "      <td>8648.517073</td>\n",
       "    </tr>\n",
       "    <tr>\n",
       "      <th>2004</th>\n",
       "      <td>9362.041570</td>\n",
       "    </tr>\n",
       "    <tr>\n",
       "      <th>2005</th>\n",
       "      <td>8694.963370</td>\n",
       "    </tr>\n",
       "    <tr>\n",
       "      <th>2006</th>\n",
       "      <td>10942.987103</td>\n",
       "    </tr>\n",
       "    <tr>\n",
       "      <th>2007</th>\n",
       "      <td>9953.872651</td>\n",
       "    </tr>\n",
       "    <tr>\n",
       "      <th>2008</th>\n",
       "      <td>13296.230231</td>\n",
       "    </tr>\n",
       "    <tr>\n",
       "      <th>2009</th>\n",
       "      <td>10827.029484</td>\n",
       "    </tr>\n",
       "    <tr>\n",
       "      <th>2010</th>\n",
       "      <td>11928.505447</td>\n",
       "    </tr>\n",
       "    <tr>\n",
       "      <th>2011</th>\n",
       "      <td>17199.150934</td>\n",
       "    </tr>\n",
       "    <tr>\n",
       "      <th>2012</th>\n",
       "      <td>17889.552657</td>\n",
       "    </tr>\n",
       "    <tr>\n",
       "      <th>2013</th>\n",
       "      <td>17353.461432</td>\n",
       "    </tr>\n",
       "    <tr>\n",
       "      <th>2014</th>\n",
       "      <td>19938.401198</td>\n",
       "    </tr>\n",
       "    <tr>\n",
       "      <th>2015</th>\n",
       "      <td>25842.093970</td>\n",
       "    </tr>\n",
       "    <tr>\n",
       "      <th>2016</th>\n",
       "      <td>26681.998252</td>\n",
       "    </tr>\n",
       "    <tr>\n",
       "      <th>2017</th>\n",
       "      <td>31023.292502</td>\n",
       "    </tr>\n",
       "    <tr>\n",
       "      <th>2018</th>\n",
       "      <td>31753.584877</td>\n",
       "    </tr>\n",
       "    <tr>\n",
       "      <th>2019</th>\n",
       "      <td>38516.856844</td>\n",
       "    </tr>\n",
       "    <tr>\n",
       "      <th>2020</th>\n",
       "      <td>41673.934741</td>\n",
       "    </tr>\n",
       "    <tr>\n",
       "      <th>2021</th>\n",
       "      <td>54681.661538</td>\n",
       "    </tr>\n",
       "    <tr>\n",
       "      <th>2022</th>\n",
       "      <td>4790.000000</td>\n",
       "    </tr>\n",
       "  </tbody>\n",
       "</table>\n",
       "</div>"
      ],
      "text/plain": [
       "             price\n",
       "year              \n",
       "1991   6934.085714\n",
       "1992   8666.961538\n",
       "1993   6906.623377\n",
       "1994   7068.616162\n",
       "1995   7658.517730\n",
       "1996   9942.348571\n",
       "1997   7683.800000\n",
       "1998   6771.000000\n",
       "1999  11002.910843\n",
       "2000   9391.334152\n",
       "2001   9811.068182\n",
       "2002   9351.198261\n",
       "2003   8648.517073\n",
       "2004   9362.041570\n",
       "2005   8694.963370\n",
       "2006  10942.987103\n",
       "2007   9953.872651\n",
       "2008  13296.230231\n",
       "2009  10827.029484\n",
       "2010  11928.505447\n",
       "2011  17199.150934\n",
       "2012  17889.552657\n",
       "2013  17353.461432\n",
       "2014  19938.401198\n",
       "2015  25842.093970\n",
       "2016  26681.998252\n",
       "2017  31023.292502\n",
       "2018  31753.584877\n",
       "2019  38516.856844\n",
       "2020  41673.934741\n",
       "2021  54681.661538\n",
       "2022   4790.000000"
      ]
     },
     "execution_count": 97,
     "metadata": {},
     "output_type": "execute_result"
    }
   ],
   "source": [
    "df_price.pivot_table(values=['price'], index=['year'], aggfunc='mean')"
   ]
  },
  {
   "cell_type": "markdown",
   "id": "d4185c8b",
   "metadata": {},
   "source": [
    "Čini se da kolona year ima utjecaj na cijenu te da je cijena veća sa povećanjem vrijednosti varijable year pa ćemo sačuvati ovu varijablu. Mali postotak podataka sadrži NaN vrijednost u koloni year (0.3%), a ne vidim nijedan logičan izbor imputacije vrijednosti za ovakav tip kolone pa ću retke koji sadrže ove nedostajuće vrijednosti ukloniti iz skupa podataka."
   ]
  },
  {
   "cell_type": "code",
   "execution_count": 110,
   "id": "6b823f21",
   "metadata": {},
   "outputs": [],
   "source": [
    "df_train = df_train.dropna(subset=['year'])\n",
    "df_val = df_val.dropna(subset=['year'])\n",
    "df_test = df_test.dropna(subset=['year'])"
   ]
  },
  {
   "cell_type": "markdown",
   "id": "e2626419",
   "metadata": {},
   "source": [
    "### Cylinders"
   ]
  },
  {
   "cell_type": "markdown",
   "id": "f8bef76c",
   "metadata": {},
   "source": [
    "Sljedeće su grafovi korišteni prilikom odluke oko imputacije nepostojećih vrijenosti u koloni 'cylinders'. Pokušao sam saznati postoji li neka korelacija između kolone 'cylinders' i ostalih kolona."
   ]
  },
  {
   "cell_type": "code",
   "execution_count": 20,
   "id": "2e3e8ede",
   "metadata": {},
   "outputs": [
    {
     "data": {
      "text/plain": [
       "<seaborn.axisgrid.FacetGrid at 0x236ba942b80>"
      ]
     },
     "execution_count": 20,
     "metadata": {},
     "output_type": "execute_result"
    },
    {
     "data": {
      "image/png": "[encoded data removed]",
      "text/plain": [
       "<Figure size 360x360 with 1 Axes>"
      ]
     },
     "metadata": {
      "needs_background": "light"
     },
     "output_type": "display_data"
    }
   ],
   "source": [
    "sns.catplot(x='cylinders',y='type',data=df_train,kind='bar')"
   ]
  },
  {
   "cell_type": "code",
   "execution_count": 21,
   "id": "40e6816f",
   "metadata": {},
   "outputs": [
    {
     "data": {
      "text/plain": [
       "<seaborn.axisgrid.FacetGrid at 0x236ba94d280>"
      ]
     },
     "execution_count": 21,
     "metadata": {},
     "output_type": "execute_result"
    },
    {
     "data": {
      "image/png": "[encoded data removed]",
      "text/plain": [
       "<Figure size 360x360 with 1 Axes>"
      ]
     },
     "metadata": {
      "needs_background": "light"
     },
     "output_type": "display_data"
    }
   ],
   "source": [
    "sns.catplot(x='cylinders',y='fuel',data=df_train,kind='bar')"
   ]
  },
  {
   "cell_type": "code",
   "execution_count": 22,
   "id": "8b03f962",
   "metadata": {},
   "outputs": [
    {
     "data": {
      "text/plain": [
       "<seaborn.axisgrid.FacetGrid at 0x236bac84ca0>"
      ]
     },
     "execution_count": 22,
     "metadata": {},
     "output_type": "execute_result"
    },
    {
     "data": {
      "image/png": "[encoded data removed]",
      "text/plain": [
       "<Figure size 360x360 with 1 Axes>"
      ]
     },
     "metadata": {
      "needs_background": "light"
     },
     "output_type": "display_data"
    }
   ],
   "source": [
    "sns.catplot(x='cylinders',y='size',data=df_train,kind='bar')"
   ]
  },
  {
   "cell_type": "code",
   "execution_count": 23,
   "id": "8647d7b5",
   "metadata": {},
   "outputs": [
    {
     "data": {
      "text/plain": [
       "6     88164\n",
       "4     72585\n",
       "8     66295\n",
       "5      1660\n",
       "10     1170\n",
       "3       603\n",
       "12      200\n",
       "Name: cylinders, dtype: Int64"
      ]
     },
     "execution_count": 23,
     "metadata": {},
     "output_type": "execute_result"
    }
   ],
   "source": [
    "df_feat['cylinders'].value_counts()"
   ]
  },
  {
   "cell_type": "code",
   "execution_count": 99,
   "id": "bcd8bfdb",
   "metadata": {},
   "outputs": [
    {
     "data": {
      "text/plain": [
       "type\n",
       "SUV             6.0\n",
       "bus            10.0\n",
       "convertible     8.0\n",
       "coupe           8.0\n",
       "hatchback       4.0\n",
       "mini-van        6.0\n",
       "offroad         8.0\n",
       "other           8.0\n",
       "pickup          8.0\n",
       "sedan           4.0\n",
       "truck           8.0\n",
       "van             6.0\n",
       "wagon           6.0\n",
       "Name: cylinders, dtype: Float64"
      ]
     },
     "execution_count": 99,
     "metadata": {},
     "output_type": "execute_result"
    }
   ],
   "source": [
    "cyl = df_train.groupby(['type'])['cylinders'].median()\n",
    "cyl"
   ]
  },
  {
   "cell_type": "code",
   "execution_count": 100,
   "id": "f632804d",
   "metadata": {},
   "outputs": [
    {
     "data": {
      "text/plain": [
       "<seaborn.axisgrid.FacetGrid at 0x23672fb9490>"
      ]
     },
     "execution_count": 100,
     "metadata": {},
     "output_type": "execute_result"
    },
    {
     "data": {
      "image/png": "[encoded data removed]",
      "text/plain": [
       "<Figure size 360x360 with 1 Axes>"
      ]
     },
     "metadata": {
      "needs_background": "light"
     },
     "output_type": "display_data"
    }
   ],
   "source": [
    "df_cyl = df_feat.copy()\n",
    "df_cyl = df_cyl[~df_cyl['cylinders'].isna()]\n",
    "sns.catplot(x='cylinders',y='price',data=df_cyl,kind='bar')"
   ]
  },
  {
   "cell_type": "markdown",
   "id": "02942440",
   "metadata": {},
   "source": [
    "Čini se da cijena ovisi o broju cilindara u automobilu. Automobil može proizvesti veću snagu ukoliko ima više cilindara pa je koreliranost sa cijenom donekle intuitivna. Također možemo vidjeti da automobili koji su različitog tipa i veličine u prosjeku sadrže različit broj cilindara pa ću nedostajeće vrijednosti u ovoj koloni zamjeniti sa medijanom cilindara gledano prema tipu automobila. Problem je što i ta kolone ima nedostajuće vrijednosti pa ću se vratiti na ovu kolonu kasnije."
   ]
  },
  {
   "cell_type": "code",
   "execution_count": 111,
   "id": "cbbf99aa",
   "metadata": {},
   "outputs": [
    {
     "data": {
      "text/plain": [
       "6.0"
      ]
     },
     "execution_count": 111,
     "metadata": {},
     "output_type": "execute_result"
    }
   ],
   "source": [
    "cyl_median = df_train['cylinders'].median()\n",
    "\n",
    "df_train['cylinders'].fillna(cyl_median, inplace=True)\n",
    "df_val['cylinders'].fillna(cyl_median, inplace=True)\n",
    "df_test['cylinders'].fillna(cyl_median, inplace=True)\n",
    "\n",
    "cyl_median"
   ]
  },
  {
   "cell_type": "markdown",
   "id": "ef43ba22",
   "metadata": {},
   "source": [
    "### Odometer"
   ]
  },
  {
   "cell_type": "code",
   "execution_count": 27,
   "id": "a7c0df80",
   "metadata": {},
   "outputs": [
    {
     "data": {
      "image/png": "[encoded data removed]",
      "text/plain": [
       "<Figure size 432x288 with 1 Axes>"
      ]
     },
     "metadata": {
      "needs_background": "light"
     },
     "output_type": "display_data"
    }
   ],
   "source": [
    "fig, ax = plt.subplots()\n",
    "sns.histplot(df_train['odometer'], ax=ax)\n",
    "ax.set_xlim(0,500000)\n",
    "plt.show()"
   ]
  },
  {
   "cell_type": "markdown",
   "id": "320f278b",
   "metadata": {},
   "source": [
    "Nedostajeće vrijednosti u koloni odometer ću zamijeniti srednjom medijanom te kolone."
   ]
  },
  {
   "cell_type": "code",
   "execution_count": 112,
   "id": "94eb3ca2",
   "metadata": {},
   "outputs": [
    {
     "data": {
      "text/plain": [
       "96801.0"
      ]
     },
     "execution_count": 112,
     "metadata": {},
     "output_type": "execute_result"
    }
   ],
   "source": [
    "odom_median = df_train['odometer'].median()\n",
    "df_train['odometer'] = df_train['odometer'].fillna(odom_median)\n",
    "df_val['odometer'] = df_val['odometer'].fillna(odom_median)\n",
    "df_test['odometer'] = df_test['odometer'].fillna(odom_median)\n",
    "odom_median"
   ]
  },
  {
   "cell_type": "markdown",
   "id": "cd57e698",
   "metadata": {},
   "source": [
    "### Kategoričke vrijednosti"
   ]
  },
  {
   "cell_type": "markdown",
   "id": "810e67e0",
   "metadata": {},
   "source": [
    "U nastavku ću pogledati kakav je odnos cijene i kategoričkih varijabli."
   ]
  },
  {
   "cell_type": "code",
   "execution_count": 128,
   "id": "4fdfbf21",
   "metadata": {},
   "outputs": [
    {
     "name": "stderr",
     "output_type": "stream",
     "text": [
      "C:\\Users\\pebe1\\AppData\\Local\\Temp\\ipykernel_2404\\3149947368.py:5: UserWarning: Boolean Series key will be reindexed to match DataFrame index.\n",
      "  df_plot = df_plot[df_train['price']<quant[0.8]]\n"
     ]
    }
   ],
   "source": [
    "# korišteno za potrebe plotova\n",
    "quant = df_train['price'].quantile([0.2,0.8])\n",
    "\n",
    "df_plot = df_train[df_train['price']>quant[0.2]]\n",
    "df_plot = df_plot[df_train['price']<quant[0.8]]"
   ]
  },
  {
   "cell_type": "markdown",
   "id": "23e7cbb2",
   "metadata": {},
   "source": [
    "#### Manufacturer"
   ]
  },
  {
   "cell_type": "code",
   "execution_count": 113,
   "id": "4829b494",
   "metadata": {},
   "outputs": [
    {
     "ename": "KeyError",
     "evalue": "'manufacturer'",
     "output_type": "error",
     "traceback": [
      "\u001b[1;31m---------------------------------------------------------------------------\u001b[0m",
      "\u001b[1;31mKeyError\u001b[0m                                  Traceback (most recent call last)",
      "File \u001b[1;32m~\\anaconda3\\lib\\site-packages\\pandas\\core\\indexes\\base.py:3621\u001b[0m, in \u001b[0;36mIndex.get_loc\u001b[1;34m(self, key, method, tolerance)\u001b[0m\n\u001b[0;32m   3620\u001b[0m \u001b[38;5;28;01mtry\u001b[39;00m:\n\u001b[1;32m-> 3621\u001b[0m     \u001b[38;5;28;01mreturn\u001b[39;00m \u001b[38;5;28;43mself\u001b[39;49m\u001b[38;5;241;43m.\u001b[39;49m\u001b[43m_engine\u001b[49m\u001b[38;5;241;43m.\u001b[39;49m\u001b[43mget_loc\u001b[49m\u001b[43m(\u001b[49m\u001b[43mcasted_key\u001b[49m\u001b[43m)\u001b[49m\n\u001b[0;32m   3622\u001b[0m \u001b[38;5;28;01mexcept\u001b[39;00m \u001b[38;5;167;01mKeyError\u001b[39;00m \u001b[38;5;28;01mas\u001b[39;00m err:\n",
      "File \u001b[1;32m~\\anaconda3\\lib\\site-packages\\pandas\\_libs\\index.pyx:136\u001b[0m, in \u001b[0;36mpandas._libs.index.IndexEngine.get_loc\u001b[1;34m()\u001b[0m\n",
      "File \u001b[1;32m~\\anaconda3\\lib\\site-packages\\pandas\\_libs\\index.pyx:163\u001b[0m, in \u001b[0;36mpandas._libs.index.IndexEngine.get_loc\u001b[1;34m()\u001b[0m\n",
      "File \u001b[1;32mpandas\\_libs\\hashtable_class_helper.pxi:5198\u001b[0m, in \u001b[0;36mpandas._libs.hashtable.PyObjectHashTable.get_item\u001b[1;34m()\u001b[0m\n",
      "File \u001b[1;32mpandas\\_libs\\hashtable_class_helper.pxi:5206\u001b[0m, in \u001b[0;36mpandas._libs.hashtable.PyObjectHashTable.get_item\u001b[1;34m()\u001b[0m\n",
      "\u001b[1;31mKeyError\u001b[0m: 'manufacturer'",
      "\nThe above exception was the direct cause of the following exception:\n",
      "\u001b[1;31mKeyError\u001b[0m                                  Traceback (most recent call last)",
      "Input \u001b[1;32mIn [113]\u001b[0m, in \u001b[0;36m<cell line: 1>\u001b[1;34m()\u001b[0m\n\u001b[1;32m----> 1\u001b[0m \u001b[43mdf_feat\u001b[49m\u001b[43m[\u001b[49m\u001b[38;5;124;43m'\u001b[39;49m\u001b[38;5;124;43mmanufacturer\u001b[39;49m\u001b[38;5;124;43m'\u001b[39;49m\u001b[43m]\u001b[49m\u001b[38;5;241m.\u001b[39mvalue_counts()\n",
      "File \u001b[1;32m~\\anaconda3\\lib\\site-packages\\pandas\\core\\frame.py:3505\u001b[0m, in \u001b[0;36mDataFrame.__getitem__\u001b[1;34m(self, key)\u001b[0m\n\u001b[0;32m   3503\u001b[0m \u001b[38;5;28;01mif\u001b[39;00m \u001b[38;5;28mself\u001b[39m\u001b[38;5;241m.\u001b[39mcolumns\u001b[38;5;241m.\u001b[39mnlevels \u001b[38;5;241m>\u001b[39m \u001b[38;5;241m1\u001b[39m:\n\u001b[0;32m   3504\u001b[0m     \u001b[38;5;28;01mreturn\u001b[39;00m \u001b[38;5;28mself\u001b[39m\u001b[38;5;241m.\u001b[39m_getitem_multilevel(key)\n\u001b[1;32m-> 3505\u001b[0m indexer \u001b[38;5;241m=\u001b[39m \u001b[38;5;28;43mself\u001b[39;49m\u001b[38;5;241;43m.\u001b[39;49m\u001b[43mcolumns\u001b[49m\u001b[38;5;241;43m.\u001b[39;49m\u001b[43mget_loc\u001b[49m\u001b[43m(\u001b[49m\u001b[43mkey\u001b[49m\u001b[43m)\u001b[49m\n\u001b[0;32m   3506\u001b[0m \u001b[38;5;28;01mif\u001b[39;00m is_integer(indexer):\n\u001b[0;32m   3507\u001b[0m     indexer \u001b[38;5;241m=\u001b[39m [indexer]\n",
      "File \u001b[1;32m~\\anaconda3\\lib\\site-packages\\pandas\\core\\indexes\\base.py:3623\u001b[0m, in \u001b[0;36mIndex.get_loc\u001b[1;34m(self, key, method, tolerance)\u001b[0m\n\u001b[0;32m   3621\u001b[0m     \u001b[38;5;28;01mreturn\u001b[39;00m \u001b[38;5;28mself\u001b[39m\u001b[38;5;241m.\u001b[39m_engine\u001b[38;5;241m.\u001b[39mget_loc(casted_key)\n\u001b[0;32m   3622\u001b[0m \u001b[38;5;28;01mexcept\u001b[39;00m \u001b[38;5;167;01mKeyError\u001b[39;00m \u001b[38;5;28;01mas\u001b[39;00m err:\n\u001b[1;32m-> 3623\u001b[0m     \u001b[38;5;28;01mraise\u001b[39;00m \u001b[38;5;167;01mKeyError\u001b[39;00m(key) \u001b[38;5;28;01mfrom\u001b[39;00m \u001b[38;5;21;01merr\u001b[39;00m\n\u001b[0;32m   3624\u001b[0m \u001b[38;5;28;01mexcept\u001b[39;00m \u001b[38;5;167;01mTypeError\u001b[39;00m:\n\u001b[0;32m   3625\u001b[0m     \u001b[38;5;66;03m# If we have a listlike key, _check_indexing_error will raise\u001b[39;00m\n\u001b[0;32m   3626\u001b[0m     \u001b[38;5;66;03m#  InvalidIndexError. Otherwise we fall through and re-raise\u001b[39;00m\n\u001b[0;32m   3627\u001b[0m     \u001b[38;5;66;03m#  the TypeError.\u001b[39;00m\n\u001b[0;32m   3628\u001b[0m     \u001b[38;5;28mself\u001b[39m\u001b[38;5;241m.\u001b[39m_check_indexing_error(key)\n",
      "\u001b[1;31mKeyError\u001b[0m: 'manufacturer'"
     ]
    }
   ],
   "source": [
    "df_feat['manufacturer'].value_counts()"
   ]
  },
  {
   "cell_type": "code",
   "execution_count": 31,
   "id": "ca1cdbb8",
   "metadata": {},
   "outputs": [
    {
     "data": {
      "image/png": "[encoded data removed]",
      "text/plain": [
       "<Figure size 360x360 with 1 Axes>"
      ]
     },
     "metadata": {
      "needs_background": "light"
     },
     "output_type": "display_data"
    }
   ],
   "source": [
    "ax = sns.catplot(x='manufacturer',y='price', data=df_train, kind='bar')\n",
    "ax.set_xticklabels(rotation=30)\n",
    "plt.show()"
   ]
  },
  {
   "cell_type": "markdown",
   "id": "84e93fc6",
   "metadata": {},
   "source": [
    "#### Condition"
   ]
  },
  {
   "cell_type": "code",
   "execution_count": 32,
   "id": "777c179e",
   "metadata": {},
   "outputs": [
    {
     "data": {
      "text/plain": [
       "good         76004\n",
       "excellent    59620\n",
       "like new     12638\n",
       "fair          4242\n",
       "new            694\n",
       "salvage        364\n",
       "Name: condition, dtype: int64"
      ]
     },
     "execution_count": 32,
     "metadata": {},
     "output_type": "execute_result"
    }
   ],
   "source": [
    "df_train['condition'].value_counts()"
   ]
  },
  {
   "cell_type": "code",
   "execution_count": 33,
   "id": "ea1438c5",
   "metadata": {},
   "outputs": [
    {
     "data": {
      "text/plain": [
       "<seaborn.axisgrid.FacetGrid at 0x236707b6d00>"
      ]
     },
     "execution_count": 33,
     "metadata": {},
     "output_type": "execute_result"
    },
    {
     "data": {
      "image/png": "[encoded data removed]",
      "text/plain": [
       "<Figure size 360x360 with 1 Axes>"
      ]
     },
     "metadata": {
      "needs_background": "light"
     },
     "output_type": "display_data"
    }
   ],
   "source": [
    "sns.catplot(x='condition', y='price', data=df_train, kind='bar')"
   ]
  },
  {
   "cell_type": "markdown",
   "id": "e19359e6",
   "metadata": {},
   "source": [
    "Ova kolona sadrži jako velik broj nedostajućih vrijednosti, a izgleda da cijena ovisi o stanju automobila pa ću za nju iskorisiti kNN metodu nakon što imputiram vrijednosti za sve ostale kolone."
   ]
  },
  {
   "cell_type": "markdown",
   "id": "08eed350",
   "metadata": {},
   "source": [
    "#### Fuel"
   ]
  },
  {
   "cell_type": "code",
   "execution_count": 34,
   "id": "a45f1c63",
   "metadata": {},
   "outputs": [
    {
     "data": {
      "text/plain": [
       "gas         0.842861\n",
       "other       0.076666\n",
       "diesel      0.063288\n",
       "hybrid      0.012869\n",
       "electric    0.004316\n",
       "Name: fuel, dtype: float64"
      ]
     },
     "execution_count": 34,
     "metadata": {},
     "output_type": "execute_result"
    }
   ],
   "source": [
    "df_train['fuel'].value_counts(normalize=True)"
   ]
  },
  {
   "cell_type": "code",
   "execution_count": 35,
   "id": "bef4e629",
   "metadata": {},
   "outputs": [
    {
     "data": {
      "text/plain": [
       "<seaborn.axisgrid.FacetGrid at 0x236bfc2d100>"
      ]
     },
     "execution_count": 35,
     "metadata": {},
     "output_type": "execute_result"
    },
    {
     "data": {
      "image/png": "[encoded data removed]",
      "text/plain": [
       "<Figure size 360x360 with 1 Axes>"
      ]
     },
     "metadata": {
      "needs_background": "light"
     },
     "output_type": "display_data"
    }
   ],
   "source": [
    "sns.catplot(x='fuel',y='price', data=df_train, kind='bar')"
   ]
  },
  {
   "cell_type": "markdown",
   "id": "29acf1e6",
   "metadata": {},
   "source": [
    "Kolona fuel sadrži malen broj NaN vrijednosti, a čak 85% vrijednosti je 'gas'. Zbog toga ću umjesto NaN vrijednosti staviti mod."
   ]
  },
  {
   "cell_type": "code",
   "execution_count": 114,
   "id": "4e44951c",
   "metadata": {},
   "outputs": [
    {
     "data": {
      "text/plain": [
       "'gas'"
      ]
     },
     "execution_count": 114,
     "metadata": {},
     "output_type": "execute_result"
    }
   ],
   "source": [
    "fuel_mode = df_train['fuel'].mode()[0]\n",
    "df_train['fuel'].fillna(fuel_mode, inplace=True)\n",
    "\n",
    "fuel_mode"
   ]
  },
  {
   "cell_type": "markdown",
   "id": "9bac7871",
   "metadata": {},
   "source": [
    "#### Type"
   ]
  },
  {
   "cell_type": "code",
   "execution_count": 116,
   "id": "2cee768e",
   "metadata": {},
   "outputs": [
    {
     "data": {
      "text/plain": [
       "pickup         14684\n",
       "truck           6690\n",
       "SUV             5481\n",
       "sedan           3549\n",
       "coupe           1639\n",
       "van             1617\n",
       "other           1263\n",
       "hatchback        878\n",
       "convertible      582\n",
       "wagon            531\n",
       "mini-van         151\n",
       "bus              115\n",
       "offroad           28\n",
       "Name: type, dtype: int64"
      ]
     },
     "execution_count": 116,
     "metadata": {},
     "output_type": "execute_result"
    }
   ],
   "source": [
    "df_train['type'].value_counts()"
   ]
  },
  {
   "cell_type": "code",
   "execution_count": 117,
   "id": "69d5a21a",
   "metadata": {},
   "outputs": [
    {
     "data": {
      "image/png": "[encoded data removed]",
      "text/plain": [
       "<Figure size 360x360 with 1 Axes>"
      ]
     },
     "metadata": {
      "needs_background": "light"
     },
     "output_type": "display_data"
    }
   ],
   "source": [
    "ax = sns.catplot(x='type',y='price', data=df_train, kind='bar')\n",
    "ax.set_xticklabels(rotation=30)\n",
    "plt.show()"
   ]
  },
  {
   "cell_type": "code",
   "execution_count": 118,
   "id": "184314e4",
   "metadata": {},
   "outputs": [
    {
     "data": {
      "text/plain": [
       "type\n",
       "SUV            14660.686006\n",
       "bus            15664.495652\n",
       "convertible    17471.579038\n",
       "coupe          24055.813911\n",
       "hatchback      12509.883827\n",
       "mini-van       11670.331126\n",
       "offroad        14176.357143\n",
       "other          25660.773555\n",
       "pickup         24889.368156\n",
       "sedan           9151.416174\n",
       "truck          27485.123169\n",
       "van            18670.239332\n",
       "wagon          15333.967985\n",
       "Name: price, dtype: float64"
      ]
     },
     "execution_count": 118,
     "metadata": {},
     "output_type": "execute_result"
    }
   ],
   "source": [
    "df_train.groupby('type')['price'].mean()"
   ]
  },
  {
   "cell_type": "code",
   "execution_count": 119,
   "id": "87827a00",
   "metadata": {},
   "outputs": [
    {
     "data": {
      "text/plain": [
       "<AxesSubplot:xlabel='type', ylabel='Count'>"
      ]
     },
     "execution_count": 119,
     "metadata": {},
     "output_type": "execute_result"
    },
    {
     "data": {
      "image/png": "[encoded data removed]",
      "text/plain": [
       "<Figure size 864x288 with 1 Axes>"
      ]
     },
     "metadata": {
      "needs_background": "light"
     },
     "output_type": "display_data"
    }
   ],
   "source": [
    "fig, ax = plt.subplots(figsize=(12,4))\n",
    "sns.histplot(ax=ax, data=df_train['type'])"
   ]
  },
  {
   "cell_type": "markdown",
   "id": "84318160",
   "metadata": {},
   "source": [
    "Cijena i tip autombila su korelirani te ću nedostjauće vrijednosti u ovoj koloni zamijeniti modom."
   ]
  },
  {
   "cell_type": "code",
   "execution_count": 120,
   "id": "d3da338a",
   "metadata": {},
   "outputs": [],
   "source": [
    "df_type = df_train['type'].fillna(df_train['type'].mode()[0]).copy()"
   ]
  },
  {
   "cell_type": "code",
   "execution_count": 121,
   "id": "0045c93d",
   "metadata": {},
   "outputs": [
    {
     "data": {
      "text/plain": [
       "<AxesSubplot:xlabel='type', ylabel='Count'>"
      ]
     },
     "execution_count": 121,
     "metadata": {},
     "output_type": "execute_result"
    },
    {
     "data": {
      "image/png": "[encoded data removed]",
      "text/plain": [
       "<Figure size 864x288 with 1 Axes>"
      ]
     },
     "metadata": {
      "needs_background": "light"
     },
     "output_type": "display_data"
    }
   ],
   "source": [
    "fig, ax = plt.subplots(figsize=(12,4))\n",
    "sns.histplot(ax=ax, data=df_type)"
   ]
  },
  {
   "cell_type": "markdown",
   "id": "111a8826",
   "metadata": {},
   "source": [
    "Nedostajeće ću vrijednosti zamijeniti modom jer je varijabla kategoričkog tipa. U ovom je slučaju distribucija kolone 'type' malo promijenjena imputacijom što može imati utjecaj na kranju točnost predikcije cijena."
   ]
  },
  {
   "cell_type": "code",
   "execution_count": 122,
   "id": "626464aa",
   "metadata": {},
   "outputs": [
    {
     "data": {
      "text/plain": [
       "'pickup'"
      ]
     },
     "execution_count": 122,
     "metadata": {},
     "output_type": "execute_result"
    }
   ],
   "source": [
    "type_mode = df_train['type'].mode()[0]\n",
    "df_train['type'] = df_train['type'].fillna(type_mode)\n",
    "\n",
    "type_mode"
   ]
  },
  {
   "cell_type": "markdown",
   "id": "bfa4cd44",
   "metadata": {},
   "source": [
    "#### Title_status"
   ]
  },
  {
   "cell_type": "code",
   "execution_count": 44,
   "id": "fe7db03a",
   "metadata": {},
   "outputs": [
    {
     "data": {
      "text/plain": [
       "clean         217072\n",
       "rebuilt         4017\n",
       "salvage         2113\n",
       "lien             839\n",
       "missing          336\n",
       "parts only        74\n",
       "Name: title_status, dtype: int64"
      ]
     },
     "execution_count": 44,
     "metadata": {},
     "output_type": "execute_result"
    }
   ],
   "source": [
    "df_train['title_status'].value_counts()"
   ]
  },
  {
   "cell_type": "code",
   "execution_count": 45,
   "id": "9f81bf7e",
   "metadata": {},
   "outputs": [
    {
     "data": {
      "text/plain": [
       "<seaborn.axisgrid.FacetGrid at 0x236c0b49eb0>"
      ]
     },
     "execution_count": 45,
     "metadata": {},
     "output_type": "execute_result"
    },
    {
     "data": {
      "image/png": "[encoded data removed]",
      "text/plain": [
       "<Figure size 360x360 with 1 Axes>"
      ]
     },
     "metadata": {
      "needs_background": "light"
     },
     "output_type": "display_data"
    }
   ],
   "source": [
    "sns.catplot(x='title_status',y='price', data=df_train, kind='bar')"
   ]
  },
  {
   "cell_type": "markdown",
   "id": "0389b4f8",
   "metadata": {},
   "source": [
    "Nedostajeće vrijednosti ove kategoričke varijable također imputiram modom."
   ]
  },
  {
   "cell_type": "code",
   "execution_count": 123,
   "id": "5712c489",
   "metadata": {},
   "outputs": [
    {
     "data": {
      "text/plain": [
       "'clean'"
      ]
     },
     "execution_count": 123,
     "metadata": {},
     "output_type": "execute_result"
    }
   ],
   "source": [
    "title_status_mode = df_train['title_status'].mode()[0]\n",
    "df_train['title_status'].fillna(title_status_mode, inplace=True)\n",
    "\n",
    "title_status_mode"
   ]
  },
  {
   "cell_type": "markdown",
   "id": "fd4a80e8",
   "metadata": {},
   "source": [
    "#### Transmission"
   ]
  },
  {
   "cell_type": "code",
   "execution_count": 47,
   "id": "04623da4",
   "metadata": {},
   "outputs": [
    {
     "data": {
      "text/plain": [
       "automatic    176147\n",
       "other         38639\n",
       "manual        13257\n",
       "Name: transmission, dtype: int64"
      ]
     },
     "execution_count": 47,
     "metadata": {},
     "output_type": "execute_result"
    }
   ],
   "source": [
    "df_train['transmission'].value_counts()"
   ]
  },
  {
   "cell_type": "code",
   "execution_count": 48,
   "id": "00e68981",
   "metadata": {},
   "outputs": [
    {
     "data": {
      "text/plain": [
       "<seaborn.axisgrid.FacetGrid at 0x236c0b77310>"
      ]
     },
     "execution_count": 48,
     "metadata": {},
     "output_type": "execute_result"
    },
    {
     "data": {
      "image/png": "[encoded data removed]",
      "text/plain": [
       "<Figure size 360x360 with 1 Axes>"
      ]
     },
     "metadata": {
      "needs_background": "light"
     },
     "output_type": "display_data"
    }
   ],
   "source": [
    "sns.catplot(x='transmission',y='price', data=df_train, kind='bar')"
   ]
  },
  {
   "cell_type": "code",
   "execution_count": 49,
   "id": "ba1b69d1",
   "metadata": {},
   "outputs": [
    {
     "data": {
      "text/plain": [
       "<seaborn.axisgrid.FacetGrid at 0x236c19810d0>"
      ]
     },
     "execution_count": 49,
     "metadata": {},
     "output_type": "execute_result"
    },
    {
     "data": {
      "image/png": "[encoded data removed]",
      "text/plain": [
       "<Figure size 1080x360 with 3 Axes>"
      ]
     },
     "metadata": {
      "needs_background": "light"
     },
     "output_type": "display_data"
    }
   ],
   "source": [
    "sns.displot(data=df_plot, x='price', col='transmission')"
   ]
  },
  {
   "cell_type": "markdown",
   "id": "06847a15",
   "metadata": {},
   "source": [
    "Čini se da ova kolona ima utjecaj na cijenu automobila pa ću ju zadržati. Kolona transmission sadrži velikom većinom vrijednost 'automatic', ima malen broj nedostajućih vrijednosti. Zbog toga ću nedostajeće vrijednosti zamijeniti sa vrijednosti 'automatic', odnosno sa modom."
   ]
  },
  {
   "cell_type": "code",
   "execution_count": 124,
   "id": "d4fc0ac0",
   "metadata": {},
   "outputs": [
    {
     "data": {
      "text/plain": [
       "'automatic'"
      ]
     },
     "execution_count": 124,
     "metadata": {},
     "output_type": "execute_result"
    }
   ],
   "source": [
    "transmission_mode = df_train['transmission'].mode()[0]\n",
    "df_train['transmission'].fillna(transmission_mode, inplace=True)\n",
    "\n",
    "transmission_mode"
   ]
  },
  {
   "cell_type": "markdown",
   "id": "3366927b",
   "metadata": {},
   "source": [
    "#### Drive"
   ]
  },
  {
   "cell_type": "code",
   "execution_count": 51,
   "id": "04aacb32",
   "metadata": {},
   "outputs": [
    {
     "data": {
      "text/plain": [
       "4wd    76121\n",
       "fwd    61743\n",
       "rwd    35112\n",
       "Name: drive, dtype: int64"
      ]
     },
     "execution_count": 51,
     "metadata": {},
     "output_type": "execute_result"
    }
   ],
   "source": [
    "df_train['drive'].value_counts()"
   ]
  },
  {
   "cell_type": "code",
   "execution_count": 52,
   "id": "26d9d058",
   "metadata": {},
   "outputs": [
    {
     "data": {
      "text/plain": [
       "<seaborn.axisgrid.FacetGrid at 0x236befd3730>"
      ]
     },
     "execution_count": 52,
     "metadata": {},
     "output_type": "execute_result"
    },
    {
     "data": {
      "image/png": "[encoded data removed]",
      "text/plain": [
       "<Figure size 360x360 with 1 Axes>"
      ]
     },
     "metadata": {
      "needs_background": "light"
     },
     "output_type": "display_data"
    }
   ],
   "source": [
    "sns.catplot(x='drive',y='price', data=df_train, kind='bar')"
   ]
  },
  {
   "cell_type": "code",
   "execution_count": 53,
   "id": "6a4611e0",
   "metadata": {},
   "outputs": [
    {
     "data": {
      "text/plain": [
       "<seaborn.axisgrid.FacetGrid at 0x236bf458c40>"
      ]
     },
     "execution_count": 53,
     "metadata": {},
     "output_type": "execute_result"
    },
    {
     "data": {
      "image/png": "[encoded data removed]",
      "text/plain": [
       "<Figure size 1080x360 with 3 Axes>"
      ]
     },
     "metadata": {
      "needs_background": "light"
     },
     "output_type": "display_data"
    }
   ],
   "source": [
    "sns.displot(data=df_plot, x='price', col='drive')"
   ]
  },
  {
   "cell_type": "code",
   "execution_count": 125,
   "id": "888e69cb",
   "metadata": {},
   "outputs": [
    {
     "data": {
      "text/plain": [
       "type\n",
       "SUV            4wd\n",
       "bus            rwd\n",
       "convertible    rwd\n",
       "coupe          rwd\n",
       "hatchback      fwd\n",
       "mini-van       fwd\n",
       "offroad        4wd\n",
       "other          4wd\n",
       "pickup         4wd\n",
       "sedan          fwd\n",
       "truck          4wd\n",
       "van            rwd\n",
       "wagon          fwd\n",
       "Name: drive, dtype: object"
      ]
     },
     "execution_count": 125,
     "metadata": {},
     "output_type": "execute_result"
    }
   ],
   "source": [
    "df_drive_mode = df_train.groupby(['type'])['drive'].agg(pd.Series.mode)\n",
    "df_drive_mode"
   ]
  },
  {
   "cell_type": "markdown",
   "id": "5ee529b9",
   "metadata": {},
   "source": [
    "Nedostajeće ću vrijednosti zamijeniti modom u ovisnoti o typu automobila jer svaki tip automobila ima drugačiju distribuciju kolone 'drive'."
   ]
  },
  {
   "cell_type": "code",
   "execution_count": 126,
   "id": "443e2388",
   "metadata": {},
   "outputs": [],
   "source": [
    "df_train['drive'] = df_train.apply(lambda x: x['drive'] if pd.notnull(x['drive']) else df_drive_mode[x['type']], axis=1)"
   ]
  },
  {
   "cell_type": "markdown",
   "id": "571a2d82",
   "metadata": {},
   "source": [
    "#### Size"
   ]
  },
  {
   "cell_type": "code",
   "execution_count": 56,
   "id": "a3a38940",
   "metadata": {},
   "outputs": [
    {
     "data": {
      "text/plain": [
       "full-size      36610\n",
       "mid-size       20317\n",
       "compact        11034\n",
       "sub-compact     1770\n",
       "Name: size, dtype: int64"
      ]
     },
     "execution_count": 56,
     "metadata": {},
     "output_type": "execute_result"
    }
   ],
   "source": [
    "df_train['size'].value_counts()"
   ]
  },
  {
   "cell_type": "code",
   "execution_count": 57,
   "id": "a321ba4f",
   "metadata": {},
   "outputs": [
    {
     "data": {
      "text/plain": [
       "<seaborn.axisgrid.FacetGrid at 0x236c146d250>"
      ]
     },
     "execution_count": 57,
     "metadata": {},
     "output_type": "execute_result"
    },
    {
     "data": {
      "image/png": "[encoded data removed]",
      "text/plain": [
       "<Figure size 360x360 with 1 Axes>"
      ]
     },
     "metadata": {
      "needs_background": "light"
     },
     "output_type": "display_data"
    }
   ],
   "source": [
    "sns.catplot(x='size',y='price', data=df_train, kind='bar')"
   ]
  },
  {
   "cell_type": "code",
   "execution_count": 58,
   "id": "fc9a55b7",
   "metadata": {},
   "outputs": [
    {
     "data": {
      "text/plain": [
       "<AxesSubplot:xlabel='size', ylabel='price'>"
      ]
     },
     "execution_count": 58,
     "metadata": {},
     "output_type": "execute_result"
    },
    {
     "data": {
      "image/png": "[encoded data removed]",
      "text/plain": [
       "<Figure size 432x288 with 1 Axes>"
      ]
     },
     "metadata": {
      "needs_background": "light"
     },
     "output_type": "display_data"
    }
   ],
   "source": [
    "sns.violinplot(x='size',y='price', data=df_train)"
   ]
  },
  {
   "cell_type": "markdown",
   "id": "c7376912",
   "metadata": {},
   "source": [
    "Za potrebe vizualizacije stvorit ću skup podataka koji sadrži vrijednosti u drugom i trećem kvantilu."
   ]
  },
  {
   "cell_type": "code",
   "execution_count": 59,
   "id": "0bc85bca",
   "metadata": {},
   "outputs": [
    {
     "data": {
      "text/plain": [
       "count    2.289720e+05\n",
       "mean     1.950831e+04\n",
       "std      1.596613e+04\n",
       "min      1.010000e+02\n",
       "25%      7.980000e+03\n",
       "50%      1.599500e+04\n",
       "75%      2.799000e+04\n",
       "max      1.234567e+06\n",
       "Name: price, dtype: float64"
      ]
     },
     "execution_count": 59,
     "metadata": {},
     "output_type": "execute_result"
    }
   ],
   "source": [
    "df_train['price'].describe()"
   ]
  },
  {
   "cell_type": "code",
   "execution_count": 129,
   "id": "e1cceac5",
   "metadata": {},
   "outputs": [
    {
     "ename": "ValueError",
     "evalue": "Could not interpret input 'size'",
     "output_type": "error",
     "traceback": [
      "\u001b[1;31m---------------------------------------------------------------------------\u001b[0m",
      "\u001b[1;31mValueError\u001b[0m                                Traceback (most recent call last)",
      "Input \u001b[1;32mIn [129]\u001b[0m, in \u001b[0;36m<cell line: 1>\u001b[1;34m()\u001b[0m\n\u001b[1;32m----> 1\u001b[0m \u001b[43msns\u001b[49m\u001b[38;5;241;43m.\u001b[39;49m\u001b[43mviolinplot\u001b[49m\u001b[43m(\u001b[49m\u001b[43mx\u001b[49m\u001b[38;5;241;43m=\u001b[39;49m\u001b[38;5;124;43m'\u001b[39;49m\u001b[38;5;124;43msize\u001b[39;49m\u001b[38;5;124;43m'\u001b[39;49m\u001b[43m,\u001b[49m\u001b[43my\u001b[49m\u001b[38;5;241;43m=\u001b[39;49m\u001b[38;5;124;43m'\u001b[39;49m\u001b[38;5;124;43mprice\u001b[39;49m\u001b[38;5;124;43m'\u001b[39;49m\u001b[43m,\u001b[49m\u001b[43m \u001b[49m\u001b[43mdata\u001b[49m\u001b[38;5;241;43m=\u001b[39;49m\u001b[43mdf_plot\u001b[49m\u001b[43m)\u001b[49m\n",
      "File \u001b[1;32m~\\anaconda3\\lib\\site-packages\\seaborn\\_decorators.py:46\u001b[0m, in \u001b[0;36m_deprecate_positional_args.<locals>.inner_f\u001b[1;34m(*args, **kwargs)\u001b[0m\n\u001b[0;32m     36\u001b[0m     warnings\u001b[38;5;241m.\u001b[39mwarn(\n\u001b[0;32m     37\u001b[0m         \u001b[38;5;124m\"\u001b[39m\u001b[38;5;124mPass the following variable\u001b[39m\u001b[38;5;132;01m{}\u001b[39;00m\u001b[38;5;124m as \u001b[39m\u001b[38;5;132;01m{}\u001b[39;00m\u001b[38;5;124mkeyword arg\u001b[39m\u001b[38;5;132;01m{}\u001b[39;00m\u001b[38;5;124m: \u001b[39m\u001b[38;5;132;01m{}\u001b[39;00m\u001b[38;5;124m. \u001b[39m\u001b[38;5;124m\"\u001b[39m\n\u001b[0;32m     38\u001b[0m         \u001b[38;5;124m\"\u001b[39m\u001b[38;5;124mFrom version 0.12, the only valid positional argument \u001b[39m\u001b[38;5;124m\"\u001b[39m\n\u001b[1;32m   (...)\u001b[0m\n\u001b[0;32m     43\u001b[0m         \u001b[38;5;167;01mFutureWarning\u001b[39;00m\n\u001b[0;32m     44\u001b[0m     )\n\u001b[0;32m     45\u001b[0m kwargs\u001b[38;5;241m.\u001b[39mupdate({k: arg \u001b[38;5;28;01mfor\u001b[39;00m k, arg \u001b[38;5;129;01min\u001b[39;00m \u001b[38;5;28mzip\u001b[39m(sig\u001b[38;5;241m.\u001b[39mparameters, args)})\n\u001b[1;32m---> 46\u001b[0m \u001b[38;5;28;01mreturn\u001b[39;00m f(\u001b[38;5;241m*\u001b[39m\u001b[38;5;241m*\u001b[39mkwargs)\n",
      "File \u001b[1;32m~\\anaconda3\\lib\\site-packages\\seaborn\\categorical.py:2400\u001b[0m, in \u001b[0;36mviolinplot\u001b[1;34m(x, y, hue, data, order, hue_order, bw, cut, scale, scale_hue, gridsize, width, inner, split, dodge, orient, linewidth, color, palette, saturation, ax, **kwargs)\u001b[0m\n\u001b[0;32m   2388\u001b[0m \u001b[38;5;129m@_deprecate_positional_args\u001b[39m\n\u001b[0;32m   2389\u001b[0m \u001b[38;5;28;01mdef\u001b[39;00m \u001b[38;5;21mviolinplot\u001b[39m(\n\u001b[0;32m   2390\u001b[0m     \u001b[38;5;241m*\u001b[39m,\n\u001b[1;32m   (...)\u001b[0m\n\u001b[0;32m   2397\u001b[0m     ax\u001b[38;5;241m=\u001b[39m\u001b[38;5;28;01mNone\u001b[39;00m, \u001b[38;5;241m*\u001b[39m\u001b[38;5;241m*\u001b[39mkwargs,\n\u001b[0;32m   2398\u001b[0m ):\n\u001b[1;32m-> 2400\u001b[0m     plotter \u001b[38;5;241m=\u001b[39m \u001b[43m_ViolinPlotter\u001b[49m\u001b[43m(\u001b[49m\u001b[43mx\u001b[49m\u001b[43m,\u001b[49m\u001b[43m \u001b[49m\u001b[43my\u001b[49m\u001b[43m,\u001b[49m\u001b[43m \u001b[49m\u001b[43mhue\u001b[49m\u001b[43m,\u001b[49m\u001b[43m \u001b[49m\u001b[43mdata\u001b[49m\u001b[43m,\u001b[49m\u001b[43m \u001b[49m\u001b[43morder\u001b[49m\u001b[43m,\u001b[49m\u001b[43m \u001b[49m\u001b[43mhue_order\u001b[49m\u001b[43m,\u001b[49m\n\u001b[0;32m   2401\u001b[0m \u001b[43m                             \u001b[49m\u001b[43mbw\u001b[49m\u001b[43m,\u001b[49m\u001b[43m \u001b[49m\u001b[43mcut\u001b[49m\u001b[43m,\u001b[49m\u001b[43m \u001b[49m\u001b[43mscale\u001b[49m\u001b[43m,\u001b[49m\u001b[43m \u001b[49m\u001b[43mscale_hue\u001b[49m\u001b[43m,\u001b[49m\u001b[43m \u001b[49m\u001b[43mgridsize\u001b[49m\u001b[43m,\u001b[49m\n\u001b[0;32m   2402\u001b[0m \u001b[43m                             \u001b[49m\u001b[43mwidth\u001b[49m\u001b[43m,\u001b[49m\u001b[43m \u001b[49m\u001b[43minner\u001b[49m\u001b[43m,\u001b[49m\u001b[43m \u001b[49m\u001b[43msplit\u001b[49m\u001b[43m,\u001b[49m\u001b[43m \u001b[49m\u001b[43mdodge\u001b[49m\u001b[43m,\u001b[49m\u001b[43m \u001b[49m\u001b[43morient\u001b[49m\u001b[43m,\u001b[49m\u001b[43m \u001b[49m\u001b[43mlinewidth\u001b[49m\u001b[43m,\u001b[49m\n\u001b[0;32m   2403\u001b[0m \u001b[43m                             \u001b[49m\u001b[43mcolor\u001b[49m\u001b[43m,\u001b[49m\u001b[43m \u001b[49m\u001b[43mpalette\u001b[49m\u001b[43m,\u001b[49m\u001b[43m \u001b[49m\u001b[43msaturation\u001b[49m\u001b[43m)\u001b[49m\n\u001b[0;32m   2405\u001b[0m     \u001b[38;5;28;01mif\u001b[39;00m ax \u001b[38;5;129;01mis\u001b[39;00m \u001b[38;5;28;01mNone\u001b[39;00m:\n\u001b[0;32m   2406\u001b[0m         ax \u001b[38;5;241m=\u001b[39m plt\u001b[38;5;241m.\u001b[39mgca()\n",
      "File \u001b[1;32m~\\anaconda3\\lib\\site-packages\\seaborn\\categorical.py:522\u001b[0m, in \u001b[0;36m_ViolinPlotter.__init__\u001b[1;34m(self, x, y, hue, data, order, hue_order, bw, cut, scale, scale_hue, gridsize, width, inner, split, dodge, orient, linewidth, color, palette, saturation)\u001b[0m\n\u001b[0;32m    517\u001b[0m \u001b[38;5;28;01mdef\u001b[39;00m \u001b[38;5;21m__init__\u001b[39m(\u001b[38;5;28mself\u001b[39m, x, y, hue, data, order, hue_order,\n\u001b[0;32m    518\u001b[0m              bw, cut, scale, scale_hue, gridsize,\n\u001b[0;32m    519\u001b[0m              width, inner, split, dodge, orient, linewidth,\n\u001b[0;32m    520\u001b[0m              color, palette, saturation):\n\u001b[1;32m--> 522\u001b[0m     \u001b[38;5;28;43mself\u001b[39;49m\u001b[38;5;241;43m.\u001b[39;49m\u001b[43mestablish_variables\u001b[49m\u001b[43m(\u001b[49m\u001b[43mx\u001b[49m\u001b[43m,\u001b[49m\u001b[43m \u001b[49m\u001b[43my\u001b[49m\u001b[43m,\u001b[49m\u001b[43m \u001b[49m\u001b[43mhue\u001b[49m\u001b[43m,\u001b[49m\u001b[43m \u001b[49m\u001b[43mdata\u001b[49m\u001b[43m,\u001b[49m\u001b[43m \u001b[49m\u001b[43morient\u001b[49m\u001b[43m,\u001b[49m\u001b[43m \u001b[49m\u001b[43morder\u001b[49m\u001b[43m,\u001b[49m\u001b[43m \u001b[49m\u001b[43mhue_order\u001b[49m\u001b[43m)\u001b[49m\n\u001b[0;32m    523\u001b[0m     \u001b[38;5;28mself\u001b[39m\u001b[38;5;241m.\u001b[39mestablish_colors(color, palette, saturation)\n\u001b[0;32m    524\u001b[0m     \u001b[38;5;28mself\u001b[39m\u001b[38;5;241m.\u001b[39mestimate_densities(bw, cut, scale, scale_hue, gridsize)\n",
      "File \u001b[1;32m~\\anaconda3\\lib\\site-packages\\seaborn\\categorical.py:153\u001b[0m, in \u001b[0;36m_CategoricalPlotter.establish_variables\u001b[1;34m(self, x, y, hue, data, orient, order, hue_order, units)\u001b[0m\n\u001b[0;32m    151\u001b[0m     \u001b[38;5;28;01mif\u001b[39;00m \u001b[38;5;28misinstance\u001b[39m(var, \u001b[38;5;28mstr\u001b[39m):\n\u001b[0;32m    152\u001b[0m         err \u001b[38;5;241m=\u001b[39m \u001b[38;5;124m\"\u001b[39m\u001b[38;5;124mCould not interpret input \u001b[39m\u001b[38;5;124m'\u001b[39m\u001b[38;5;132;01m{}\u001b[39;00m\u001b[38;5;124m'\u001b[39m\u001b[38;5;124m\"\u001b[39m\u001b[38;5;241m.\u001b[39mformat(var)\n\u001b[1;32m--> 153\u001b[0m         \u001b[38;5;28;01mraise\u001b[39;00m \u001b[38;5;167;01mValueError\u001b[39;00m(err)\n\u001b[0;32m    155\u001b[0m \u001b[38;5;66;03m# Figure out the plotting orientation\u001b[39;00m\n\u001b[0;32m    156\u001b[0m orient \u001b[38;5;241m=\u001b[39m infer_orient(\n\u001b[0;32m    157\u001b[0m     x, y, orient, require_numeric\u001b[38;5;241m=\u001b[39m\u001b[38;5;28mself\u001b[39m\u001b[38;5;241m.\u001b[39mrequire_numeric\n\u001b[0;32m    158\u001b[0m )\n",
      "\u001b[1;31mValueError\u001b[0m: Could not interpret input 'size'"
     ]
    }
   ],
   "source": [
    "sns.violinplot(x='size',y='price', data=df_plot)"
   ]
  },
  {
   "cell_type": "markdown",
   "id": "3cfda6b6",
   "metadata": {},
   "source": [
    "Čini se da kolona size ne utječe na cijenu automobila te nju ispuštam iz skupa podataka koji će se koristiti za treniranje. "
   ]
  },
  {
   "cell_type": "code",
   "execution_count": 127,
   "id": "06345be5",
   "metadata": {},
   "outputs": [],
   "source": [
    "df_train.drop(['size'], axis=1, inplace=True)\n",
    "df_val.drop(['size'], axis=1, inplace=True)\n",
    "df_test.drop(['size'], axis=1, inplace=True)"
   ]
  },
  {
   "cell_type": "markdown",
   "id": "5bef350c",
   "metadata": {},
   "source": [
    "#### Condition"
   ]
  },
  {
   "cell_type": "markdown",
   "id": "df2db022",
   "metadata": {},
   "source": [
    "Kako bi mogli provesti algoritam kNN u svrhu imputacije nedostajućih vrijednosti u kolonu 'condition' potrebno je kategoričke varijable pretvoriti u one hot encoding reprezentaciju i normalzirati podatke.\n",
    "\n",
    "Koristi se funckija get_dummies koja pretvara kolonu u indikatorske varijable. Postoji i mogućnosti pretvaranja kolone u kategorički tip, no ukoliko primjerice kolonu transmission pretvortimo u kategoričku varijablu gdje je 'automatic' označen sa 0, 'manual' sa 1 te 'other' sa 2, model bi mogao smatrati kako je 2>1>0 te da to predstavlja nekakav poredak. Da bi to izbjegli koristimo indikatorske varijable."
   ]
  },
  {
   "cell_type": "code",
   "execution_count": 132,
   "id": "a81c1066",
   "metadata": {},
   "outputs": [],
   "source": [
    "categorical_cols = ['fuel','type', 'title_status', 'transmission','drive']\n",
    "num_cols = ['price', 'year', 'cylineders', 'odometer', 'posting_date']\n",
    "\n",
    "# one hot encoding\n",
    "all_data = pd.concat([df_train,df_val,df_test], axis=0)\n",
    "all_data = pd.get_dummies(all_data, columns=categorical_cols)\n",
    "\n",
    "df_train = all_data[:df_train.shape[0]]\n",
    "df_val = all_data[df_train.shape[0]:df_train.shape[0] + df_val.shape[0]]\n",
    "df_test = all_data[-df_test.shape[0]:]"
   ]
  },
  {
   "cell_type": "code",
   "execution_count": 133,
   "id": "2ab4b3e8",
   "metadata": {},
   "outputs": [
    {
     "data": {
      "text/plain": [
       "excellent    10105\n",
       "good          9938\n",
       "like new      2004\n",
       "fair           771\n",
       "new             91\n",
       "salvage         71\n",
       "Name: condition, dtype: int64"
      ]
     },
     "execution_count": 133,
     "metadata": {},
     "output_type": "execute_result"
    }
   ],
   "source": [
    "df_train['condition'].value_counts()"
   ]
  },
  {
   "cell_type": "code",
   "execution_count": 134,
   "id": "3e3ca552",
   "metadata": {},
   "outputs": [
    {
     "name": "stderr",
     "output_type": "stream",
     "text": [
      "C:\\Users\\pebe1\\AppData\\Local\\Temp\\ipykernel_2404\\3163676812.py:5: SettingWithCopyWarning: \n",
      "A value is trying to be set on a copy of a slice from a DataFrame.\n",
      "Try using .loc[row_indexer,col_indexer] = value instead\n",
      "\n",
      "See the caveats in the documentation: https://pandas.pydata.org/pandas-docs/stable/user_guide/indexing.html#returning-a-view-versus-a-copy\n",
      "  df_train['condition'] = df_train['condition'].map(condition_map)\n",
      "C:\\Users\\pebe1\\AppData\\Local\\Temp\\ipykernel_2404\\3163676812.py:6: SettingWithCopyWarning: \n",
      "A value is trying to be set on a copy of a slice from a DataFrame.\n",
      "Try using .loc[row_indexer,col_indexer] = value instead\n",
      "\n",
      "See the caveats in the documentation: https://pandas.pydata.org/pandas-docs/stable/user_guide/indexing.html#returning-a-view-versus-a-copy\n",
      "  df_val['condition'] = df_val['condition'].map(condition_map)\n",
      "C:\\Users\\pebe1\\AppData\\Local\\Temp\\ipykernel_2404\\3163676812.py:7: SettingWithCopyWarning: \n",
      "A value is trying to be set on a copy of a slice from a DataFrame.\n",
      "Try using .loc[row_indexer,col_indexer] = value instead\n",
      "\n",
      "See the caveats in the documentation: https://pandas.pydata.org/pandas-docs/stable/user_guide/indexing.html#returning-a-view-versus-a-copy\n",
      "  df_test['condition'] = df_test['condition'].map(condition_map)\n"
     ]
    }
   ],
   "source": [
    "from sklearn.impute import KNNImputer\n",
    "\n",
    "condition_map = {'salvage':1, 'fair': 2, 'good': 3, 'excellent':4,'like new':5,'new':6}\n",
    "\n",
    "df_train['condition'] = df_train['condition'].map(condition_map)\n",
    "df_val['condition'] = df_val['condition'].map(condition_map)\n",
    "df_test['condition'] = df_test['condition'].map(condition_map)"
   ]
  },
  {
   "cell_type": "code",
   "execution_count": 135,
   "id": "eaabbe0d",
   "metadata": {},
   "outputs": [],
   "source": [
    "imputer = KNNImputer(n_neighbors = 3)\n",
    "df_train = pd.DataFrame(imputer.fit_transform(df_train),columns = df_train.columns)"
   ]
  },
  {
   "cell_type": "code",
   "execution_count": 137,
   "id": "7f301bc7",
   "metadata": {},
   "outputs": [],
   "source": [
    "df_val = pd.DataFrame(imputer.transform(df_val),columns = df_train.columns)\n",
    "df_test = pd.DataFrame(imputer.transform(df_test),columns = df_train.columns)"
   ]
  },
  {
   "cell_type": "code",
   "execution_count": 138,
   "id": "2115f3d0",
   "metadata": {},
   "outputs": [],
   "source": [
    "X_train = df_train.drop(['price'], axis=1)\n",
    "y_train = df_train['price']\n",
    "\n",
    "X_val = df_val.drop(['price'], axis=1)\n",
    "y_val = df_val['price']\n",
    "\n",
    "X_test = df_test.drop(['price'], axis=1)\n",
    "y_test = df_test['price']"
   ]
  },
  {
   "cell_type": "code",
   "execution_count": 139,
   "id": "9c366cc9",
   "metadata": {},
   "outputs": [
    {
     "data": {
      "text/plain": [
       "0"
      ]
     },
     "execution_count": 139,
     "metadata": {},
     "output_type": "execute_result"
    }
   ],
   "source": [
    "X_train.isna().sum().sum()"
   ]
  },
  {
   "cell_type": "markdown",
   "id": "8e8518b4",
   "metadata": {},
   "source": [
    "## Treniranje modela"
   ]
  },
  {
   "cell_type": "markdown",
   "id": "c8abe911",
   "metadata": {},
   "source": [
    "Problem predikcije cijene automobila je regresijski problem. On se razlikuje od klasifikacije u tome što je cilj klasifikacije pridijeliti jednu od klasa novom primjeru. S druge strane, regresijom se pokušava predvidjeti neka kontinuirana brojčana vrijednost na temelju novog primjera. U ovom je slučaju to cijena automobila. Svaka se metoda strojnog učenja sastoji od modela, objektivne funkcije i metode optimizacije. Samim time što se klasifikacijom dodjeljuje klasa nekom primjeru, a regresijom se predviđa brojčana vrijednost, njihove će objektivne funckije (model) i funkcije pogreške biti različite. Primjerice postoji SVM za klasifikaciju i za regresiju gdje je onaj za regresiju ima objektivnu funkciju koja je dodatno prilagođena za problem regresije."
   ]
  },
  {
   "cell_type": "markdown",
   "id": "ae38b693",
   "metadata": {},
   "source": [
    "Postoje razni regresijski modeli, od kojih su neki: linearna regresija, LS-SVM i regresijsko stablo odluke. Odlučujem se za linearnu regresiju. Kako bi ovaj model mogao raditi za kategoričkim varijablama potrebno ih je nekako pretvoriti u numeričke vrijednost. To je učinjeno u prethodnim koracima pomoću get_dummies funkcije. Tako će model moći naučiti važnost svake kategoričke varijable i tako odrediti vrijednost pripadajućih parametara."
   ]
  },
  {
   "cell_type": "markdown",
   "id": "215bae38",
   "metadata": {},
   "source": [
    "### Linear Regression"
   ]
  },
  {
   "cell_type": "code",
   "execution_count": 140,
   "id": "b9f90994",
   "metadata": {},
   "outputs": [],
   "source": [
    "from sklearn.linear_model import LinearRegression\n",
    "\n",
    "model = LinearRegression().fit(X_train, y_train)\n",
    "y_hat = model.predict(X_val)"
   ]
  },
  {
   "cell_type": "code",
   "execution_count": 141,
   "id": "96d76844",
   "metadata": {},
   "outputs": [
    {
     "name": "stdout",
     "output_type": "stream",
     "text": [
      "Root Mean Squared Erorr (RMSE):  11877.216241805718\n"
     ]
    }
   ],
   "source": [
    "from sklearn.metrics import mean_squared_error\n",
    "\n",
    "mse = mean_squared_error(y_val, y_hat)\n",
    "\n",
    "\n",
    "print('Root Mean Squared Erorr (RMSE): ',np.sqrt(mse))"
   ]
  },
  {
   "cell_type": "markdown",
   "id": "39262bd0",
   "metadata": {},
   "source": [
    "### Polynomial Regression"
   ]
  },
  {
   "cell_type": "code",
   "execution_count": null,
   "id": "a9ce3d4a",
   "metadata": {},
   "outputs": [],
   "source": [
    "# from sklearn.preprocessing import PolynomialFeatures\n",
    "\n",
    "# poly = PolynomialFeatures(degree=2, include_bias=False)\n",
    "# poly_features = poly.fit_transform(X_train)\n",
    "# poly_features_val = poly.transform(X_val)"
   ]
  },
  {
   "cell_type": "code",
   "execution_count": null,
   "id": "b711d133",
   "metadata": {},
   "outputs": [],
   "source": [
    "# poly_model = LinearRegression().fit(poly_features[:100000], y_train[:100000])\n",
    "# y_hat_poly = poly_model.predict(poly_features_val)\n",
    "\n",
    "# mse = mean_squared_error(y_val, y_hat_poly)\n",
    "# r2 = r2_score(y_val, y_hat_poly)\n",
    "\n",
    "# print('Root Mean Squared Erorr (RMSE): ',np.sqrt(mse))"
   ]
  },
  {
   "cell_type": "markdown",
   "id": "e3bef484",
   "metadata": {},
   "source": [
    "### Gradient Boosting Regressor"
   ]
  },
  {
   "cell_type": "code",
   "execution_count": 142,
   "id": "5dcb5696",
   "metadata": {},
   "outputs": [
    {
     "name": "stdout",
     "output_type": "stream",
     "text": [
      "Root Mean Squared Erorr (RMSE):  6018.467667143908\n"
     ]
    }
   ],
   "source": [
    "from sklearn.ensemble import GradientBoostingRegressor\n",
    "\n",
    "grad_model = GradientBoostingRegressor(n_estimators=500, max_depth=10, learning_rate=0.1, random_state=42).fit(X_train,y_train.ravel())\n",
    "y_hat_grad = grad_model.predict(X_val)\n",
    "\n",
    "mse = mean_squared_error(y_val, y_hat_grad)\n",
    "\n",
    "print('Root Mean Squared Erorr (RMSE): ',np.sqrt(mse))"
   ]
  },
  {
   "cell_type": "code",
   "execution_count": null,
   "id": "ee7f97ae",
   "metadata": {},
   "outputs": [],
   "source": [
    "# from sklearn.svm import SVR\n",
    "\n",
    "# svr_model = SVR().fit(X_train, y_train.ravel())\n",
    "# y_hat_svr = svr_model.predict(X_val)\n",
    "\n",
    "# mse = mean_squared_error(y_val, y_hat_svr)\n",
    "# r2 = r2_score(y_val, y_hat_svr)\n",
    "\n",
    "# print('Root Mean Squared Erorr (RMSE): ',np.sqrt(mse))"
   ]
  },
  {
   "cell_type": "markdown",
   "id": "3e57cc15",
   "metadata": {},
   "source": [
    "### Standardizacija podataka"
   ]
  },
  {
   "cell_type": "code",
   "execution_count": 143,
   "id": "f42df8d4",
   "metadata": {},
   "outputs": [],
   "source": [
    "from sklearn.preprocessing import StandardScaler\n",
    "\n",
    "# normalizacija\n",
    "scaler = StandardScaler()\n",
    "\n",
    "df_train_stand = pd.DataFrame(scaler.fit_transform(df_train), columns = df_train.columns).copy()\n",
    "df_val_stand = pd.DataFrame(scaler.fit_transform(df_val), columns = df_train.columns).copy()\n",
    "df_test_stand = pd.DataFrame(scaler.fit_transform(df_test), columns = df_train.columns).copy()\n",
    "\n",
    "X_train_stand = df_train_stand.drop(['price'], axis=1)\n",
    "y_train_stand = df_train_stand['price']\n",
    "\n",
    "X_val_stand = df_val_stand.drop(['price'], axis=1)\n",
    "y_val_stand = df_val_stand['price']\n",
    "\n",
    "X_test_stand = df_test_stand.drop(['price'], axis=1)\n",
    "y_test_stand = df_test_stand['price']"
   ]
  },
  {
   "cell_type": "markdown",
   "id": "6a99c415",
   "metadata": {},
   "source": [
    "### Linearna regresija na standardiziranim podacima"
   ]
  },
  {
   "cell_type": "code",
   "execution_count": 144,
   "id": "6ef6488a",
   "metadata": {},
   "outputs": [
    {
     "name": "stdout",
     "output_type": "stream",
     "text": [
      "Root Mean Squared Erorr (RMSE):  240310667586.64172\n"
     ]
    }
   ],
   "source": [
    "model = LinearRegression().fit(X_train_stand, y_train_stand)\n",
    "y_hat = model.predict(X_val_stand)\n",
    "\n",
    "mse = mean_squared_error(y_val_stand, y_hat)\n",
    "\n",
    "print('Root Mean Squared Erorr (RMSE): ',np.sqrt(mse))"
   ]
  },
  {
   "cell_type": "code",
   "execution_count": 145,
   "id": "b6afd745",
   "metadata": {},
   "outputs": [
    {
     "name": "stdout",
     "output_type": "stream",
     "text": [
      "Root Mean Squared Erorr (RMSE):  0.48543211740636855\n"
     ]
    }
   ],
   "source": [
    "grad_model = GradientBoostingRegressor(n_estimators=500, max_depth=10, learning_rate=0.1, random_state=42).fit(X_train_stand,y_train_stand.ravel())\n",
    "y_hat_grad = grad_model.predict(X_val_stand)\n",
    "\n",
    "mse = mean_squared_error(y_val_stand, y_hat_grad)\n",
    "\n",
    "print('Root Mean Squared Erorr (RMSE): ',np.sqrt(mse))"
   ]
  },
  {
   "cell_type": "code",
   "execution_count": null,
   "id": "87d09917",
   "metadata": {},
   "outputs": [],
   "source": [
    "# SVR\n",
    "# plotat predvidene i prave cijene"
   ]
  }
 ],
 "metadata": {
  "kernelspec": {
   "display_name": "Python 3 (ipykernel)",
   "language": "python",
   "name": "python3"
  },
  "language_info": {
   "codemirror_mode": {
    "name": "ipython",
    "version": 3
   },
   "file_extension": ".py",
   "mimetype": "text/x-python",
   "name": "python",
   "nbconvert_exporter": "python",
   "pygments_lexer": "ipython3",
   "version": "3.9.12"
  }
 },
 "nbformat": 4,
 "nbformat_minor": 5
}
