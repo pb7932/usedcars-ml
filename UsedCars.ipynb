{
 "cells": [
  {
   "cell_type": "markdown",
   "id": "3bf498df",
   "metadata": {},
   "source": [
    "# Used Cars"
   ]
  },
  {
   "cell_type": "markdown",
   "id": "504e07e5",
   "metadata": {},
   "source": [
    "Used Cars skup podataka sadrži informacije o prodaji automobila koje pruža Craigslist.\n",
    "Više informacija je moguće pronaći na: https://www.kaggle.com/datasets/austinreese/craigslist-carstrucks-data"
   ]
  },
  {
   "cell_type": "code",
   "execution_count": 1,
   "id": "423584c7",
   "metadata": {},
   "outputs": [],
   "source": [
    "import numpy as np\n",
    "import pandas as pd\n",
    "import matplotlib.pyplot as plt\n",
    "import seaborn as sns\n",
    "%matplotlib inline\n",
    "\n",
    "\n",
    "# mozes napravit specijalno rjesenja za npr samo toyotu"
   ]
  },
  {
   "cell_type": "markdown",
   "id": "8c5bf2f5",
   "metadata": {},
   "source": [
    "## Učitavanje podataka"
   ]
  },
  {
   "cell_type": "markdown",
   "id": "ab957d02",
   "metadata": {},
   "source": [
    "Na samom početku je potrebno učitati podatke i pogledati od kojih se stupaca sastoji te kakve se informacije u njima pružaju."
   ]
  },
  {
   "cell_type": "code",
   "execution_count": 2,
   "id": "33112aa5",
   "metadata": {},
   "outputs": [
    {
     "data": {
      "text/html": [
       "<div>\n",
       "<style scoped>\n",
       "    .dataframe tbody tr th:only-of-type {\n",
       "        vertical-align: middle;\n",
       "    }\n",
       "\n",
       "    .dataframe tbody tr th {\n",
       "        vertical-align: top;\n",
       "    }\n",
       "\n",
       "    .dataframe thead th {\n",
       "        text-align: right;\n",
       "    }\n",
       "</style>\n",
       "<table border=\"1\" class=\"dataframe\">\n",
       "  <thead>\n",
       "    <tr style=\"text-align: right;\">\n",
       "      <th></th>\n",
       "      <th>id</th>\n",
       "      <th>url</th>\n",
       "      <th>region</th>\n",
       "      <th>region_url</th>\n",
       "      <th>price</th>\n",
       "      <th>year</th>\n",
       "      <th>manufacturer</th>\n",
       "      <th>model</th>\n",
       "      <th>condition</th>\n",
       "      <th>cylinders</th>\n",
       "      <th>...</th>\n",
       "      <th>size</th>\n",
       "      <th>type</th>\n",
       "      <th>paint_color</th>\n",
       "      <th>image_url</th>\n",
       "      <th>description</th>\n",
       "      <th>county</th>\n",
       "      <th>state</th>\n",
       "      <th>lat</th>\n",
       "      <th>long</th>\n",
       "      <th>posting_date</th>\n",
       "    </tr>\n",
       "  </thead>\n",
       "  <tbody>\n",
       "    <tr>\n",
       "      <th>0</th>\n",
       "      <td>7222695916</td>\n",
       "      <td>https://prescott.craigslist.org/cto/d/prescott...</td>\n",
       "      <td>prescott</td>\n",
       "      <td>https://prescott.craigslist.org</td>\n",
       "      <td>6000</td>\n",
       "      <td>NaN</td>\n",
       "      <td>NaN</td>\n",
       "      <td>NaN</td>\n",
       "      <td>NaN</td>\n",
       "      <td>NaN</td>\n",
       "      <td>...</td>\n",
       "      <td>NaN</td>\n",
       "      <td>NaN</td>\n",
       "      <td>NaN</td>\n",
       "      <td>NaN</td>\n",
       "      <td>NaN</td>\n",
       "      <td>NaN</td>\n",
       "      <td>az</td>\n",
       "      <td>NaN</td>\n",
       "      <td>NaN</td>\n",
       "      <td>NaN</td>\n",
       "    </tr>\n",
       "    <tr>\n",
       "      <th>1</th>\n",
       "      <td>7218891961</td>\n",
       "      <td>https://fayar.craigslist.org/ctd/d/bentonville...</td>\n",
       "      <td>fayetteville</td>\n",
       "      <td>https://fayar.craigslist.org</td>\n",
       "      <td>11900</td>\n",
       "      <td>NaN</td>\n",
       "      <td>NaN</td>\n",
       "      <td>NaN</td>\n",
       "      <td>NaN</td>\n",
       "      <td>NaN</td>\n",
       "      <td>...</td>\n",
       "      <td>NaN</td>\n",
       "      <td>NaN</td>\n",
       "      <td>NaN</td>\n",
       "      <td>NaN</td>\n",
       "      <td>NaN</td>\n",
       "      <td>NaN</td>\n",
       "      <td>ar</td>\n",
       "      <td>NaN</td>\n",
       "      <td>NaN</td>\n",
       "      <td>NaN</td>\n",
       "    </tr>\n",
       "    <tr>\n",
       "      <th>2</th>\n",
       "      <td>7221797935</td>\n",
       "      <td>https://keys.craigslist.org/cto/d/summerland-k...</td>\n",
       "      <td>florida keys</td>\n",
       "      <td>https://keys.craigslist.org</td>\n",
       "      <td>21000</td>\n",
       "      <td>NaN</td>\n",
       "      <td>NaN</td>\n",
       "      <td>NaN</td>\n",
       "      <td>NaN</td>\n",
       "      <td>NaN</td>\n",
       "      <td>...</td>\n",
       "      <td>NaN</td>\n",
       "      <td>NaN</td>\n",
       "      <td>NaN</td>\n",
       "      <td>NaN</td>\n",
       "      <td>NaN</td>\n",
       "      <td>NaN</td>\n",
       "      <td>fl</td>\n",
       "      <td>NaN</td>\n",
       "      <td>NaN</td>\n",
       "      <td>NaN</td>\n",
       "    </tr>\n",
       "    <tr>\n",
       "      <th>3</th>\n",
       "      <td>7222270760</td>\n",
       "      <td>https://worcester.craigslist.org/cto/d/west-br...</td>\n",
       "      <td>worcester / central MA</td>\n",
       "      <td>https://worcester.craigslist.org</td>\n",
       "      <td>1500</td>\n",
       "      <td>NaN</td>\n",
       "      <td>NaN</td>\n",
       "      <td>NaN</td>\n",
       "      <td>NaN</td>\n",
       "      <td>NaN</td>\n",
       "      <td>...</td>\n",
       "      <td>NaN</td>\n",
       "      <td>NaN</td>\n",
       "      <td>NaN</td>\n",
       "      <td>NaN</td>\n",
       "      <td>NaN</td>\n",
       "      <td>NaN</td>\n",
       "      <td>ma</td>\n",
       "      <td>NaN</td>\n",
       "      <td>NaN</td>\n",
       "      <td>NaN</td>\n",
       "    </tr>\n",
       "    <tr>\n",
       "      <th>4</th>\n",
       "      <td>7210384030</td>\n",
       "      <td>https://greensboro.craigslist.org/cto/d/trinit...</td>\n",
       "      <td>greensboro</td>\n",
       "      <td>https://greensboro.craigslist.org</td>\n",
       "      <td>4900</td>\n",
       "      <td>NaN</td>\n",
       "      <td>NaN</td>\n",
       "      <td>NaN</td>\n",
       "      <td>NaN</td>\n",
       "      <td>NaN</td>\n",
       "      <td>...</td>\n",
       "      <td>NaN</td>\n",
       "      <td>NaN</td>\n",
       "      <td>NaN</td>\n",
       "      <td>NaN</td>\n",
       "      <td>NaN</td>\n",
       "      <td>NaN</td>\n",
       "      <td>nc</td>\n",
       "      <td>NaN</td>\n",
       "      <td>NaN</td>\n",
       "      <td>NaN</td>\n",
       "    </tr>\n",
       "  </tbody>\n",
       "</table>\n",
       "<p>5 rows × 26 columns</p>\n",
       "</div>"
      ],
      "text/plain": [
       "           id                                                url  \\\n",
       "0  7222695916  https://prescott.craigslist.org/cto/d/prescott...   \n",
       "1  7218891961  https://fayar.craigslist.org/ctd/d/bentonville...   \n",
       "2  7221797935  https://keys.craigslist.org/cto/d/summerland-k...   \n",
       "3  7222270760  https://worcester.craigslist.org/cto/d/west-br...   \n",
       "4  7210384030  https://greensboro.craigslist.org/cto/d/trinit...   \n",
       "\n",
       "                   region                         region_url  price  year  \\\n",
       "0                prescott    https://prescott.craigslist.org   6000   NaN   \n",
       "1            fayetteville       https://fayar.craigslist.org  11900   NaN   \n",
       "2            florida keys        https://keys.craigslist.org  21000   NaN   \n",
       "3  worcester / central MA   https://worcester.craigslist.org   1500   NaN   \n",
       "4              greensboro  https://greensboro.craigslist.org   4900   NaN   \n",
       "\n",
       "  manufacturer model condition cylinders  ... size  type paint_color  \\\n",
       "0          NaN   NaN       NaN       NaN  ...  NaN   NaN         NaN   \n",
       "1          NaN   NaN       NaN       NaN  ...  NaN   NaN         NaN   \n",
       "2          NaN   NaN       NaN       NaN  ...  NaN   NaN         NaN   \n",
       "3          NaN   NaN       NaN       NaN  ...  NaN   NaN         NaN   \n",
       "4          NaN   NaN       NaN       NaN  ...  NaN   NaN         NaN   \n",
       "\n",
       "  image_url description county state lat long posting_date  \n",
       "0       NaN         NaN    NaN    az NaN  NaN          NaN  \n",
       "1       NaN         NaN    NaN    ar NaN  NaN          NaN  \n",
       "2       NaN         NaN    NaN    fl NaN  NaN          NaN  \n",
       "3       NaN         NaN    NaN    ma NaN  NaN          NaN  \n",
       "4       NaN         NaN    NaN    nc NaN  NaN          NaN  \n",
       "\n",
       "[5 rows x 26 columns]"
      ]
     },
     "execution_count": 2,
     "metadata": {},
     "output_type": "execute_result"
    }
   ],
   "source": [
    "df = pd.read_csv('api/vehicles.csv')\n",
    "df.head(5)"
   ]
  },
  {
   "cell_type": "markdown",
   "id": "a04e1fba",
   "metadata": {},
   "source": [
    "Kolonu id postavljam kao index skupa podataka."
   ]
  },
  {
   "cell_type": "code",
   "execution_count": 3,
   "id": "e07e1ffd",
   "metadata": {},
   "outputs": [],
   "source": [
    "df = df.set_index('id')"
   ]
  },
  {
   "cell_type": "code",
   "execution_count": 4,
   "id": "82571bfd",
   "metadata": {},
   "outputs": [
    {
     "data": {
      "text/plain": [
       "(426880, 25)"
      ]
     },
     "execution_count": 4,
     "metadata": {},
     "output_type": "execute_result"
    }
   ],
   "source": [
    "df.shape"
   ]
  },
  {
   "cell_type": "code",
   "execution_count": 5,
   "id": "2f626ca4",
   "metadata": {},
   "outputs": [
    {
     "data": {
      "text/html": [
       "<div>\n",
       "<style scoped>\n",
       "    .dataframe tbody tr th:only-of-type {\n",
       "        vertical-align: middle;\n",
       "    }\n",
       "\n",
       "    .dataframe tbody tr th {\n",
       "        vertical-align: top;\n",
       "    }\n",
       "\n",
       "    .dataframe thead th {\n",
       "        text-align: right;\n",
       "    }\n",
       "</style>\n",
       "<table border=\"1\" class=\"dataframe\">\n",
       "  <thead>\n",
       "    <tr style=\"text-align: right;\">\n",
       "      <th></th>\n",
       "      <th>price</th>\n",
       "      <th>year</th>\n",
       "      <th>odometer</th>\n",
       "      <th>county</th>\n",
       "      <th>lat</th>\n",
       "      <th>long</th>\n",
       "    </tr>\n",
       "  </thead>\n",
       "  <tbody>\n",
       "    <tr>\n",
       "      <th>count</th>\n",
       "      <td>4.268800e+05</td>\n",
       "      <td>425675.000000</td>\n",
       "      <td>4.224800e+05</td>\n",
       "      <td>0.0</td>\n",
       "      <td>420331.000000</td>\n",
       "      <td>420331.000000</td>\n",
       "    </tr>\n",
       "    <tr>\n",
       "      <th>mean</th>\n",
       "      <td>7.519903e+04</td>\n",
       "      <td>2011.235191</td>\n",
       "      <td>9.804333e+04</td>\n",
       "      <td>NaN</td>\n",
       "      <td>38.493940</td>\n",
       "      <td>-94.748599</td>\n",
       "    </tr>\n",
       "    <tr>\n",
       "      <th>std</th>\n",
       "      <td>1.218228e+07</td>\n",
       "      <td>9.452120</td>\n",
       "      <td>2.138815e+05</td>\n",
       "      <td>NaN</td>\n",
       "      <td>5.841533</td>\n",
       "      <td>18.365462</td>\n",
       "    </tr>\n",
       "    <tr>\n",
       "      <th>min</th>\n",
       "      <td>0.000000e+00</td>\n",
       "      <td>1900.000000</td>\n",
       "      <td>0.000000e+00</td>\n",
       "      <td>NaN</td>\n",
       "      <td>-84.122245</td>\n",
       "      <td>-159.827728</td>\n",
       "    </tr>\n",
       "    <tr>\n",
       "      <th>25%</th>\n",
       "      <td>5.900000e+03</td>\n",
       "      <td>2008.000000</td>\n",
       "      <td>3.770400e+04</td>\n",
       "      <td>NaN</td>\n",
       "      <td>34.601900</td>\n",
       "      <td>-111.939847</td>\n",
       "    </tr>\n",
       "    <tr>\n",
       "      <th>50%</th>\n",
       "      <td>1.395000e+04</td>\n",
       "      <td>2013.000000</td>\n",
       "      <td>8.554800e+04</td>\n",
       "      <td>NaN</td>\n",
       "      <td>39.150100</td>\n",
       "      <td>-88.432600</td>\n",
       "    </tr>\n",
       "    <tr>\n",
       "      <th>75%</th>\n",
       "      <td>2.648575e+04</td>\n",
       "      <td>2017.000000</td>\n",
       "      <td>1.335425e+05</td>\n",
       "      <td>NaN</td>\n",
       "      <td>42.398900</td>\n",
       "      <td>-80.832039</td>\n",
       "    </tr>\n",
       "    <tr>\n",
       "      <th>max</th>\n",
       "      <td>3.736929e+09</td>\n",
       "      <td>2022.000000</td>\n",
       "      <td>1.000000e+07</td>\n",
       "      <td>NaN</td>\n",
       "      <td>82.390818</td>\n",
       "      <td>173.885502</td>\n",
       "    </tr>\n",
       "  </tbody>\n",
       "</table>\n",
       "</div>"
      ],
      "text/plain": [
       "              price           year      odometer  county            lat  \\\n",
       "count  4.268800e+05  425675.000000  4.224800e+05     0.0  420331.000000   \n",
       "mean   7.519903e+04    2011.235191  9.804333e+04     NaN      38.493940   \n",
       "std    1.218228e+07       9.452120  2.138815e+05     NaN       5.841533   \n",
       "min    0.000000e+00    1900.000000  0.000000e+00     NaN     -84.122245   \n",
       "25%    5.900000e+03    2008.000000  3.770400e+04     NaN      34.601900   \n",
       "50%    1.395000e+04    2013.000000  8.554800e+04     NaN      39.150100   \n",
       "75%    2.648575e+04    2017.000000  1.335425e+05     NaN      42.398900   \n",
       "max    3.736929e+09    2022.000000  1.000000e+07     NaN      82.390818   \n",
       "\n",
       "                long  \n",
       "count  420331.000000  \n",
       "mean      -94.748599  \n",
       "std        18.365462  \n",
       "min      -159.827728  \n",
       "25%      -111.939847  \n",
       "50%       -88.432600  \n",
       "75%       -80.832039  \n",
       "max       173.885502  "
      ]
     },
     "execution_count": 5,
     "metadata": {},
     "output_type": "execute_result"
    }
   ],
   "source": [
    "df.describe()"
   ]
  },
  {
   "cell_type": "markdown",
   "id": "1a654b9e",
   "metadata": {},
   "source": [
    "Iz podataka o distribuciji možemo uočiti da kolona price sadrži outliere pa je njih potrebno maknuti iz skupa podataka."
   ]
  },
  {
   "cell_type": "code",
   "execution_count": 6,
   "id": "7fffba1d",
   "metadata": {},
   "outputs": [
    {
     "data": {
      "text/plain": [
       "id\n",
       "7308056031    3736928711\n",
       "7302445002    3736928711\n",
       "7309735768    3024942282\n",
       "7309730903    3024942282\n",
       "7314052904    3009548743\n",
       "7304345156    1410065407\n",
       "7305153975    1234567890\n",
       "7305265540    1111111111\n",
       "7314053169    1111111111\n",
       "7315836487     987654321\n",
       "7315849335     987654321\n",
       "7308010868     135008900\n",
       "7315524207     123456789\n",
       "7302369138     123456789\n",
       "7303218798     123456789\n",
       "7317052348     123456789\n",
       "7314339777     123456789\n",
       "7316831610     123456789\n",
       "7313748377     113456789\n",
       "7315961634      99999999\n",
       "7305725228      25003000\n",
       "7316047597      17000000\n",
       "7302117601      12345678\n",
       "7316737760      12345678\n",
       "7316737396      12345678\n",
       "7316736586      12345678\n",
       "7302112231      12345678\n",
       "7302113550      12345678\n",
       "7315944204      11111111\n",
       "7316820733      10004000\n",
       "7314124996       6995495\n",
       "7314839271       5000000\n",
       "7314563134       3226714\n",
       "7302895209       2000000\n",
       "7316162605       1666666\n",
       "7303379556       1234567\n",
       "7303381671       1234567\n",
       "7304058775       1234567\n",
       "7303377558       1234567\n",
       "7308748768       1234567\n",
       "7304059291       1234567\n",
       "7304058513       1234567\n",
       "7301841237       1234567\n",
       "7301832876       1234567\n",
       "7303378226       1234567\n",
       "7307876060       1234567\n",
       "7301838920       1234567\n",
       "7304059523       1234567\n",
       "7315942075       1111111\n",
       "7315745313       1111111\n",
       "Name: price, dtype: int64"
      ]
     },
     "execution_count": 6,
     "metadata": {},
     "output_type": "execute_result"
    }
   ],
   "source": [
    "price_sorted = df['price'].sort_values(ascending=False)\n",
    "price_sorted.head(50)"
   ]
  },
  {
   "cell_type": "markdown",
   "id": "7359a203",
   "metadata": {},
   "source": [
    "Vidimo da postoje cijene koje su nerealno velike. Također postoje cijene poput 123456789 koje izgledaju sasvim nasumičnim. Ovakve su greške mogle nastatiti pogreškom u scrapingu ili pogrešnim unosom u bazu podataka.  Uklonit ću sve cijene koje su veće od 10 000 000 kako bi uklonili outliere is skupa. Također postoje retci u kojima je cijena automobila manja od 100 ili čak 0. Vjerojatno su ovakvi rezultati također nastali greškom jer ne postoje automobili na Craigslistu koji se prodaju po cijeni 0, pa ću i njih ukloniti."
   ]
  },
  {
   "cell_type": "code",
   "execution_count": 7,
   "id": "b5b269ff",
   "metadata": {},
   "outputs": [
    {
     "data": {
      "text/html": [
       "<div>\n",
       "<style scoped>\n",
       "    .dataframe tbody tr th:only-of-type {\n",
       "        vertical-align: middle;\n",
       "    }\n",
       "\n",
       "    .dataframe tbody tr th {\n",
       "        vertical-align: top;\n",
       "    }\n",
       "\n",
       "    .dataframe thead th {\n",
       "        text-align: right;\n",
       "    }\n",
       "</style>\n",
       "<table border=\"1\" class=\"dataframe\">\n",
       "  <thead>\n",
       "    <tr style=\"text-align: right;\">\n",
       "      <th></th>\n",
       "      <th>price</th>\n",
       "      <th>year</th>\n",
       "      <th>odometer</th>\n",
       "      <th>county</th>\n",
       "      <th>lat</th>\n",
       "      <th>long</th>\n",
       "    </tr>\n",
       "  </thead>\n",
       "  <tbody>\n",
       "    <tr>\n",
       "      <th>count</th>\n",
       "      <td>3.793260e+05</td>\n",
       "      <td>378162.000000</td>\n",
       "      <td>3.772480e+05</td>\n",
       "      <td>0.0</td>\n",
       "      <td>375874.000000</td>\n",
       "      <td>375874.000000</td>\n",
       "    </tr>\n",
       "    <tr>\n",
       "      <th>mean</th>\n",
       "      <td>1.975398e+04</td>\n",
       "      <td>2010.997639</td>\n",
       "      <td>9.800611e+04</td>\n",
       "      <td>NaN</td>\n",
       "      <td>38.504596</td>\n",
       "      <td>-94.295888</td>\n",
       "    </tr>\n",
       "    <tr>\n",
       "      <th>std</th>\n",
       "      <td>2.379319e+04</td>\n",
       "      <td>9.591236</td>\n",
       "      <td>1.841522e+05</td>\n",
       "      <td>NaN</td>\n",
       "      <td>5.842188</td>\n",
       "      <td>18.073329</td>\n",
       "    </tr>\n",
       "    <tr>\n",
       "      <th>min</th>\n",
       "      <td>1.002000e+03</td>\n",
       "      <td>1900.000000</td>\n",
       "      <td>0.000000e+00</td>\n",
       "      <td>NaN</td>\n",
       "      <td>-84.122245</td>\n",
       "      <td>-159.719900</td>\n",
       "    </tr>\n",
       "    <tr>\n",
       "      <th>25%</th>\n",
       "      <td>7.995000e+03</td>\n",
       "      <td>2008.000000</td>\n",
       "      <td>3.812300e+04</td>\n",
       "      <td>NaN</td>\n",
       "      <td>34.705500</td>\n",
       "      <td>-110.916482</td>\n",
       "    </tr>\n",
       "    <tr>\n",
       "      <th>50%</th>\n",
       "      <td>1.599500e+04</td>\n",
       "      <td>2013.000000</td>\n",
       "      <td>8.749450e+04</td>\n",
       "      <td>NaN</td>\n",
       "      <td>39.190000</td>\n",
       "      <td>-88.005400</td>\n",
       "    </tr>\n",
       "    <tr>\n",
       "      <th>75%</th>\n",
       "      <td>2.799000e+04</td>\n",
       "      <td>2017.000000</td>\n",
       "      <td>1.360000e+05</td>\n",
       "      <td>NaN</td>\n",
       "      <td>42.350000</td>\n",
       "      <td>-80.829894</td>\n",
       "    </tr>\n",
       "    <tr>\n",
       "      <th>max</th>\n",
       "      <td>6.995495e+06</td>\n",
       "      <td>2022.000000</td>\n",
       "      <td>1.000000e+07</td>\n",
       "      <td>NaN</td>\n",
       "      <td>82.390818</td>\n",
       "      <td>173.885502</td>\n",
       "    </tr>\n",
       "  </tbody>\n",
       "</table>\n",
       "</div>"
      ],
      "text/plain": [
       "              price           year      odometer  county            lat  \\\n",
       "count  3.793260e+05  378162.000000  3.772480e+05     0.0  375874.000000   \n",
       "mean   1.975398e+04    2010.997639  9.800611e+04     NaN      38.504596   \n",
       "std    2.379319e+04       9.591236  1.841522e+05     NaN       5.842188   \n",
       "min    1.002000e+03    1900.000000  0.000000e+00     NaN     -84.122245   \n",
       "25%    7.995000e+03    2008.000000  3.812300e+04     NaN      34.705500   \n",
       "50%    1.599500e+04    2013.000000  8.749450e+04     NaN      39.190000   \n",
       "75%    2.799000e+04    2017.000000  1.360000e+05     NaN      42.350000   \n",
       "max    6.995495e+06    2022.000000  1.000000e+07     NaN      82.390818   \n",
       "\n",
       "                long  \n",
       "count  375874.000000  \n",
       "mean      -94.295888  \n",
       "std        18.073329  \n",
       "min      -159.719900  \n",
       "25%      -110.916482  \n",
       "50%       -88.005400  \n",
       "75%       -80.829894  \n",
       "max       173.885502  "
      ]
     },
     "execution_count": 7,
     "metadata": {},
     "output_type": "execute_result"
    }
   ],
   "source": [
    "df = df[df['price'] < 10000000]\n",
    "df = df[df['price'] > 1000]\n",
    "df.describe()"
   ]
  },
  {
   "cell_type": "code",
   "execution_count": 8,
   "id": "222fba82",
   "metadata": {},
   "outputs": [
    {
     "data": {
      "text/plain": [
       "ford               63123\n",
       "chevrolet          48974\n",
       "toyota             30570\n",
       "honda              19115\n",
       "nissan             16633\n",
       "jeep               16527\n",
       "ram                15912\n",
       "gmc                15075\n",
       "bmw                13217\n",
       "dodge              11497\n",
       "mercedes-benz       9994\n",
       "hyundai             9004\n",
       "subaru              8695\n",
       "volkswagen          8429\n",
       "lexus               7551\n",
       "kia                 7185\n",
       "audi                6966\n",
       "cadillac            6310\n",
       "acura               5513\n",
       "chrysler            5435\n",
       "buick               5020\n",
       "mazda               4881\n",
       "infiniti            4377\n",
       "lincoln             3981\n",
       "volvo               3199\n",
       "mitsubishi          2975\n",
       "mini                2211\n",
       "pontiac             2163\n",
       "rover               1902\n",
       "jaguar              1860\n",
       "porsche             1272\n",
       "mercury             1044\n",
       "saturn              1022\n",
       "alfa-romeo           856\n",
       "tesla                811\n",
       "fiat                 728\n",
       "harley-davidson      136\n",
       "ferrari               80\n",
       "datsun                59\n",
       "aston-martin          21\n",
       "land rover            11\n",
       "morgan                 2\n",
       "Name: manufacturer, dtype: int64"
      ]
     },
     "execution_count": 8,
     "metadata": {},
     "output_type": "execute_result"
    }
   ],
   "source": [
    "df['manufacturer'].value_counts()"
   ]
  },
  {
   "cell_type": "markdown",
   "id": "fac6753b",
   "metadata": {},
   "source": [
    "Odlučio sam se za izradu prediktivnog modela samo nad Ford automobilima."
   ]
  },
  {
   "cell_type": "code",
   "execution_count": 9,
   "id": "93e790ae",
   "metadata": {},
   "outputs": [],
   "source": [
    "df = df[df['manufacturer'] == 'ford']"
   ]
  },
  {
   "cell_type": "code",
   "execution_count": 10,
   "id": "482ee3dc",
   "metadata": {},
   "outputs": [
    {
     "data": {
      "text/plain": [
       "id\n",
       "7312388595    1000000\n",
       "7313752706    1000000\n",
       "7310495996    1000000\n",
       "7317067334     999999\n",
       "7313852214     225000\n",
       "7316352222     225000\n",
       "7316240854     213000\n",
       "7316221976     213000\n",
       "7315904521     175000\n",
       "7310531509     150000\n",
       "7314985804     135000\n",
       "7315218288     129000\n",
       "7315218650     129000\n",
       "7316206367     125000\n",
       "7314523049     123456\n",
       "7314829807     123456\n",
       "7309746801     119999\n",
       "7316935761     119999\n",
       "7315954519     119995\n",
       "7311856070     119995\n",
       "7309945912     119900\n",
       "7309389841     119900\n",
       "7312903257     119888\n",
       "7306896169     116000\n",
       "7311596305     112500\n",
       "7312866001     110000\n",
       "7315950651     109950\n",
       "7315301205     107999\n",
       "7314085180     103500\n",
       "7305712270     102999\n",
       "7308288624     102900\n",
       "7308821737     100995\n",
       "7314759510     100995\n",
       "7312900675     100995\n",
       "7309906351     100995\n",
       "7312021654     100000\n",
       "7303591866     100000\n",
       "7316787660     100000\n",
       "7306824123     100000\n",
       "7317034296      99999\n",
       "7315009609      99999\n",
       "7316789567      99888\n",
       "7315520204      99888\n",
       "7315632211      99700\n",
       "7316388850      99000\n",
       "7316386358      99000\n",
       "7315923139      98750\n",
       "7316342215      97900\n",
       "7307730715      97500\n",
       "7315350737      95995\n",
       "Name: price, dtype: int64"
      ]
     },
     "execution_count": 10,
     "metadata": {},
     "output_type": "execute_result"
    }
   ],
   "source": [
    "price_sorted = df['price'].sort_values(ascending=False)\n",
    "price_sorted.head(50)"
   ]
  },
  {
   "cell_type": "code",
   "execution_count": 11,
   "id": "4f1b9812",
   "metadata": {},
   "outputs": [
    {
     "data": {
      "text/html": [
       "<div>\n",
       "<style scoped>\n",
       "    .dataframe tbody tr th:only-of-type {\n",
       "        vertical-align: middle;\n",
       "    }\n",
       "\n",
       "    .dataframe tbody tr th {\n",
       "        vertical-align: top;\n",
       "    }\n",
       "\n",
       "    .dataframe thead th {\n",
       "        text-align: right;\n",
       "    }\n",
       "</style>\n",
       "<table border=\"1\" class=\"dataframe\">\n",
       "  <thead>\n",
       "    <tr style=\"text-align: right;\">\n",
       "      <th></th>\n",
       "      <th>price</th>\n",
       "      <th>year</th>\n",
       "      <th>odometer</th>\n",
       "      <th>county</th>\n",
       "      <th>lat</th>\n",
       "      <th>long</th>\n",
       "    </tr>\n",
       "  </thead>\n",
       "  <tbody>\n",
       "    <tr>\n",
       "      <th>count</th>\n",
       "      <td>63119.00000</td>\n",
       "      <td>63119.000000</td>\n",
       "      <td>6.283400e+04</td>\n",
       "      <td>0.0</td>\n",
       "      <td>62560.000000</td>\n",
       "      <td>62560.000000</td>\n",
       "    </tr>\n",
       "    <tr>\n",
       "      <th>mean</th>\n",
       "      <td>21527.68176</td>\n",
       "      <td>2010.252174</td>\n",
       "      <td>1.072542e+05</td>\n",
       "      <td>NaN</td>\n",
       "      <td>38.633975</td>\n",
       "      <td>-94.317073</td>\n",
       "    </tr>\n",
       "    <tr>\n",
       "      <th>std</th>\n",
       "      <td>16030.76423</td>\n",
       "      <td>11.548930</td>\n",
       "      <td>1.926346e+05</td>\n",
       "      <td>NaN</td>\n",
       "      <td>5.874778</td>\n",
       "      <td>17.399751</td>\n",
       "    </tr>\n",
       "    <tr>\n",
       "      <th>min</th>\n",
       "      <td>1003.00000</td>\n",
       "      <td>1913.000000</td>\n",
       "      <td>0.000000e+00</td>\n",
       "      <td>NaN</td>\n",
       "      <td>-56.527029</td>\n",
       "      <td>-159.707445</td>\n",
       "    </tr>\n",
       "    <tr>\n",
       "      <th>25%</th>\n",
       "      <td>8950.00000</td>\n",
       "      <td>2008.000000</td>\n",
       "      <td>4.731375e+04</td>\n",
       "      <td>NaN</td>\n",
       "      <td>34.737481</td>\n",
       "      <td>-108.572700</td>\n",
       "    </tr>\n",
       "    <tr>\n",
       "      <th>50%</th>\n",
       "      <td>17590.00000</td>\n",
       "      <td>2013.000000</td>\n",
       "      <td>9.887200e+04</td>\n",
       "      <td>NaN</td>\n",
       "      <td>39.512938</td>\n",
       "      <td>-88.332200</td>\n",
       "    </tr>\n",
       "    <tr>\n",
       "      <th>75%</th>\n",
       "      <td>30982.00000</td>\n",
       "      <td>2017.000000</td>\n",
       "      <td>1.455000e+05</td>\n",
       "      <td>NaN</td>\n",
       "      <td>42.595900</td>\n",
       "      <td>-81.394800</td>\n",
       "    </tr>\n",
       "    <tr>\n",
       "      <th>max</th>\n",
       "      <td>225000.00000</td>\n",
       "      <td>2022.000000</td>\n",
       "      <td>1.000000e+07</td>\n",
       "      <td>NaN</td>\n",
       "      <td>73.325010</td>\n",
       "      <td>94.163200</td>\n",
       "    </tr>\n",
       "  </tbody>\n",
       "</table>\n",
       "</div>"
      ],
      "text/plain": [
       "              price          year      odometer  county           lat  \\\n",
       "count   63119.00000  63119.000000  6.283400e+04     0.0  62560.000000   \n",
       "mean    21527.68176   2010.252174  1.072542e+05     NaN     38.633975   \n",
       "std     16030.76423     11.548930  1.926346e+05     NaN      5.874778   \n",
       "min      1003.00000   1913.000000  0.000000e+00     NaN    -56.527029   \n",
       "25%      8950.00000   2008.000000  4.731375e+04     NaN     34.737481   \n",
       "50%     17590.00000   2013.000000  9.887200e+04     NaN     39.512938   \n",
       "75%     30982.00000   2017.000000  1.455000e+05     NaN     42.595900   \n",
       "max    225000.00000   2022.000000  1.000000e+07     NaN     73.325010   \n",
       "\n",
       "               long  \n",
       "count  62560.000000  \n",
       "mean     -94.317073  \n",
       "std       17.399751  \n",
       "min     -159.707445  \n",
       "25%     -108.572700  \n",
       "50%      -88.332200  \n",
       "75%      -81.394800  \n",
       "max       94.163200  "
      ]
     },
     "execution_count": 11,
     "metadata": {},
     "output_type": "execute_result"
    }
   ],
   "source": [
    "df = df[df['price'] < 300000]\n",
    "df.describe()"
   ]
  },
  {
   "cell_type": "code",
   "execution_count": 12,
   "id": "0bb188b3",
   "metadata": {},
   "outputs": [
    {
     "data": {
      "text/plain": [
       "(63119, 25)"
      ]
     },
     "execution_count": 12,
     "metadata": {},
     "output_type": "execute_result"
    }
   ],
   "source": [
    "df.shape"
   ]
  },
  {
   "cell_type": "markdown",
   "id": "77cfde02",
   "metadata": {},
   "source": [
    "## Tipovi podataka"
   ]
  },
  {
   "cell_type": "markdown",
   "id": "d3f47c04",
   "metadata": {},
   "source": [
    "Nakon pregleda podataka, nastavljam sa njihovom obradom. Prvi korak u obradi je pregled tipa stupaca i preoblikovanje tipa ukoliko je to potrebo. Može se vidjeti da je stupac 'year' tipa float64 pa ga je potrebno pretvoriti u tip int64. Također ću izvući broj cilindara iz stringa stupaca cylinders i pretvoriti ga u tip int32 jer model regresije radi samo sa numeričkim vrijednostima.  Na posljetku ću prebaciti stupac 'posting_date' iz object u datetime, a odmah i pretvoriti u numeričku vrijednost tako što ću izračunati koliko je dana prošlo od objva na Craigslistu do danas."
   ]
  },
  {
   "cell_type": "code",
   "execution_count": 13,
   "id": "ab28ea42",
   "metadata": {},
   "outputs": [
    {
     "data": {
      "text/plain": [
       "url              object\n",
       "region           object\n",
       "region_url       object\n",
       "price             int64\n",
       "year            float64\n",
       "manufacturer     object\n",
       "model            object\n",
       "condition        object\n",
       "cylinders        object\n",
       "fuel             object\n",
       "odometer        float64\n",
       "title_status     object\n",
       "transmission     object\n",
       "VIN              object\n",
       "drive            object\n",
       "size             object\n",
       "type             object\n",
       "paint_color      object\n",
       "image_url        object\n",
       "description      object\n",
       "county          float64\n",
       "state            object\n",
       "lat             float64\n",
       "long            float64\n",
       "posting_date     object\n",
       "dtype: object"
      ]
     },
     "execution_count": 13,
     "metadata": {},
     "output_type": "execute_result"
    }
   ],
   "source": [
    "df.dtypes"
   ]
  },
  {
   "cell_type": "code",
   "execution_count": 14,
   "id": "3800c3dd",
   "metadata": {},
   "outputs": [
    {
     "data": {
      "text/plain": [
       "8 cylinders     16846\n",
       "6 cylinders     12479\n",
       "4 cylinders      7199\n",
       "10 cylinders      913\n",
       "other             122\n",
       "3 cylinders       114\n",
       "5 cylinders        28\n",
       "12 cylinders        3\n",
       "Name: cylinders, dtype: int64"
      ]
     },
     "execution_count": 14,
     "metadata": {},
     "output_type": "execute_result"
    }
   ],
   "source": [
    "df['cylinders'].value_counts()"
   ]
  },
  {
   "cell_type": "code",
   "execution_count": 15,
   "id": "5ceb6b8d",
   "metadata": {},
   "outputs": [
    {
     "data": {
      "text/plain": [
       "url              object\n",
       "region           object\n",
       "region_url       object\n",
       "price             int64\n",
       "year              Int64\n",
       "manufacturer     object\n",
       "model            object\n",
       "condition        object\n",
       "cylinders         Int32\n",
       "fuel             object\n",
       "odometer        float64\n",
       "title_status     object\n",
       "transmission     object\n",
       "VIN              object\n",
       "drive            object\n",
       "size             object\n",
       "type             object\n",
       "paint_color      object\n",
       "image_url        object\n",
       "description      object\n",
       "county          float64\n",
       "state            object\n",
       "lat             float64\n",
       "long            float64\n",
       "posting_date      int64\n",
       "dtype: object"
      ]
     },
     "execution_count": 15,
     "metadata": {},
     "output_type": "execute_result"
    }
   ],
   "source": [
    "from datetime import datetime\n",
    "\n",
    "df['year'] = pd.to_numeric(df['year'], errors='coerce').astype(pd.Int64Dtype())\n",
    "df['cylinders'].apply(lambda x: '6 cylinders' if x=='other' else x)\n",
    "df['cylinders'] = pd.to_numeric(df['cylinders'].apply(lambda x: str(x).split()[0]), errors='coerce').astype(pd.Int32Dtype())\n",
    "df['posting_date'] = df['posting_date'].apply(lambda x: datetime.strptime(x, \"%Y-%m-%dT%H:%M:%S%z\").replace(tzinfo=None))\n",
    "\n",
    "today = datetime.today()\n",
    "df['posting_date'] = (today - df['posting_date']).dt.days\n",
    "df.dtypes"
   ]
  },
  {
   "cell_type": "markdown",
   "id": "161b448b",
   "metadata": {},
   "source": [
    "## Odabir značajki"
   ]
  },
  {
   "cell_type": "markdown",
   "id": "28e18627",
   "metadata": {},
   "source": [
    "Sve kolone nisu potrebne za predikciju cijene automibila, zbog čega radim novi skup podataka koji će sadržavati podskup kolona originalnog skupa podataka koji bi mogli biti od važnosti u predikciji. Kolona county je izbačena jer sadrži samo NaN vrijednosti. Neke od kolona poput url, region_url, title_status, VIN, image_url, description nisu od koristi u predikciji te nisu uključene u skup podataka koji će se koristiti za trening modela."
   ]
  },
  {
   "cell_type": "code",
   "execution_count": 16,
   "id": "d0c7a5bf",
   "metadata": {},
   "outputs": [],
   "source": [
    "df_feat = df.copy()\n",
    "df_feat = df_feat[['price','year','condition','cylinders','odometer','fuel', 'title_status', 'transmission','drive','size','type','posting_date']]"
   ]
  },
  {
   "cell_type": "code",
   "execution_count": 17,
   "id": "55ac72b5",
   "metadata": {},
   "outputs": [
    {
     "data": {
      "text/plain": [
       "(63119, 12)"
      ]
     },
     "execution_count": 17,
     "metadata": {},
     "output_type": "execute_result"
    }
   ],
   "source": [
    "df_feat.shape"
   ]
  },
  {
   "cell_type": "code",
   "execution_count": 18,
   "id": "ed98efce",
   "metadata": {},
   "outputs": [
    {
     "data": {
      "text/plain": [
       "0    15055\n",
       "2    14032\n",
       "3    11543\n",
       "1     9293\n",
       "5     8005\n",
       "4     5114\n",
       "6       38\n",
       "9       32\n",
       "8        5\n",
       "7        2\n",
       "dtype: int64"
      ]
     },
     "execution_count": 18,
     "metadata": {},
     "output_type": "execute_result"
    }
   ],
   "source": [
    "nan_cnt = df_feat.isnull().sum(axis=1)\n",
    "\n",
    "nan_cnt.value_counts()"
   ]
  },
  {
   "cell_type": "markdown",
   "id": "7ddea5f2",
   "metadata": {},
   "source": [
    "Uklonit ću redove koji imaju većinom nedostajuće vrijednosti kako ne bi trenirao nad primjerima sa većinski imputiranim podacima."
   ]
  },
  {
   "cell_type": "code",
   "execution_count": 19,
   "id": "5f11706b",
   "metadata": {},
   "outputs": [],
   "source": [
    "idx = nan_cnt < 8\n",
    "df_feat = df_feat[idx]"
   ]
  },
  {
   "cell_type": "code",
   "execution_count": 20,
   "id": "ab1cfd34",
   "metadata": {},
   "outputs": [
    {
     "data": {
      "text/plain": [
       "(63082, 12)"
      ]
     },
     "execution_count": 20,
     "metadata": {},
     "output_type": "execute_result"
    }
   ],
   "source": [
    "df_feat.shape"
   ]
  },
  {
   "cell_type": "markdown",
   "id": "683d25bc",
   "metadata": {},
   "source": [
    "## Podjela skupa podataka za fazu treniranja"
   ]
  },
  {
   "cell_type": "markdown",
   "id": "8a204cba",
   "metadata": {},
   "source": [
    "Prije imputacije nedostajućih vrijednosti, potrebno je podijeliti skup podataka na dijelove. Razlog je to što je potrebno vrijednost kojom će se nedostajeća vrijednost zamijeniti, primjerice prilikom računanja moda, izračunati na skupu podataka na kojem se model trenira jer model ne bi trebao biti svjestan podataka na kojima će se testirati njegove performanse."
   ]
  },
  {
   "cell_type": "markdown",
   "id": "692ba3e3",
   "metadata": {},
   "source": [
    "Obrađeni je skup podataka potrebno podijelit na više dijelova kako bi se nad njima mogla raditi regresija. Najčešće se skup dijeli na podskup za trening, podskup za validaciju te podskup za test, a može se i dodatno podijeliti na podskup za tuning. Podskup za trening služi za treniranje modela, odnosno podešavanje parametara modela, a podskup za validaciju za usporedbu modela sa različitim hiperparametrima. Ta se usporedba radi na skupu za validaciju koji je različit od skupa za treniranje kako bi se izbjegla pristranost jer statistički gledano nije ispravno mjeriti točnost modela na skupu na kojem je treniran. Slična je uporaba i podskupa za tuning. On se koristi kad postoje hiperparametri na više razina. Podskup za test služi za konačnu evaluaciju modela nakon što su određeni svi parametri i hiperparameteri. Također se originalni skup može podijeliti i na 10 (k) dijelo kad bi se radila 10-fold (k-fold) unakrsna validacija (cross-validation). Nakon što se podese hiperparametri modela, model se trenira na cjelokupnom skupu podataka prije nego se deploy-a."
   ]
  },
  {
   "cell_type": "code",
   "execution_count": 21,
   "id": "806d13a6",
   "metadata": {},
   "outputs": [],
   "source": [
    "from sklearn.model_selection import train_test_split\n",
    "\n",
    "df_train, df_test = train_test_split(df_feat, test_size=0.2, random_state=42)\n",
    "df_train, df_val =  train_test_split(df_train, test_size=0.2, random_state=42)"
   ]
  },
  {
   "cell_type": "markdown",
   "id": "52bd30e3",
   "metadata": {},
   "source": [
    "## Nedostajuće vrijednosti"
   ]
  },
  {
   "cell_type": "code",
   "execution_count": 22,
   "id": "a95bd594",
   "metadata": {},
   "outputs": [
    {
     "data": {
      "text/plain": [
       "price               0\n",
       "year                0\n",
       "condition       17818\n",
       "cylinders       16270\n",
       "odometer          171\n",
       "fuel              213\n",
       "title_status      563\n",
       "transmission      215\n",
       "drive           11043\n",
       "size            28018\n",
       "type            10501\n",
       "posting_date        0\n",
       "dtype: int64"
      ]
     },
     "execution_count": 22,
     "metadata": {},
     "output_type": "execute_result"
    }
   ],
   "source": [
    "df_train.isna().sum()"
   ]
  },
  {
   "cell_type": "markdown",
   "id": "461082d8",
   "metadata": {},
   "source": [
    "Postotak nedostajućih vrijednosti po koloni:"
   ]
  },
  {
   "cell_type": "code",
   "execution_count": 23,
   "id": "84ecbf74",
   "metadata": {},
   "outputs": [
    {
     "data": {
      "text/plain": [
       "price            0.000000\n",
       "year             0.000000\n",
       "condition       44.134549\n",
       "cylinders       40.300208\n",
       "odometer         0.423561\n",
       "fuel             0.527593\n",
       "title_status     1.394531\n",
       "transmission     0.532547\n",
       "drive           27.353116\n",
       "size            69.399584\n",
       "type            26.010601\n",
       "posting_date     0.000000\n",
       "dtype: float64"
      ]
     },
     "execution_count": 23,
     "metadata": {},
     "output_type": "execute_result"
    }
   ],
   "source": [
    "df_train.isna().sum() / len(df_train) * 100"
   ]
  },
  {
   "cell_type": "markdown",
   "id": "9bbb011e",
   "metadata": {},
   "source": [
    "Ovaj skup podataka sadrži velik broj nedostajućih vrijednosti te je potrebno proći kolonu po kolonu i odrediti na koji će se način pristupiti imputaciji podataka. Imputacija podataka je bitna jer mnogi regresijski modeli ne mogu baratati sa nedostajućim vrijednostima. Različite se metode koriste ovisno o tome jesu li podaci numerički ili kategoričiki. Ukoliko su podaci numerički, podaci se mogu imputirati tako što se umjesto nedostajuće vrijednosti stavi srednja vrijednost, medijan ili mod. Korištenje medijana i moda ima prednost u tome što na njega ne utječu outlieri koliko na srednju vrijednost. S druge strane, ove metode ne uzimaju u obrzir koreliranost podataka. Također je moguće koristit kNN metodu gdje se nedostajeća vrijednost zamijeni ovisno o primjerima koji su najbliži primjeru koji je u pitanju."
   ]
  },
  {
   "cell_type": "markdown",
   "id": "aa282baa",
   "metadata": {},
   "source": [
    "Moguće je i u potpunosti zanemarati neku od kolona ukoliko je broj nedostajućih vrijednosti prevelik. Takav je bio slučaj sa kolonom county kod odabira značajki koja se sastoji iskljčivo od NaN vrijednosti."
   ]
  },
  {
   "cell_type": "markdown",
   "id": "8c15e0b6",
   "metadata": {},
   "source": [
    "Kod kategoričkih varijabli je češće korištenje moda (najčešće vrijednsoti) kao zamjenu za nedostajuće vrijednosti. Kod numeričkih je podataka češće korištenje srednje vrijednosti i medijana jer oni bolje opisiuju numeričke varijable. Mod se koristi kad kolona koja je u pitanju nema velik postotak nedostajućih vrijednosti. Kad postoji mnogo nedostajućih vrijednosti, kao što je kolona cylinders, onda je bolje koristiti neku od prediktivnih metoda poput kNN."
   ]
  },
  {
   "cell_type": "markdown",
   "id": "851d2e69",
   "metadata": {},
   "source": [
    "Potrebno je i pregledati zavisnost varijabli sa cijenom kako bi ustanovili je li potrebno koristiti sve varijable u treniranju modela."
   ]
  },
  {
   "cell_type": "markdown",
   "id": "27c52a2e",
   "metadata": {},
   "source": [
    "Krenimo prvo sa imputacijom podataka kod numeričkih varijabli."
   ]
  },
  {
   "cell_type": "markdown",
   "id": "97dac61d",
   "metadata": {},
   "source": [
    "### Year"
   ]
  },
  {
   "cell_type": "code",
   "execution_count": 25,
   "id": "46ccc815",
   "metadata": {},
   "outputs": [
    {
     "data": {
      "text/html": [
       "<div>\n",
       "<style scoped>\n",
       "    .dataframe tbody tr th:only-of-type {\n",
       "        vertical-align: middle;\n",
       "    }\n",
       "\n",
       "    .dataframe tbody tr th {\n",
       "        vertical-align: top;\n",
       "    }\n",
       "\n",
       "    .dataframe thead th {\n",
       "        text-align: right;\n",
       "    }\n",
       "</style>\n",
       "<table border=\"1\" class=\"dataframe\">\n",
       "  <thead>\n",
       "    <tr style=\"text-align: right;\">\n",
       "      <th></th>\n",
       "      <th>price</th>\n",
       "    </tr>\n",
       "    <tr>\n",
       "      <th>year</th>\n",
       "      <th></th>\n",
       "    </tr>\n",
       "  </thead>\n",
       "  <tbody>\n",
       "    <tr>\n",
       "      <th>1991</th>\n",
       "      <td>9873.200000</td>\n",
       "    </tr>\n",
       "    <tr>\n",
       "      <th>1992</th>\n",
       "      <td>11039.968254</td>\n",
       "    </tr>\n",
       "    <tr>\n",
       "      <th>1993</th>\n",
       "      <td>9665.000000</td>\n",
       "    </tr>\n",
       "    <tr>\n",
       "      <th>1994</th>\n",
       "      <td>6926.318182</td>\n",
       "    </tr>\n",
       "    <tr>\n",
       "      <th>1995</th>\n",
       "      <td>7762.940476</td>\n",
       "    </tr>\n",
       "    <tr>\n",
       "      <th>1996</th>\n",
       "      <td>9883.043011</td>\n",
       "    </tr>\n",
       "    <tr>\n",
       "      <th>1997</th>\n",
       "      <td>8339.223140</td>\n",
       "    </tr>\n",
       "    <tr>\n",
       "      <th>1998</th>\n",
       "      <td>6395.369565</td>\n",
       "    </tr>\n",
       "    <tr>\n",
       "      <th>1999</th>\n",
       "      <td>11271.143167</td>\n",
       "    </tr>\n",
       "    <tr>\n",
       "      <th>2000</th>\n",
       "      <td>10336.280702</td>\n",
       "    </tr>\n",
       "    <tr>\n",
       "      <th>2001</th>\n",
       "      <td>10358.202652</td>\n",
       "    </tr>\n",
       "    <tr>\n",
       "      <th>2002</th>\n",
       "      <td>9170.840198</td>\n",
       "    </tr>\n",
       "    <tr>\n",
       "      <th>2003</th>\n",
       "      <td>9038.968085</td>\n",
       "    </tr>\n",
       "    <tr>\n",
       "      <th>2004</th>\n",
       "      <td>9334.951220</td>\n",
       "    </tr>\n",
       "    <tr>\n",
       "      <th>2005</th>\n",
       "      <td>9384.080042</td>\n",
       "    </tr>\n",
       "    <tr>\n",
       "      <th>2006</th>\n",
       "      <td>9903.447368</td>\n",
       "    </tr>\n",
       "    <tr>\n",
       "      <th>2007</th>\n",
       "      <td>10012.849442</td>\n",
       "    </tr>\n",
       "    <tr>\n",
       "      <th>2008</th>\n",
       "      <td>12680.708460</td>\n",
       "    </tr>\n",
       "    <tr>\n",
       "      <th>2009</th>\n",
       "      <td>10968.647392</td>\n",
       "    </tr>\n",
       "    <tr>\n",
       "      <th>2010</th>\n",
       "      <td>11810.957016</td>\n",
       "    </tr>\n",
       "    <tr>\n",
       "      <th>2011</th>\n",
       "      <td>16816.952558</td>\n",
       "    </tr>\n",
       "    <tr>\n",
       "      <th>2012</th>\n",
       "      <td>17834.390127</td>\n",
       "    </tr>\n",
       "    <tr>\n",
       "      <th>2013</th>\n",
       "      <td>17756.967485</td>\n",
       "    </tr>\n",
       "    <tr>\n",
       "      <th>2014</th>\n",
       "      <td>20146.353420</td>\n",
       "    </tr>\n",
       "    <tr>\n",
       "      <th>2015</th>\n",
       "      <td>26766.897351</td>\n",
       "    </tr>\n",
       "    <tr>\n",
       "      <th>2016</th>\n",
       "      <td>27502.725524</td>\n",
       "    </tr>\n",
       "    <tr>\n",
       "      <th>2017</th>\n",
       "      <td>32494.946026</td>\n",
       "    </tr>\n",
       "    <tr>\n",
       "      <th>2018</th>\n",
       "      <td>32744.155873</td>\n",
       "    </tr>\n",
       "    <tr>\n",
       "      <th>2019</th>\n",
       "      <td>39918.130597</td>\n",
       "    </tr>\n",
       "    <tr>\n",
       "      <th>2020</th>\n",
       "      <td>42291.999418</td>\n",
       "    </tr>\n",
       "    <tr>\n",
       "      <th>2021</th>\n",
       "      <td>51043.292135</td>\n",
       "    </tr>\n",
       "    <tr>\n",
       "      <th>2022</th>\n",
       "      <td>9045.000000</td>\n",
       "    </tr>\n",
       "  </tbody>\n",
       "</table>\n",
       "</div>"
      ],
      "text/plain": [
       "             price\n",
       "year              \n",
       "1991   9873.200000\n",
       "1992  11039.968254\n",
       "1993   9665.000000\n",
       "1994   6926.318182\n",
       "1995   7762.940476\n",
       "1996   9883.043011\n",
       "1997   8339.223140\n",
       "1998   6395.369565\n",
       "1999  11271.143167\n",
       "2000  10336.280702\n",
       "2001  10358.202652\n",
       "2002   9170.840198\n",
       "2003   9038.968085\n",
       "2004   9334.951220\n",
       "2005   9384.080042\n",
       "2006   9903.447368\n",
       "2007  10012.849442\n",
       "2008  12680.708460\n",
       "2009  10968.647392\n",
       "2010  11810.957016\n",
       "2011  16816.952558\n",
       "2012  17834.390127\n",
       "2013  17756.967485\n",
       "2014  20146.353420\n",
       "2015  26766.897351\n",
       "2016  27502.725524\n",
       "2017  32494.946026\n",
       "2018  32744.155873\n",
       "2019  39918.130597\n",
       "2020  42291.999418\n",
       "2021  51043.292135\n",
       "2022   9045.000000"
      ]
     },
     "execution_count": 25,
     "metadata": {},
     "output_type": "execute_result"
    }
   ],
   "source": [
    "df_price.pivot_table(values=['price'], index=['year'], aggfunc='mean')"
   ]
  },
  {
   "cell_type": "markdown",
   "id": "d4185c8b",
   "metadata": {},
   "source": [
    "Čini se da kolona year ima utjecaj na cijenu te da je cijena veća sa povećanjem vrijednosti varijable year pa ćemo sačuvati ovu varijablu. "
   ]
  },
  {
   "cell_type": "markdown",
   "id": "e2626419",
   "metadata": {},
   "source": [
    "### Cylinders"
   ]
  },
  {
   "cell_type": "markdown",
   "id": "f8bef76c",
   "metadata": {},
   "source": [
    "Sljedeće su grafovi korišteni prilikom odluke oko imputacije nepostojećih vrijenosti u koloni 'cylinders'. Pokušao sam saznati postoji li neka korelacija između kolone 'cylinders' i ostalih kolona."
   ]
  },
  {
   "cell_type": "code",
   "execution_count": 24,
   "id": "2e3e8ede",
   "metadata": {},
   "outputs": [
    {
     "data": {
      "text/plain": [
       "<seaborn.axisgrid.FacetGrid at 0x1aff113bbb0>"
      ]
     },
     "execution_count": 24,
     "metadata": {},
     "output_type": "execute_result"
    },
    {
     "data": {
      "image/png": "[encoded data removed]",
      "text/plain": [
       "<Figure size 360x360 with 1 Axes>"
      ]
     },
     "metadata": {
      "needs_background": "light"
     },
     "output_type": "display_data"
    }
   ],
   "source": [
    "sns.catplot(x='cylinders',y='type',data=df_train,kind='bar')"
   ]
  },
  {
   "cell_type": "code",
   "execution_count": 25,
   "id": "40e6816f",
   "metadata": {},
   "outputs": [
    {
     "data": {
      "text/plain": [
       "<seaborn.axisgrid.FacetGrid at 0x1aff2de6310>"
      ]
     },
     "execution_count": 25,
     "metadata": {},
     "output_type": "execute_result"
    },
    {
     "data": {
      "image/png": "[encoded data removed]",
      "text/plain": [
       "<Figure size 360x360 with 1 Axes>"
      ]
     },
     "metadata": {
      "needs_background": "light"
     },
     "output_type": "display_data"
    }
   ],
   "source": [
    "sns.catplot(x='cylinders',y='fuel',data=df_train,kind='bar')"
   ]
  },
  {
   "cell_type": "code",
   "execution_count": 26,
   "id": "8b03f962",
   "metadata": {},
   "outputs": [
    {
     "data": {
      "text/plain": [
       "<seaborn.axisgrid.FacetGrid at 0x1b0321da370>"
      ]
     },
     "execution_count": 26,
     "metadata": {},
     "output_type": "execute_result"
    },
    {
     "data": {
      "image/png": "[encoded data removed]",
      "text/plain": [
       "<Figure size 360x360 with 1 Axes>"
      ]
     },
     "metadata": {
      "needs_background": "light"
     },
     "output_type": "display_data"
    }
   ],
   "source": [
    "sns.catplot(x='cylinders',y='size',data=df_train,kind='bar')"
   ]
  },
  {
   "cell_type": "code",
   "execution_count": 27,
   "id": "8647d7b5",
   "metadata": {},
   "outputs": [
    {
     "data": {
      "text/plain": [
       "8     16846\n",
       "6     12479\n",
       "4      7199\n",
       "10      913\n",
       "3       114\n",
       "5        28\n",
       "12        3\n",
       "Name: cylinders, dtype: Int64"
      ]
     },
     "execution_count": 27,
     "metadata": {},
     "output_type": "execute_result"
    }
   ],
   "source": [
    "df_feat['cylinders'].value_counts()"
   ]
  },
  {
   "cell_type": "code",
   "execution_count": 28,
   "id": "bcd8bfdb",
   "metadata": {},
   "outputs": [
    {
     "data": {
      "text/plain": [
       "type\n",
       "SUV             6.0\n",
       "bus            10.0\n",
       "convertible     8.0\n",
       "coupe           8.0\n",
       "hatchback       4.0\n",
       "mini-van        6.0\n",
       "offroad         8.0\n",
       "other           8.0\n",
       "pickup          8.0\n",
       "sedan           4.0\n",
       "truck           8.0\n",
       "van             6.0\n",
       "wagon           6.0\n",
       "Name: cylinders, dtype: Float64"
      ]
     },
     "execution_count": 28,
     "metadata": {},
     "output_type": "execute_result"
    }
   ],
   "source": [
    "cyl = df_train.groupby(['type'])['cylinders'].median()\n",
    "cyl"
   ]
  },
  {
   "cell_type": "code",
   "execution_count": 29,
   "id": "f632804d",
   "metadata": {},
   "outputs": [
    {
     "data": {
      "text/plain": [
       "<seaborn.axisgrid.FacetGrid at 0x1b032b67b50>"
      ]
     },
     "execution_count": 29,
     "metadata": {},
     "output_type": "execute_result"
    },
    {
     "data": {
      "image/png": "[encoded data removed]",
      "text/plain": [
       "<Figure size 360x360 with 1 Axes>"
      ]
     },
     "metadata": {
      "needs_background": "light"
     },
     "output_type": "display_data"
    }
   ],
   "source": [
    "df_cyl = df_feat.copy()\n",
    "df_cyl = df_cyl[~df_cyl['cylinders'].isna()]\n",
    "sns.catplot(x='cylinders',y='price',data=df_cyl,kind='bar')"
   ]
  },
  {
   "cell_type": "markdown",
   "id": "02942440",
   "metadata": {},
   "source": [
    "Čini se da cijena ovisi o broju cilindara u automobilu. Automobil može proizvesti veću snagu ukoliko ima više cilindara pa je koreliranost sa cijenom donekle intuitivna. Nedostajeće vrijednosti u ovoj koloni ću zamjeniti sa medijanom cilindara."
   ]
  },
  {
   "cell_type": "code",
   "execution_count": 30,
   "id": "cbbf99aa",
   "metadata": {},
   "outputs": [
    {
     "data": {
      "text/plain": [
       "6.0"
      ]
     },
     "execution_count": 30,
     "metadata": {},
     "output_type": "execute_result"
    }
   ],
   "source": [
    "cyl_median = df_train['cylinders'].median()\n",
    "\n",
    "df_train['cylinders'].fillna(cyl_median, inplace=True)\n",
    "df_val['cylinders'].fillna(cyl_median, inplace=True)\n",
    "df_test['cylinders'].fillna(cyl_median, inplace=True)\n",
    "\n",
    "cyl_median"
   ]
  },
  {
   "cell_type": "markdown",
   "id": "ef43ba22",
   "metadata": {},
   "source": [
    "### Odometer"
   ]
  },
  {
   "cell_type": "code",
   "execution_count": 31,
   "id": "a7c0df80",
   "metadata": {},
   "outputs": [
    {
     "data": {
      "image/png": "[encoded data removed]",
      "text/plain": [
       "<Figure size 432x288 with 1 Axes>"
      ]
     },
     "metadata": {
      "needs_background": "light"
     },
     "output_type": "display_data"
    }
   ],
   "source": [
    "fig, ax = plt.subplots()\n",
    "sns.histplot(df_train['odometer'], ax=ax)\n",
    "ax.set_xlim(0,500000)\n",
    "plt.show()"
   ]
  },
  {
   "cell_type": "markdown",
   "id": "320f278b",
   "metadata": {},
   "source": [
    "Nedostajeće vrijednosti u koloni odometer ću zamijeniti srednjom medijanom te kolone."
   ]
  },
  {
   "cell_type": "code",
   "execution_count": 32,
   "id": "94eb3ca2",
   "metadata": {},
   "outputs": [
    {
     "data": {
      "text/plain": [
       "98818.0"
      ]
     },
     "execution_count": 32,
     "metadata": {},
     "output_type": "execute_result"
    }
   ],
   "source": [
    "odom_median = df_train['odometer'].median()\n",
    "df_train['odometer'] = df_train['odometer'].fillna(odom_median)\n",
    "df_val['odometer'] = df_val['odometer'].fillna(odom_median)\n",
    "df_test['odometer'] = df_test['odometer'].fillna(odom_median)\n",
    "odom_median"
   ]
  },
  {
   "cell_type": "markdown",
   "id": "cd57e698",
   "metadata": {},
   "source": [
    "### Kategoričke vrijednosti"
   ]
  },
  {
   "cell_type": "code",
   "execution_count": 33,
   "id": "a3e9ab26",
   "metadata": {},
   "outputs": [],
   "source": [
    "from sklearn.preprocessing import OneHotEncoder\n",
    "\n",
    "def encode(data_frame, column, encoder):\n",
    "    tmp = pd.DataFrame(data=encoder.transform(data_frame[[column]]), columns=encoder.get_feature_names_out())\n",
    "    data_frame.drop(columns=[column], axis=1, inplace=True)\n",
    "    data_frame = pd.concat([data_frame.reset_index(drop=True), tmp], axis=1)\n",
    "    \n",
    "    return data_frame"
   ]
  },
  {
   "cell_type": "markdown",
   "id": "810e67e0",
   "metadata": {},
   "source": [
    "U nastavku ću pogledati kakav je odnos cijene i kategoričkih varijabli. Sve je kategoričke varijable potrebno pretvoriti u numeričke vrijednosti kako bi modeli mogli raditi sa njima. U tu svrhu koristim OneHotEncoder koji će kategoričku varijublu kodirati u one hot encoding obliku. Prigodno je koristiti ovaj objekt premda ga se može spremiti korištenjem biblioteke joblib kako bi se kasnije mogao učitatit i koristiti prilikom izrade API-a."
   ]
  },
  {
   "cell_type": "code",
   "execution_count": 34,
   "id": "4fdfbf21",
   "metadata": {},
   "outputs": [
    {
     "name": "stderr",
     "output_type": "stream",
     "text": [
      "C:\\Users\\pebe1\\AppData\\Local\\Temp\\ipykernel_10892\\3149947368.py:5: UserWarning: Boolean Series key will be reindexed to match DataFrame index.\n",
      "  df_plot = df_plot[df_train['price']<quant[0.8]]\n"
     ]
    }
   ],
   "source": [
    "# korišteno za potrebe plotova\n",
    "quant = df_train['price'].quantile([0.2,0.8])\n",
    "\n",
    "df_plot = df_train[df_train['price']>quant[0.2]]\n",
    "df_plot = df_plot[df_train['price']<quant[0.8]]"
   ]
  },
  {
   "cell_type": "markdown",
   "id": "84e93fc6",
   "metadata": {},
   "source": [
    "#### Condition"
   ]
  },
  {
   "cell_type": "code",
   "execution_count": 35,
   "id": "777c179e",
   "metadata": {},
   "outputs": [
    {
     "data": {
      "text/plain": [
       "good         9879\n",
       "excellent    9817\n",
       "like new     2026\n",
       "fair          705\n",
       "new            90\n",
       "salvage        37\n",
       "Name: condition, dtype: int64"
      ]
     },
     "execution_count": 35,
     "metadata": {},
     "output_type": "execute_result"
    }
   ],
   "source": [
    "df_train['condition'].value_counts()"
   ]
  },
  {
   "cell_type": "code",
   "execution_count": 36,
   "id": "ea1438c5",
   "metadata": {},
   "outputs": [
    {
     "data": {
      "text/plain": [
       "<seaborn.axisgrid.FacetGrid at 0x1b0334353d0>"
      ]
     },
     "execution_count": 36,
     "metadata": {},
     "output_type": "execute_result"
    },
    {
     "data": {
      "image/png": "[encoded data removed]",
      "text/plain": [
       "<Figure size 360x360 with 1 Axes>"
      ]
     },
     "metadata": {
      "needs_background": "light"
     },
     "output_type": "display_data"
    }
   ],
   "source": [
    "sns.catplot(x='condition', y='price', data=df_train, kind='bar')"
   ]
  },
  {
   "cell_type": "markdown",
   "id": "e19359e6",
   "metadata": {},
   "source": [
    "Ova kolona sadrži jako velik broj nedostajućih vrijednosti, a izgleda da cijena ovisi o stanju automobila pa ću za nju iskorisiti kNN metodu nakon što imputiram vrijednosti za sve ostale kolone."
   ]
  },
  {
   "cell_type": "markdown",
   "id": "08eed350",
   "metadata": {},
   "source": [
    "#### Fuel"
   ]
  },
  {
   "cell_type": "code",
   "execution_count": 37,
   "id": "a45f1c63",
   "metadata": {},
   "outputs": [
    {
     "data": {
      "text/plain": [
       "gas         0.779800\n",
       "diesel      0.143778\n",
       "other       0.065191\n",
       "hybrid      0.010035\n",
       "electric    0.001195\n",
       "Name: fuel, dtype: float64"
      ]
     },
     "execution_count": 37,
     "metadata": {},
     "output_type": "execute_result"
    }
   ],
   "source": [
    "df_train['fuel'].value_counts(normalize=True)"
   ]
  },
  {
   "cell_type": "code",
   "execution_count": 38,
   "id": "bef4e629",
   "metadata": {},
   "outputs": [
    {
     "data": {
      "text/plain": [
       "<seaborn.axisgrid.FacetGrid at 0x1b0321df5b0>"
      ]
     },
     "execution_count": 38,
     "metadata": {},
     "output_type": "execute_result"
    },
    {
     "data": {
      "image/png": "[encoded data removed]",
      "text/plain": [
       "<Figure size 360x360 with 1 Axes>"
      ]
     },
     "metadata": {
      "needs_background": "light"
     },
     "output_type": "display_data"
    }
   ],
   "source": [
    "sns.catplot(x='fuel',y='price', data=df_train, kind='bar')"
   ]
  },
  {
   "cell_type": "markdown",
   "id": "29acf1e6",
   "metadata": {},
   "source": [
    "Kolona fuel sadrži malen broj NaN vrijednosti, a čak 80% vrijednosti je 'gas'. Zbog toga ću umjesto NaN vrijednosti staviti mod."
   ]
  },
  {
   "cell_type": "code",
   "execution_count": 39,
   "id": "4e44951c",
   "metadata": {},
   "outputs": [
    {
     "data": {
      "text/plain": [
       "'gas'"
      ]
     },
     "execution_count": 39,
     "metadata": {},
     "output_type": "execute_result"
    }
   ],
   "source": [
    "fuel_mode = df_train['fuel'].mode()[0]\n",
    "df_train['fuel'].fillna(fuel_mode, inplace=True)\n",
    "\n",
    "fuel_mode"
   ]
  },
  {
   "cell_type": "code",
   "execution_count": 40,
   "id": "8a47f438",
   "metadata": {},
   "outputs": [
    {
     "data": {
      "text/html": [
       "<div>\n",
       "<style scoped>\n",
       "    .dataframe tbody tr th:only-of-type {\n",
       "        vertical-align: middle;\n",
       "    }\n",
       "\n",
       "    .dataframe tbody tr th {\n",
       "        vertical-align: top;\n",
       "    }\n",
       "\n",
       "    .dataframe thead th {\n",
       "        text-align: right;\n",
       "    }\n",
       "</style>\n",
       "<table border=\"1\" class=\"dataframe\">\n",
       "  <thead>\n",
       "    <tr style=\"text-align: right;\">\n",
       "      <th></th>\n",
       "      <th>price</th>\n",
       "      <th>year</th>\n",
       "      <th>condition</th>\n",
       "      <th>cylinders</th>\n",
       "      <th>odometer</th>\n",
       "      <th>fuel</th>\n",
       "      <th>title_status</th>\n",
       "      <th>transmission</th>\n",
       "      <th>drive</th>\n",
       "      <th>size</th>\n",
       "      <th>type</th>\n",
       "      <th>posting_date</th>\n",
       "    </tr>\n",
       "    <tr>\n",
       "      <th>id</th>\n",
       "      <th></th>\n",
       "      <th></th>\n",
       "      <th></th>\n",
       "      <th></th>\n",
       "      <th></th>\n",
       "      <th></th>\n",
       "      <th></th>\n",
       "      <th></th>\n",
       "      <th></th>\n",
       "      <th></th>\n",
       "      <th></th>\n",
       "      <th></th>\n",
       "    </tr>\n",
       "  </thead>\n",
       "  <tbody>\n",
       "    <tr>\n",
       "      <th>7303504880</th>\n",
       "      <td>2500</td>\n",
       "      <td>2006</td>\n",
       "      <td>fair</td>\n",
       "      <td>6</td>\n",
       "      <td>158474.0</td>\n",
       "      <td>gas</td>\n",
       "      <td>clean</td>\n",
       "      <td>automatic</td>\n",
       "      <td>fwd</td>\n",
       "      <td>full-size</td>\n",
       "      <td>sedan</td>\n",
       "      <td>777</td>\n",
       "    </tr>\n",
       "    <tr>\n",
       "      <th>7311037035</th>\n",
       "      <td>16500</td>\n",
       "      <td>2017</td>\n",
       "      <td>NaN</td>\n",
       "      <td>6</td>\n",
       "      <td>47307.0</td>\n",
       "      <td>other</td>\n",
       "      <td>clean</td>\n",
       "      <td>other</td>\n",
       "      <td>NaN</td>\n",
       "      <td>NaN</td>\n",
       "      <td>NaN</td>\n",
       "      <td>763</td>\n",
       "    </tr>\n",
       "    <tr>\n",
       "      <th>7315245381</th>\n",
       "      <td>30990</td>\n",
       "      <td>2019</td>\n",
       "      <td>good</td>\n",
       "      <td>6</td>\n",
       "      <td>5468.0</td>\n",
       "      <td>gas</td>\n",
       "      <td>clean</td>\n",
       "      <td>other</td>\n",
       "      <td>NaN</td>\n",
       "      <td>NaN</td>\n",
       "      <td>pickup</td>\n",
       "      <td>754</td>\n",
       "    </tr>\n",
       "    <tr>\n",
       "      <th>7316345844</th>\n",
       "      <td>4495</td>\n",
       "      <td>2008</td>\n",
       "      <td>good</td>\n",
       "      <td>4</td>\n",
       "      <td>150000.0</td>\n",
       "      <td>gas</td>\n",
       "      <td>rebuilt</td>\n",
       "      <td>automatic</td>\n",
       "      <td>fwd</td>\n",
       "      <td>mid-size</td>\n",
       "      <td>SUV</td>\n",
       "      <td>752</td>\n",
       "    </tr>\n",
       "    <tr>\n",
       "      <th>7306976563</th>\n",
       "      <td>28995</td>\n",
       "      <td>2017</td>\n",
       "      <td>NaN</td>\n",
       "      <td>6</td>\n",
       "      <td>147053.0</td>\n",
       "      <td>other</td>\n",
       "      <td>clean</td>\n",
       "      <td>automatic</td>\n",
       "      <td>rwd</td>\n",
       "      <td>NaN</td>\n",
       "      <td>NaN</td>\n",
       "      <td>770</td>\n",
       "    </tr>\n",
       "  </tbody>\n",
       "</table>\n",
       "</div>"
      ],
      "text/plain": [
       "            price  year condition  cylinders  odometer   fuel title_status  \\\n",
       "id                                                                           \n",
       "7303504880   2500  2006      fair          6  158474.0    gas        clean   \n",
       "7311037035  16500  2017       NaN          6   47307.0  other        clean   \n",
       "7315245381  30990  2019      good          6    5468.0    gas        clean   \n",
       "7316345844   4495  2008      good          4  150000.0    gas      rebuilt   \n",
       "7306976563  28995  2017       NaN          6  147053.0  other        clean   \n",
       "\n",
       "           transmission drive       size    type  posting_date  \n",
       "id                                                              \n",
       "7303504880    automatic   fwd  full-size   sedan           777  \n",
       "7311037035        other   NaN        NaN     NaN           763  \n",
       "7315245381        other   NaN        NaN  pickup           754  \n",
       "7316345844    automatic   fwd   mid-size     SUV           752  \n",
       "7306976563    automatic   rwd        NaN     NaN           770  "
      ]
     },
     "execution_count": 40,
     "metadata": {},
     "output_type": "execute_result"
    }
   ],
   "source": [
    "df_train.head()"
   ]
  },
  {
   "cell_type": "code",
   "execution_count": 41,
   "id": "463c6821",
   "metadata": {},
   "outputs": [],
   "source": [
    "fuel_encoder = OneHotEncoder(handle_unknown='ignore', sparse=False, dtype='int')\n",
    "fuel_encoder.fit(df_train[['fuel']])\n",
    "\n",
    "df_train = encode(df_train, 'fuel', fuel_encoder)\n",
    "df_val = encode(df_val, 'fuel', fuel_encoder)\n",
    "df_test = encode(df_test, 'fuel', fuel_encoder)"
   ]
  },
  {
   "cell_type": "markdown",
   "id": "9bac7871",
   "metadata": {},
   "source": [
    "#### Type"
   ]
  },
  {
   "cell_type": "code",
   "execution_count": 42,
   "id": "2cee768e",
   "metadata": {},
   "outputs": [
    {
     "data": {
      "text/plain": [
       "pickup         7863\n",
       "truck          6502\n",
       "SUV            5370\n",
       "sedan          3438\n",
       "coupe          1629\n",
       "van            1558\n",
       "other          1272\n",
       "hatchback       898\n",
       "convertible     575\n",
       "wagon           516\n",
       "mini-van        122\n",
       "bus             110\n",
       "offroad          18\n",
       "Name: type, dtype: int64"
      ]
     },
     "execution_count": 42,
     "metadata": {},
     "output_type": "execute_result"
    }
   ],
   "source": [
    "df_train['type'].value_counts()"
   ]
  },
  {
   "cell_type": "code",
   "execution_count": 43,
   "id": "69d5a21a",
   "metadata": {},
   "outputs": [
    {
     "data": {
      "image/png": "[encoded data removed]",
      "text/plain": [
       "<Figure size 360x360 with 1 Axes>"
      ]
     },
     "metadata": {
      "needs_background": "light"
     },
     "output_type": "display_data"
    }
   ],
   "source": [
    "ax = sns.catplot(x='type',y='price', data=df_train, kind='bar')\n",
    "ax.set_xticklabels(rotation=30)\n",
    "plt.show()"
   ]
  },
  {
   "cell_type": "code",
   "execution_count": 44,
   "id": "184314e4",
   "metadata": {},
   "outputs": [
    {
     "data": {
      "text/plain": [
       "type\n",
       "SUV            15190.056238\n",
       "bus            15429.745455\n",
       "convertible    17981.073043\n",
       "coupe          24236.041130\n",
       "hatchback      12367.775056\n",
       "mini-van       13549.286885\n",
       "offroad        17116.111111\n",
       "other          25718.638365\n",
       "pickup         28526.120819\n",
       "sedan           9356.158232\n",
       "truck          28416.861735\n",
       "van            18704.245186\n",
       "wagon          15546.620155\n",
       "Name: price, dtype: float64"
      ]
     },
     "execution_count": 44,
     "metadata": {},
     "output_type": "execute_result"
    }
   ],
   "source": [
    "df_train.groupby('type')['price'].mean()"
   ]
  },
  {
   "cell_type": "code",
   "execution_count": 45,
   "id": "87827a00",
   "metadata": {},
   "outputs": [
    {
     "data": {
      "text/plain": [
       "<AxesSubplot:xlabel='type', ylabel='Count'>"
      ]
     },
     "execution_count": 45,
     "metadata": {},
     "output_type": "execute_result"
    },
    {
     "data": {
      "image/png": "[encoded data removed]",
      "text/plain": [
       "<Figure size 864x288 with 1 Axes>"
      ]
     },
     "metadata": {
      "needs_background": "light"
     },
     "output_type": "display_data"
    }
   ],
   "source": [
    "fig, ax = plt.subplots(figsize=(12,4))\n",
    "sns.histplot(ax=ax, data=df_train['type'])"
   ]
  },
  {
   "cell_type": "markdown",
   "id": "84318160",
   "metadata": {},
   "source": [
    "Cijena i tip autombila su korelirani te ću nedostjauće vrijednosti u ovoj koloni zamijeniti modom."
   ]
  },
  {
   "cell_type": "code",
   "execution_count": 46,
   "id": "d3da338a",
   "metadata": {},
   "outputs": [],
   "source": [
    "df_type = df_train['type'].fillna(df_train['type'].mode()[0]).copy()"
   ]
  },
  {
   "cell_type": "code",
   "execution_count": 47,
   "id": "0045c93d",
   "metadata": {},
   "outputs": [
    {
     "data": {
      "text/plain": [
       "<AxesSubplot:xlabel='type', ylabel='Count'>"
      ]
     },
     "execution_count": 47,
     "metadata": {},
     "output_type": "execute_result"
    },
    {
     "data": {
      "image/png": "[encoded data removed]",
      "text/plain": [
       "<Figure size 864x288 with 1 Axes>"
      ]
     },
     "metadata": {
      "needs_background": "light"
     },
     "output_type": "display_data"
    }
   ],
   "source": [
    "fig, ax = plt.subplots(figsize=(12,4))\n",
    "sns.histplot(ax=ax, data=df_type)"
   ]
  },
  {
   "cell_type": "markdown",
   "id": "111a8826",
   "metadata": {},
   "source": [
    "Nedostajeće ću vrijednosti zamijeniti modom jer je varijabla kategoričkog tipa. U ovom je slučaju distribucija kolone 'type' malo promijenjena imputacijom što može imati utjecaj na kranju točnost predikcije cijena."
   ]
  },
  {
   "cell_type": "code",
   "execution_count": 48,
   "id": "626464aa",
   "metadata": {},
   "outputs": [
    {
     "data": {
      "text/plain": [
       "'pickup'"
      ]
     },
     "execution_count": 48,
     "metadata": {},
     "output_type": "execute_result"
    }
   ],
   "source": [
    "type_mode = df_train['type'].mode()[0]\n",
    "df_train['type'] = df_train['type'].fillna(type_mode)\n",
    "\n",
    "type_mode"
   ]
  },
  {
   "cell_type": "code",
   "execution_count": 49,
   "id": "bf04150d",
   "metadata": {},
   "outputs": [],
   "source": [
    "type_encoder = OneHotEncoder(handle_unknown='ignore', sparse=False, dtype='int')\n",
    "type_encoder.fit(df_train[['type']])\n",
    "\n",
    "df_train = encode(df_train, 'type', type_encoder)\n",
    "df_val = encode(df_val, 'type', type_encoder)\n",
    "df_test = encode(df_test, 'type', type_encoder)"
   ]
  },
  {
   "cell_type": "markdown",
   "id": "bfa4cd44",
   "metadata": {},
   "source": [
    "#### Title_status"
   ]
  },
  {
   "cell_type": "code",
   "execution_count": 50,
   "id": "fe7db03a",
   "metadata": {},
   "outputs": [
    {
     "data": {
      "text/plain": [
       "clean         38668\n",
       "rebuilt         592\n",
       "salvage         299\n",
       "lien            159\n",
       "missing          84\n",
       "parts only        7\n",
       "Name: title_status, dtype: int64"
      ]
     },
     "execution_count": 50,
     "metadata": {},
     "output_type": "execute_result"
    }
   ],
   "source": [
    "df_train['title_status'].value_counts()"
   ]
  },
  {
   "cell_type": "code",
   "execution_count": 51,
   "id": "9f81bf7e",
   "metadata": {},
   "outputs": [
    {
     "data": {
      "text/plain": [
       "<seaborn.axisgrid.FacetGrid at 0x1b03430bfd0>"
      ]
     },
     "execution_count": 51,
     "metadata": {},
     "output_type": "execute_result"
    },
    {
     "data": {
      "image/png": "[encoded data removed]",
      "text/plain": [
       "<Figure size 360x360 with 1 Axes>"
      ]
     },
     "metadata": {
      "needs_background": "light"
     },
     "output_type": "display_data"
    }
   ],
   "source": [
    "sns.catplot(x='title_status',y='price', data=df_train, kind='bar')"
   ]
  },
  {
   "cell_type": "markdown",
   "id": "0389b4f8",
   "metadata": {},
   "source": [
    "Nedostajeće vrijednosti ove kategoričke varijable također imputiram modom."
   ]
  },
  {
   "cell_type": "code",
   "execution_count": 52,
   "id": "5712c489",
   "metadata": {},
   "outputs": [
    {
     "data": {
      "text/plain": [
       "'clean'"
      ]
     },
     "execution_count": 52,
     "metadata": {},
     "output_type": "execute_result"
    }
   ],
   "source": [
    "title_status_mode = df_train['title_status'].mode()[0]\n",
    "df_train['title_status'].fillna(title_status_mode, inplace=True)\n",
    "\n",
    "title_status_mode"
   ]
  },
  {
   "cell_type": "code",
   "execution_count": 53,
   "id": "a8fb046a",
   "metadata": {},
   "outputs": [],
   "source": [
    "title_status_encoder = OneHotEncoder(handle_unknown='ignore', sparse=False, dtype='int')\n",
    "title_status_encoder.fit(df_train[['title_status']])\n",
    "\n",
    "df_train = encode(df_train, 'title_status', title_status_encoder)\n",
    "df_val = encode(df_val, 'title_status', title_status_encoder)\n",
    "df_test = encode(df_test, 'title_status', title_status_encoder)"
   ]
  },
  {
   "cell_type": "markdown",
   "id": "fd4a80e8",
   "metadata": {},
   "source": [
    "#### Transmission"
   ]
  },
  {
   "cell_type": "code",
   "execution_count": 54,
   "id": "04623da4",
   "metadata": {},
   "outputs": [
    {
     "data": {
      "text/plain": [
       "automatic    34374\n",
       "other         3570\n",
       "manual        2213\n",
       "Name: transmission, dtype: int64"
      ]
     },
     "execution_count": 54,
     "metadata": {},
     "output_type": "execute_result"
    }
   ],
   "source": [
    "df_train['transmission'].value_counts()"
   ]
  },
  {
   "cell_type": "code",
   "execution_count": 55,
   "id": "00e68981",
   "metadata": {},
   "outputs": [
    {
     "data": {
      "text/plain": [
       "<seaborn.axisgrid.FacetGrid at 0x1aff28a5b50>"
      ]
     },
     "execution_count": 55,
     "metadata": {},
     "output_type": "execute_result"
    },
    {
     "data": {
      "image/png": "[encoded data removed]",
      "text/plain": [
       "<Figure size 360x360 with 1 Axes>"
      ]
     },
     "metadata": {
      "needs_background": "light"
     },
     "output_type": "display_data"
    }
   ],
   "source": [
    "sns.catplot(x='transmission',y='price', data=df_train, kind='bar')"
   ]
  },
  {
   "cell_type": "code",
   "execution_count": 56,
   "id": "ba1b69d1",
   "metadata": {},
   "outputs": [
    {
     "data": {
      "text/plain": [
       "<seaborn.axisgrid.FacetGrid at 0x1b0344b8580>"
      ]
     },
     "execution_count": 56,
     "metadata": {},
     "output_type": "execute_result"
    },
    {
     "data": {
      "image/png": "[encoded data removed]",
      "text/plain": [
       "<Figure size 1080x360 with 3 Axes>"
      ]
     },
     "metadata": {
      "needs_background": "light"
     },
     "output_type": "display_data"
    }
   ],
   "source": [
    "sns.displot(data=df_plot, x='price', col='transmission')"
   ]
  },
  {
   "cell_type": "markdown",
   "id": "06847a15",
   "metadata": {},
   "source": [
    "Čini se da ova kolona ima utjecaj na cijenu automobila pa ću ju zadržati. Kolona transmission sadrži velikom većinom vrijednost 'automatic', ima malen broj nedostajućih vrijednosti. Zbog toga ću nedostajeće vrijednosti zamijeniti sa vrijednosti 'automatic', odnosno sa modom."
   ]
  },
  {
   "cell_type": "code",
   "execution_count": 57,
   "id": "d4fc0ac0",
   "metadata": {},
   "outputs": [
    {
     "data": {
      "text/plain": [
       "'automatic'"
      ]
     },
     "execution_count": 57,
     "metadata": {},
     "output_type": "execute_result"
    }
   ],
   "source": [
    "transmission_mode = df_train['transmission'].mode()[0]\n",
    "df_train['transmission'].fillna(transmission_mode, inplace=True)\n",
    "\n",
    "transmission_mode"
   ]
  },
  {
   "cell_type": "code",
   "execution_count": 58,
   "id": "38212b32",
   "metadata": {},
   "outputs": [],
   "source": [
    "transmission_encoder = OneHotEncoder(handle_unknown='ignore', sparse=False, dtype='int')\n",
    "transmission_encoder.fit(df_train[['transmission']])\n",
    "\n",
    "df_train = encode(df_train, 'transmission', transmission_encoder)\n",
    "df_val = encode(df_val, 'transmission', transmission_encoder)\n",
    "df_test = encode(df_test, 'transmission', transmission_encoder)"
   ]
  },
  {
   "cell_type": "markdown",
   "id": "3366927b",
   "metadata": {},
   "source": [
    "#### Drive"
   ]
  },
  {
   "cell_type": "code",
   "execution_count": 59,
   "id": "04aacb32",
   "metadata": {},
   "outputs": [
    {
     "data": {
      "text/plain": [
       "4wd    15725\n",
       "rwd     7157\n",
       "fwd     6447\n",
       "Name: drive, dtype: int64"
      ]
     },
     "execution_count": 59,
     "metadata": {},
     "output_type": "execute_result"
    }
   ],
   "source": [
    "df_train['drive'].value_counts()"
   ]
  },
  {
   "cell_type": "code",
   "execution_count": 60,
   "id": "26d9d058",
   "metadata": {},
   "outputs": [
    {
     "data": {
      "text/plain": [
       "<seaborn.axisgrid.FacetGrid at 0x1b034248250>"
      ]
     },
     "execution_count": 60,
     "metadata": {},
     "output_type": "execute_result"
    },
    {
     "data": {
      "image/png": "[encoded data removed]",
      "text/plain": [
       "<Figure size 360x360 with 1 Axes>"
      ]
     },
     "metadata": {
      "needs_background": "light"
     },
     "output_type": "display_data"
    }
   ],
   "source": [
    "sns.catplot(x='drive',y='price', data=df_train, kind='bar')"
   ]
  },
  {
   "cell_type": "code",
   "execution_count": 61,
   "id": "6a4611e0",
   "metadata": {},
   "outputs": [
    {
     "data": {
      "text/plain": [
       "<seaborn.axisgrid.FacetGrid at 0x1b033608370>"
      ]
     },
     "execution_count": 61,
     "metadata": {},
     "output_type": "execute_result"
    },
    {
     "data": {
      "image/png": "[encoded data removed]",
      "text/plain": [
       "<Figure size 1080x360 with 3 Axes>"
      ]
     },
     "metadata": {
      "needs_background": "light"
     },
     "output_type": "display_data"
    }
   ],
   "source": [
    "sns.displot(data=df_plot, x='price', col='drive')"
   ]
  },
  {
   "cell_type": "markdown",
   "id": "5ee529b9",
   "metadata": {},
   "source": [
    "Nedostajeće ću vrijednosti zamijeniti modom."
   ]
  },
  {
   "cell_type": "code",
   "execution_count": 62,
   "id": "443e2388",
   "metadata": {},
   "outputs": [
    {
     "data": {
      "text/plain": [
       "'4wd'"
      ]
     },
     "execution_count": 62,
     "metadata": {},
     "output_type": "execute_result"
    }
   ],
   "source": [
    "drive_mode = df_train['drive'].mode()[0]\n",
    "df_train['drive'].fillna(drive_mode, inplace=True)\n",
    "\n",
    "drive_mode"
   ]
  },
  {
   "cell_type": "code",
   "execution_count": 63,
   "id": "0fc1134b",
   "metadata": {},
   "outputs": [],
   "source": [
    "drive_encoder = OneHotEncoder(handle_unknown='ignore', sparse=False, dtype='int')\n",
    "drive_encoder.fit(df_train[['drive']])\n",
    "\n",
    "df_train = encode(df_train, 'drive', drive_encoder)\n",
    "df_val = encode(df_val, 'drive', drive_encoder)\n",
    "df_test = encode(df_test, 'drive', drive_encoder)"
   ]
  },
  {
   "cell_type": "markdown",
   "id": "571a2d82",
   "metadata": {},
   "source": [
    "#### Size"
   ]
  },
  {
   "cell_type": "code",
   "execution_count": 64,
   "id": "a3a38940",
   "metadata": {},
   "outputs": [
    {
     "data": {
      "text/plain": [
       "full-size      8593\n",
       "mid-size       2404\n",
       "compact        1033\n",
       "sub-compact     324\n",
       "Name: size, dtype: int64"
      ]
     },
     "execution_count": 64,
     "metadata": {},
     "output_type": "execute_result"
    }
   ],
   "source": [
    "df_train['size'].value_counts()"
   ]
  },
  {
   "cell_type": "code",
   "execution_count": 65,
   "id": "a321ba4f",
   "metadata": {},
   "outputs": [
    {
     "data": {
      "text/plain": [
       "<seaborn.axisgrid.FacetGrid at 0x1b034057400>"
      ]
     },
     "execution_count": 65,
     "metadata": {},
     "output_type": "execute_result"
    },
    {
     "data": {
      "image/png": "[encoded data removed]",
      "text/plain": [
       "<Figure size 360x360 with 1 Axes>"
      ]
     },
     "metadata": {
      "needs_background": "light"
     },
     "output_type": "display_data"
    }
   ],
   "source": [
    "sns.catplot(x='size',y='price', data=df_train, kind='bar')"
   ]
  },
  {
   "cell_type": "code",
   "execution_count": 66,
   "id": "fc9a55b7",
   "metadata": {},
   "outputs": [
    {
     "data": {
      "text/plain": [
       "<AxesSubplot:xlabel='size', ylabel='price'>"
      ]
     },
     "execution_count": 66,
     "metadata": {},
     "output_type": "execute_result"
    },
    {
     "data": {
      "image/png": "[encoded data removed]",
      "text/plain": [
       "<Figure size 432x288 with 1 Axes>"
      ]
     },
     "metadata": {
      "needs_background": "light"
     },
     "output_type": "display_data"
    }
   ],
   "source": [
    "sns.violinplot(x='size',y='price', data=df_train)"
   ]
  },
  {
   "cell_type": "markdown",
   "id": "c7376912",
   "metadata": {},
   "source": [
    "Za potrebe vizualizacije stvorit ću skup podataka koji sadrži vrijednosti u drugom i trećem kvantilu."
   ]
  },
  {
   "cell_type": "code",
   "execution_count": 67,
   "id": "e1cceac5",
   "metadata": {},
   "outputs": [
    {
     "data": {
      "text/plain": [
       "<AxesSubplot:xlabel='size', ylabel='price'>"
      ]
     },
     "execution_count": 67,
     "metadata": {},
     "output_type": "execute_result"
    },
    {
     "data": {
      "image/png": "[encoded data removed]",
      "text/plain": [
       "<Figure size 432x288 with 1 Axes>"
      ]
     },
     "metadata": {
      "needs_background": "light"
     },
     "output_type": "display_data"
    }
   ],
   "source": [
    "sns.violinplot(x='size',y='price', data=df_plot)"
   ]
  },
  {
   "cell_type": "markdown",
   "id": "3cfda6b6",
   "metadata": {},
   "source": [
    "Ovu ću kolonu ispustiti iz skupa podataka jer 70% primjera ima nedostajuće vrijednosti."
   ]
  },
  {
   "cell_type": "code",
   "execution_count": 68,
   "id": "06345be5",
   "metadata": {},
   "outputs": [],
   "source": [
    "df_train.drop(['size'], axis=1, inplace=True)\n",
    "df_val.drop(['size'], axis=1, inplace=True)\n",
    "df_test.drop(['size'], axis=1, inplace=True)"
   ]
  },
  {
   "cell_type": "markdown",
   "id": "5bef350c",
   "metadata": {},
   "source": [
    "#### Condition"
   ]
  },
  {
   "cell_type": "code",
   "execution_count": 69,
   "id": "2ab4b3e8",
   "metadata": {},
   "outputs": [
    {
     "data": {
      "text/plain": [
       "good         9879\n",
       "excellent    9817\n",
       "like new     2026\n",
       "fair          705\n",
       "new            90\n",
       "salvage        37\n",
       "Name: condition, dtype: int64"
      ]
     },
     "execution_count": 69,
     "metadata": {},
     "output_type": "execute_result"
    }
   ],
   "source": [
    "df_train['condition'].value_counts()"
   ]
  },
  {
   "cell_type": "code",
   "execution_count": 70,
   "id": "3e3ca552",
   "metadata": {},
   "outputs": [],
   "source": [
    "condition_map = {'salvage':1, 'fair': 2, 'good': 3, 'excellent':4,'like new':5,'new':6}\n",
    "\n",
    "df_train['condition'] = df_train['condition'].map(condition_map)\n",
    "df_val['condition'] = df_val['condition'].map(condition_map)\n",
    "df_test['condition'] = df_test['condition'].map(condition_map)"
   ]
  },
  {
   "cell_type": "code",
   "execution_count": 71,
   "id": "eaabbe0d",
   "metadata": {},
   "outputs": [],
   "source": [
    "from sklearn.impute import KNNImputer\n",
    "\n",
    "imputer = KNNImputer(n_neighbors = 3)\n",
    "df_train = pd.DataFrame(imputer.fit_transform(df_train),columns = df_train.columns)"
   ]
  },
  {
   "cell_type": "code",
   "execution_count": 72,
   "id": "7f301bc7",
   "metadata": {},
   "outputs": [],
   "source": [
    "df_val = pd.DataFrame(imputer.transform(df_val),columns = df_train.columns)\n",
    "df_test = pd.DataFrame(imputer.transform(df_test),columns = df_train.columns)"
   ]
  },
  {
   "cell_type": "code",
   "execution_count": 73,
   "id": "2115f3d0",
   "metadata": {},
   "outputs": [],
   "source": [
    "X_train = df_train.drop(['price'], axis=1)\n",
    "y_train = df_train['price']\n",
    "\n",
    "X_val = df_val.drop(['price'], axis=1)\n",
    "y_val = df_val['price']\n",
    "\n",
    "X_test = df_test.drop(['price'], axis=1)\n",
    "y_test = df_test['price']"
   ]
  },
  {
   "cell_type": "code",
   "execution_count": 74,
   "id": "9c366cc9",
   "metadata": {},
   "outputs": [
    {
     "data": {
      "text/plain": [
       "0"
      ]
     },
     "execution_count": 74,
     "metadata": {},
     "output_type": "execute_result"
    }
   ],
   "source": [
    "X_train.isna().sum().sum()"
   ]
  },
  {
   "cell_type": "markdown",
   "id": "8e8518b4",
   "metadata": {},
   "source": [
    "## Treniranje modela"
   ]
  },
  {
   "cell_type": "markdown",
   "id": "c8abe911",
   "metadata": {},
   "source": [
    "Problem predikcije cijene automobila je regresijski problem. On se razlikuje od klasifikacije u tome što je cilj klasifikacije pridijeliti jednu od klasa novom primjeru. S druge strane, regresijom se pokušava predvidjeti neka kontinuirana brojčana vrijednost na temelju novog primjera. U ovom je slučaju to cijena automobila. Svaka se metoda strojnog učenja sastoji od modela, objektivne funkcije i metode optimizacije. Samim time što se klasifikacijom dodjeljuje klasa nekom primjeru, a regresijom se predviđa brojčana vrijednost, njihove će objektivne funckije (model) i funkcije pogreške biti različite. Primjerice postoji SVM za klasifikaciju i za regresiju gdje je onaj za regresiju ima objektivnu funkciju koja je dodatno prilagođena za problem regresije."
   ]
  },
  {
   "cell_type": "markdown",
   "id": "ae38b693",
   "metadata": {},
   "source": [
    "Postoje razni regresijski modeli, od kojih su neki: linearna regresija, LS-SVM i regresijsko stablo odluke. Odlučujem se za linearnu regresiju. Kako bi ovaj model mogao raditi za kategoričkim varijablama potrebno ih je nekako pretvoriti u numeričke vrijednost. To je učinjeno u prethodnim koracima pomoću get_dummies funkcije. Tako će model moći naučiti važnost svake kategoričke varijable i tako odrediti vrijednost pripadajućih parametara."
   ]
  },
  {
   "cell_type": "markdown",
   "id": "215bae38",
   "metadata": {},
   "source": [
    "### Linear Regression"
   ]
  },
  {
   "cell_type": "code",
   "execution_count": 75,
   "id": "b9f90994",
   "metadata": {},
   "outputs": [],
   "source": [
    "from sklearn.linear_model import LinearRegression\n",
    "\n",
    "model = LinearRegression().fit(X_train, y_train)\n",
    "y_hat = model.predict(X_val)"
   ]
  },
  {
   "cell_type": "code",
   "execution_count": 76,
   "id": "96d76844",
   "metadata": {},
   "outputs": [
    {
     "name": "stdout",
     "output_type": "stream",
     "text": [
      "Root Mean Squared Erorr (RMSE):  12042.96016875404\n"
     ]
    }
   ],
   "source": [
    "from sklearn.metrics import mean_squared_error\n",
    "\n",
    "mse = mean_squared_error(y_val, y_hat)\n",
    "\n",
    "\n",
    "print('Root Mean Squared Erorr (RMSE): ',np.sqrt(mse))"
   ]
  },
  {
   "cell_type": "markdown",
   "id": "e3bef484",
   "metadata": {},
   "source": [
    "### Gradient Boosting Regressor"
   ]
  },
  {
   "cell_type": "code",
   "execution_count": 85,
   "id": "5dcb5696",
   "metadata": {},
   "outputs": [
    {
     "name": "stdout",
     "output_type": "stream",
     "text": [
      "N_est: 200 L_rate: 0.01 Root Mean Squared Erorr (RMSE): 7103.785927102599\n",
      "N_est: 200 L_rate: 0.03 Root Mean Squared Erorr (RMSE): 6445.053342252423\n",
      "N_est: 200 L_rate: 0.1 Root Mean Squared Erorr (RMSE): 6208.834381276295\n",
      "N_est: 200 L_rate: 0.3 Root Mean Squared Erorr (RMSE): 6214.65385344179\n",
      "N_est: 200 L_rate: 1 Root Mean Squared Erorr (RMSE): 8282.455404145308\n",
      "N_est: 300 L_rate: 0.01 Root Mean Squared Erorr (RMSE): 6665.973506770944\n",
      "N_est: 300 L_rate: 0.03 Root Mean Squared Erorr (RMSE): 6368.9157563677445\n",
      "N_est: 300 L_rate: 0.1 Root Mean Squared Erorr (RMSE): 6137.687592699549\n",
      "N_est: 300 L_rate: 0.3 Root Mean Squared Erorr (RMSE): 6200.216451949011\n",
      "N_est: 300 L_rate: 1 Root Mean Squared Erorr (RMSE): 8284.649167802125\n",
      "N_est: 400 L_rate: 0.01 Root Mean Squared Erorr (RMSE): 6514.495684991257\n",
      "N_est: 400 L_rate: 0.03 Root Mean Squared Erorr (RMSE): 6313.337621299381\n",
      "N_est: 400 L_rate: 0.1 Root Mean Squared Erorr (RMSE): 6095.843013874843\n",
      "N_est: 400 L_rate: 0.3 Root Mean Squared Erorr (RMSE): 6197.250598333304\n",
      "N_est: 400 L_rate: 1 Root Mean Squared Erorr (RMSE): 8284.667328050895\n",
      "N_est: 500 L_rate: 0.01 Root Mean Squared Erorr (RMSE): 6461.762765288258\n",
      "N_est: 500 L_rate: 0.03 Root Mean Squared Erorr (RMSE): 6262.920998654022\n",
      "N_est: 500 L_rate: 0.1 Root Mean Squared Erorr (RMSE): 6073.606735101132\n",
      "N_est: 500 L_rate: 0.3 Root Mean Squared Erorr (RMSE): 6199.636234856841\n",
      "N_est: 500 L_rate: 1 Root Mean Squared Erorr (RMSE): 8284.692987076052\n",
      "N_est: 600 L_rate: 0.01 Root Mean Squared Erorr (RMSE): 6421.30512573086\n",
      "N_est: 600 L_rate: 0.03 Root Mean Squared Erorr (RMSE): 6224.201130000152\n",
      "N_est: 600 L_rate: 0.1 Root Mean Squared Erorr (RMSE): 6056.4902196763105\n",
      "N_est: 600 L_rate: 0.3 Root Mean Squared Erorr (RMSE): 6197.254706628051\n",
      "N_est: 600 L_rate: 1 Root Mean Squared Erorr (RMSE): 8284.706902653856\n",
      "N_est: 700 L_rate: 0.01 Root Mean Squared Erorr (RMSE): 6394.523347907893\n",
      "N_est: 700 L_rate: 0.03 Root Mean Squared Erorr (RMSE): 6202.3357880759395\n",
      "N_est: 700 L_rate: 0.1 Root Mean Squared Erorr (RMSE): 6040.28654528431\n",
      "N_est: 700 L_rate: 0.3 Root Mean Squared Erorr (RMSE): 6197.282671256626\n",
      "N_est: 700 L_rate: 1 Root Mean Squared Erorr (RMSE): 8284.707218222338\n",
      "N_est: 800 L_rate: 0.01 Root Mean Squared Erorr (RMSE): 6369.204639385729\n",
      "N_est: 800 L_rate: 0.03 Root Mean Squared Erorr (RMSE): 6178.238178511459\n",
      "N_est: 800 L_rate: 0.1 Root Mean Squared Erorr (RMSE): 6029.713202625523\n",
      "N_est: 800 L_rate: 0.3 Root Mean Squared Erorr (RMSE): 6196.145145935604\n",
      "N_est: 800 L_rate: 1 Root Mean Squared Erorr (RMSE): 8284.707054729755\n"
     ]
    }
   ],
   "source": [
    "from sklearn.ensemble import GradientBoostingRegressor\n",
    "\n",
    "n_est_arr = [200,300,400,500,600,700,800]\n",
    "l_rate_arr = [0.01,0.03,0.1,0.3,1]\n",
    "\n",
    "for n_est in n_est_arr:\n",
    "    for l_rate in l_rate_arr:\n",
    "        grad_model = GradientBoostingRegressor(n_estimators=n_est, max_depth=10, learning_rate=l_rate, random_state=42).fit(X_train,y_train.ravel())\n",
    "        y_hat_grad = grad_model.predict(X_val)\n",
    "        \n",
    "        mse = mean_squared_error(y_val, y_hat_grad)\n",
    "\n",
    "        print('N_est: {} L_rate: {} Root Mean Squared Erorr (RMSE): {}'.format(n_est,l_rate,np.sqrt(mse)))"
   ]
  },
  {
   "cell_type": "markdown",
   "id": "dc66af95",
   "metadata": {},
   "source": [
    "Izabrat ću model koji se sastoji od 400 estimatora i kojem je learning rate jednak 0.1 jer ima među najmanjim greškama na skupu podataka za validaciju, a jednostavniji je od ostalih koji imaju gotovo jednaku grešku."
   ]
  },
  {
   "cell_type": "code",
   "execution_count": 100,
   "id": "b5fe8aef",
   "metadata": {},
   "outputs": [
    {
     "name": "stdout",
     "output_type": "stream",
     "text": [
      "N_est: 400 L_rate: 0.1 Root Mean Squared Erorr (RMSE): 6337.658028597737\n"
     ]
    }
   ],
   "source": [
    "n_est = 400\n",
    "l_rate = 0.1\n",
    "\n",
    "grad_model = GradientBoostingRegressor(n_estimators=n_est, max_depth=10, learning_rate=l_rate, random_state=42).fit(X_train,y_train.ravel())\n",
    "y_hat_grad = grad_model.predict(X_val)\n",
    "        \n",
    "mse = mean_squared_error(y_val, y_hat_grad)\n",
    "\n",
    "print('N_est: {} L_rate: {} Root Mean Squared Erorr (RMSE): {}'.format(n_est,l_rate,np.sqrt(mse)))"
   ]
  },
  {
   "cell_type": "code",
   "execution_count": 87,
   "id": "fb2f8611",
   "metadata": {},
   "outputs": [
    {
     "data": {
      "text/plain": [
       "<AxesSubplot:xlabel='price'>"
      ]
     },
     "execution_count": 87,
     "metadata": {},
     "output_type": "execute_result"
    },
    {
     "data": {
      "image/png": "[encoded data removed]",
      "text/plain": [
       "<Figure size 432x288 with 1 Axes>"
      ]
     },
     "metadata": {
      "needs_background": "light"
     },
     "output_type": "display_data"
    }
   ],
   "source": [
    "sns.scatterplot(x=y_val, y=y_hat_grad)"
   ]
  },
  {
   "cell_type": "markdown",
   "id": "19e06ff0",
   "metadata": {},
   "source": [
    "### Support Vector Regression"
   ]
  },
  {
   "cell_type": "code",
   "execution_count": 79,
   "id": "ee7f97ae",
   "metadata": {},
   "outputs": [
    {
     "name": "stdout",
     "output_type": "stream",
     "text": [
      "Root Mean Squared Erorr (RMSE):  15639.787495897277\n"
     ]
    }
   ],
   "source": [
    "from sklearn.svm import SVR\n",
    "\n",
    "svr_model = SVR().fit(X_train, y_train.ravel())\n",
    "y_hat_svr = svr_model.predict(X_val)\n",
    "\n",
    "mse = mean_squared_error(y_val, y_hat_svr)\n",
    "\n",
    "print('Root Mean Squared Erorr (RMSE): ',np.sqrt(mse))"
   ]
  },
  {
   "cell_type": "code",
   "execution_count": 80,
   "id": "ae9b7b86",
   "metadata": {},
   "outputs": [
    {
     "name": "stderr",
     "output_type": "stream",
     "text": [
      "C:\\Users\\pebe1\\anaconda3\\lib\\site-packages\\seaborn\\_decorators.py:36: FutureWarning: Pass the following variables as keyword args: x, y. From version 0.12, the only valid positional argument will be `data`, and passing other arguments without an explicit keyword will result in an error or misinterpretation.\n",
      "  warnings.warn(\n"
     ]
    },
    {
     "data": {
      "text/plain": [
       "<AxesSubplot:xlabel='price'>"
      ]
     },
     "execution_count": 80,
     "metadata": {},
     "output_type": "execute_result"
    },
    {
     "data": {
      "image/png": "[encoded data removed]",
      "text/plain": [
       "<Figure size 432x288 with 1 Axes>"
      ]
     },
     "metadata": {
      "needs_background": "light"
     },
     "output_type": "display_data"
    }
   ],
   "source": [
    "sns.scatterplot(y_val, y_hat_svr)"
   ]
  },
  {
   "cell_type": "markdown",
   "id": "9e7cb6a4",
   "metadata": {},
   "source": [
    "### Konačna predikcija na skupu za testiranje"
   ]
  },
  {
   "cell_type": "code",
   "execution_count": 98,
   "id": "87d09917",
   "metadata": {},
   "outputs": [
    {
     "name": "stdout",
     "output_type": "stream",
     "text": [
      "Root Mean Squared Erorr (RMSE):  5573.407594334527\n"
     ]
    }
   ],
   "source": [
    "Xt = pd.concat([X_train, X_val], axis=0)\n",
    "yt = pd.concat([y_train, y_val], axis=0)\n",
    "\n",
    "grad_model = GradientBoostingRegressor(n_estimators=400, max_depth=10, learning_rate=0.1, random_state=42).fit(Xt,yt.ravel())\n",
    "y_hat_grad = grad_model.predict(X_test)\n",
    "        \n",
    "mse = mean_squared_error(y_test, y_hat_grad)\n",
    "\n",
    "print('Root Mean Squared Erorr (RMSE): ', np.sqrt(mse))"
   ]
  },
  {
   "cell_type": "code",
   "execution_count": null,
   "id": "93d891c4",
   "metadata": {},
   "outputs": [],
   "source": [
    "sns.scatterplot(y_test, y_hat_grad)"
   ]
  },
  {
   "cell_type": "markdown",
   "id": "6d213fba",
   "metadata": {},
   "source": [
    "### Zaključni komentari"
   ]
  },
  {
   "cell_type": "markdown",
   "id": "43c03fd8",
   "metadata": {},
   "source": [
    "Konačni je model GradientBoostingRegressor sa iznad definiranim parametrim. Odlučujem se za taj model jer daje najmanju pogrešku na skupu za validaciju. On se često koristi u Kaggle natjecanjima te većinom ima dobre performanse kod skupova podataka koji se tamo nalaze. To naravno nije jedino model za regresiju, ali se pokazao kao najbolji na ovom skupu podataka. Model se evaluirao pomoću root mean sqaure error mjere odstupanja predviđenih od stvarnih vrijednosti. Ova je mjera česta kod regresije, ali nije uvijek najbolji izbor, primjerica kad skup ima mnogo outliera. Model sam spremio pomoću joblib biblioteke. Ovo je jednostavan i prikladan način za pohranu i kasnije učitavanje python objekata. Moguće je također spremiti samo parametre modela pa nanovo napraviti objekt i podesiti mu parametre na te koji su spremljeni, no korištenje joblib biblioteke je jednostavnija opcija. Također je potrebno spremiti OneHotEncoder objekte kako bi se podaci, koji su poslani u svrhu predikcije, mogli urediti tako da budu u obliku u kojem se mogu koristiti sa treniranim modelom. \n"
   ]
  },
  {
   "cell_type": "markdown",
   "id": "08a7c8b7",
   "metadata": {},
   "source": [
    "Podaci se na API šalju u obliku array-a koji se sastoji od podataka u json obliku. Ovaj je oblik uobičajen kod komunikacije preko HTTP-a. Ukoliko se podaci sastoje od nedostajućih vrijednosti, to nije problem jer se tim vrijednostima može pridijeliti nula pa parametar koji je povezan s tom kolonom neće bit uzet u obzir, ili se može napraviti imputacija podataka kao što je to učinjeno kod treniranja modela. Ukoliko su podaci poslani u krivom redoslijedu biblioteka pandas će se nositi s time. Ako su podaci neispravno formatirani, model se s time neće moći nositi tako da je potrebno napraviti određene provjere, ili na strani klijenta ili poslužitelja koji će koristiti prediktivni model."
   ]
  },
  {
   "cell_type": "markdown",
   "id": "4df2ce72",
   "metadata": {},
   "source": [
    "Rješenje je kontejnizirano korištenje Docker tehnologije. Prednost je ta što tako model i njegovo pokretanje i sve zavisnosti od kojih se sastoji ne ovise o računalo korisnika jer će se sve izvršiti u virtualnom okruženju. Sve su zavisnosti specificirane kod izgranje slike Dockera pa se model može koristiti na svakom računalo neovisno od verzije programskog jezika, os-a i sličnih ograničenja."
   ]
  }
 ],
 "metadata": {
  "kernelspec": {
   "display_name": "Python 3 (ipykernel)",
   "language": "python",
   "name": "python3"
  },
  "language_info": {
   "codemirror_mode": {
    "name": "ipython",
    "version": 3
   },
   "file_extension": ".py",
   "mimetype": "text/x-python",
   "name": "python",
   "nbconvert_exporter": "python",
   "pygments_lexer": "ipython3",
   "version": "3.9.12"
  }
 },
 "nbformat": 4,
 "nbformat_minor": 5
}
