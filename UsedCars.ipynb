{
 "cells": [
  {
   "cell_type": "markdown",
   "id": "3bf498df",
   "metadata": {},
   "source": [
    "# Used Cars"
   ]
  },
  {
   "cell_type": "markdown",
   "id": "504e07e5",
   "metadata": {},
   "source": [
    "Used Cars dataset contains relevant imformation that Craigslist provides on car sales.\n",
    "More information can be found at: https://www.kaggle.com/datasets/austinreese/craigslist-carstrucks-data"
   ]
  },
  {
   "cell_type": "code",
   "execution_count": 1,
   "id": "423584c7",
   "metadata": {},
   "outputs": [],
   "source": [
    "import numpy as np\n",
    "import pandas as pd\n",
    "import matplotlib.pyplot as plt\n",
    "import seaborn as sns\n",
    "%matplotlib inline\n",
    "\n",
    "\n",
    "# mozes napravit specijalno rjesenja za npr samo toyotu\n",
    "\n",
    "# price > 1 000 000?\n",
    "# price = 0?\n",
    "# cylinders nan?"
   ]
  },
  {
   "cell_type": "markdown",
   "id": "8c5bf2f5",
   "metadata": {},
   "source": [
    "## 1 Učitavanje podataka"
   ]
  },
  {
   "cell_type": "markdown",
   "id": "ab957d02",
   "metadata": {},
   "source": [
    "Na samom početku je potrebno učitati podatke i pogledati od kojih se stupaca sastoji te kakve se informacije u njima pružaju."
   ]
  },
  {
   "cell_type": "code",
   "execution_count": 2,
   "id": "33112aa5",
   "metadata": {},
   "outputs": [
    {
     "data": {
      "text/html": [
       "<div>\n",
       "<style scoped>\n",
       "    .dataframe tbody tr th:only-of-type {\n",
       "        vertical-align: middle;\n",
       "    }\n",
       "\n",
       "    .dataframe tbody tr th {\n",
       "        vertical-align: top;\n",
       "    }\n",
       "\n",
       "    .dataframe thead th {\n",
       "        text-align: right;\n",
       "    }\n",
       "</style>\n",
       "<table border=\"1\" class=\"dataframe\">\n",
       "  <thead>\n",
       "    <tr style=\"text-align: right;\">\n",
       "      <th></th>\n",
       "      <th>id</th>\n",
       "      <th>url</th>\n",
       "      <th>region</th>\n",
       "      <th>region_url</th>\n",
       "      <th>price</th>\n",
       "      <th>year</th>\n",
       "      <th>manufacturer</th>\n",
       "      <th>model</th>\n",
       "      <th>condition</th>\n",
       "      <th>cylinders</th>\n",
       "      <th>...</th>\n",
       "      <th>size</th>\n",
       "      <th>type</th>\n",
       "      <th>paint_color</th>\n",
       "      <th>image_url</th>\n",
       "      <th>description</th>\n",
       "      <th>county</th>\n",
       "      <th>state</th>\n",
       "      <th>lat</th>\n",
       "      <th>long</th>\n",
       "      <th>posting_date</th>\n",
       "    </tr>\n",
       "  </thead>\n",
       "  <tbody>\n",
       "    <tr>\n",
       "      <th>0</th>\n",
       "      <td>7222695916</td>\n",
       "      <td>https://prescott.craigslist.org/cto/d/prescott...</td>\n",
       "      <td>prescott</td>\n",
       "      <td>https://prescott.craigslist.org</td>\n",
       "      <td>6000</td>\n",
       "      <td>NaN</td>\n",
       "      <td>NaN</td>\n",
       "      <td>NaN</td>\n",
       "      <td>NaN</td>\n",
       "      <td>NaN</td>\n",
       "      <td>...</td>\n",
       "      <td>NaN</td>\n",
       "      <td>NaN</td>\n",
       "      <td>NaN</td>\n",
       "      <td>NaN</td>\n",
       "      <td>NaN</td>\n",
       "      <td>NaN</td>\n",
       "      <td>az</td>\n",
       "      <td>NaN</td>\n",
       "      <td>NaN</td>\n",
       "      <td>NaN</td>\n",
       "    </tr>\n",
       "    <tr>\n",
       "      <th>1</th>\n",
       "      <td>7218891961</td>\n",
       "      <td>https://fayar.craigslist.org/ctd/d/bentonville...</td>\n",
       "      <td>fayetteville</td>\n",
       "      <td>https://fayar.craigslist.org</td>\n",
       "      <td>11900</td>\n",
       "      <td>NaN</td>\n",
       "      <td>NaN</td>\n",
       "      <td>NaN</td>\n",
       "      <td>NaN</td>\n",
       "      <td>NaN</td>\n",
       "      <td>...</td>\n",
       "      <td>NaN</td>\n",
       "      <td>NaN</td>\n",
       "      <td>NaN</td>\n",
       "      <td>NaN</td>\n",
       "      <td>NaN</td>\n",
       "      <td>NaN</td>\n",
       "      <td>ar</td>\n",
       "      <td>NaN</td>\n",
       "      <td>NaN</td>\n",
       "      <td>NaN</td>\n",
       "    </tr>\n",
       "    <tr>\n",
       "      <th>2</th>\n",
       "      <td>7221797935</td>\n",
       "      <td>https://keys.craigslist.org/cto/d/summerland-k...</td>\n",
       "      <td>florida keys</td>\n",
       "      <td>https://keys.craigslist.org</td>\n",
       "      <td>21000</td>\n",
       "      <td>NaN</td>\n",
       "      <td>NaN</td>\n",
       "      <td>NaN</td>\n",
       "      <td>NaN</td>\n",
       "      <td>NaN</td>\n",
       "      <td>...</td>\n",
       "      <td>NaN</td>\n",
       "      <td>NaN</td>\n",
       "      <td>NaN</td>\n",
       "      <td>NaN</td>\n",
       "      <td>NaN</td>\n",
       "      <td>NaN</td>\n",
       "      <td>fl</td>\n",
       "      <td>NaN</td>\n",
       "      <td>NaN</td>\n",
       "      <td>NaN</td>\n",
       "    </tr>\n",
       "    <tr>\n",
       "      <th>3</th>\n",
       "      <td>7222270760</td>\n",
       "      <td>https://worcester.craigslist.org/cto/d/west-br...</td>\n",
       "      <td>worcester / central MA</td>\n",
       "      <td>https://worcester.craigslist.org</td>\n",
       "      <td>1500</td>\n",
       "      <td>NaN</td>\n",
       "      <td>NaN</td>\n",
       "      <td>NaN</td>\n",
       "      <td>NaN</td>\n",
       "      <td>NaN</td>\n",
       "      <td>...</td>\n",
       "      <td>NaN</td>\n",
       "      <td>NaN</td>\n",
       "      <td>NaN</td>\n",
       "      <td>NaN</td>\n",
       "      <td>NaN</td>\n",
       "      <td>NaN</td>\n",
       "      <td>ma</td>\n",
       "      <td>NaN</td>\n",
       "      <td>NaN</td>\n",
       "      <td>NaN</td>\n",
       "    </tr>\n",
       "    <tr>\n",
       "      <th>4</th>\n",
       "      <td>7210384030</td>\n",
       "      <td>https://greensboro.craigslist.org/cto/d/trinit...</td>\n",
       "      <td>greensboro</td>\n",
       "      <td>https://greensboro.craigslist.org</td>\n",
       "      <td>4900</td>\n",
       "      <td>NaN</td>\n",
       "      <td>NaN</td>\n",
       "      <td>NaN</td>\n",
       "      <td>NaN</td>\n",
       "      <td>NaN</td>\n",
       "      <td>...</td>\n",
       "      <td>NaN</td>\n",
       "      <td>NaN</td>\n",
       "      <td>NaN</td>\n",
       "      <td>NaN</td>\n",
       "      <td>NaN</td>\n",
       "      <td>NaN</td>\n",
       "      <td>nc</td>\n",
       "      <td>NaN</td>\n",
       "      <td>NaN</td>\n",
       "      <td>NaN</td>\n",
       "    </tr>\n",
       "  </tbody>\n",
       "</table>\n",
       "<p>5 rows × 26 columns</p>\n",
       "</div>"
      ],
      "text/plain": [
       "           id                                                url  \\\n",
       "0  7222695916  https://prescott.craigslist.org/cto/d/prescott...   \n",
       "1  7218891961  https://fayar.craigslist.org/ctd/d/bentonville...   \n",
       "2  7221797935  https://keys.craigslist.org/cto/d/summerland-k...   \n",
       "3  7222270760  https://worcester.craigslist.org/cto/d/west-br...   \n",
       "4  7210384030  https://greensboro.craigslist.org/cto/d/trinit...   \n",
       "\n",
       "                   region                         region_url  price  year  \\\n",
       "0                prescott    https://prescott.craigslist.org   6000   NaN   \n",
       "1            fayetteville       https://fayar.craigslist.org  11900   NaN   \n",
       "2            florida keys        https://keys.craigslist.org  21000   NaN   \n",
       "3  worcester / central MA   https://worcester.craigslist.org   1500   NaN   \n",
       "4              greensboro  https://greensboro.craigslist.org   4900   NaN   \n",
       "\n",
       "  manufacturer model condition cylinders  ... size  type paint_color  \\\n",
       "0          NaN   NaN       NaN       NaN  ...  NaN   NaN         NaN   \n",
       "1          NaN   NaN       NaN       NaN  ...  NaN   NaN         NaN   \n",
       "2          NaN   NaN       NaN       NaN  ...  NaN   NaN         NaN   \n",
       "3          NaN   NaN       NaN       NaN  ...  NaN   NaN         NaN   \n",
       "4          NaN   NaN       NaN       NaN  ...  NaN   NaN         NaN   \n",
       "\n",
       "  image_url description county state lat long posting_date  \n",
       "0       NaN         NaN    NaN    az NaN  NaN          NaN  \n",
       "1       NaN         NaN    NaN    ar NaN  NaN          NaN  \n",
       "2       NaN         NaN    NaN    fl NaN  NaN          NaN  \n",
       "3       NaN         NaN    NaN    ma NaN  NaN          NaN  \n",
       "4       NaN         NaN    NaN    nc NaN  NaN          NaN  \n",
       "\n",
       "[5 rows x 26 columns]"
      ]
     },
     "execution_count": 2,
     "metadata": {},
     "output_type": "execute_result"
    }
   ],
   "source": [
    "df = pd.read_csv('vehicles.csv')\n",
    "df.head(5)"
   ]
  },
  {
   "cell_type": "code",
   "execution_count": 3,
   "id": "e07e1ffd",
   "metadata": {},
   "outputs": [],
   "source": [
    "df = df.set_index('id')"
   ]
  },
  {
   "cell_type": "code",
   "execution_count": 4,
   "id": "82571bfd",
   "metadata": {},
   "outputs": [
    {
     "data": {
      "text/plain": [
       "(426880, 25)"
      ]
     },
     "execution_count": 4,
     "metadata": {},
     "output_type": "execute_result"
    }
   ],
   "source": [
    "df.shape"
   ]
  },
  {
   "cell_type": "code",
   "execution_count": 5,
   "id": "2f626ca4",
   "metadata": {},
   "outputs": [
    {
     "data": {
      "text/html": [
       "<div>\n",
       "<style scoped>\n",
       "    .dataframe tbody tr th:only-of-type {\n",
       "        vertical-align: middle;\n",
       "    }\n",
       "\n",
       "    .dataframe tbody tr th {\n",
       "        vertical-align: top;\n",
       "    }\n",
       "\n",
       "    .dataframe thead th {\n",
       "        text-align: right;\n",
       "    }\n",
       "</style>\n",
       "<table border=\"1\" class=\"dataframe\">\n",
       "  <thead>\n",
       "    <tr style=\"text-align: right;\">\n",
       "      <th></th>\n",
       "      <th>price</th>\n",
       "      <th>year</th>\n",
       "      <th>odometer</th>\n",
       "      <th>county</th>\n",
       "      <th>lat</th>\n",
       "      <th>long</th>\n",
       "    </tr>\n",
       "  </thead>\n",
       "  <tbody>\n",
       "    <tr>\n",
       "      <th>count</th>\n",
       "      <td>4.268800e+05</td>\n",
       "      <td>425675.000000</td>\n",
       "      <td>4.224800e+05</td>\n",
       "      <td>0.0</td>\n",
       "      <td>420331.000000</td>\n",
       "      <td>420331.000000</td>\n",
       "    </tr>\n",
       "    <tr>\n",
       "      <th>mean</th>\n",
       "      <td>7.519903e+04</td>\n",
       "      <td>2011.235191</td>\n",
       "      <td>9.804333e+04</td>\n",
       "      <td>NaN</td>\n",
       "      <td>38.493940</td>\n",
       "      <td>-94.748599</td>\n",
       "    </tr>\n",
       "    <tr>\n",
       "      <th>std</th>\n",
       "      <td>1.218228e+07</td>\n",
       "      <td>9.452120</td>\n",
       "      <td>2.138815e+05</td>\n",
       "      <td>NaN</td>\n",
       "      <td>5.841533</td>\n",
       "      <td>18.365462</td>\n",
       "    </tr>\n",
       "    <tr>\n",
       "      <th>min</th>\n",
       "      <td>0.000000e+00</td>\n",
       "      <td>1900.000000</td>\n",
       "      <td>0.000000e+00</td>\n",
       "      <td>NaN</td>\n",
       "      <td>-84.122245</td>\n",
       "      <td>-159.827728</td>\n",
       "    </tr>\n",
       "    <tr>\n",
       "      <th>25%</th>\n",
       "      <td>5.900000e+03</td>\n",
       "      <td>2008.000000</td>\n",
       "      <td>3.770400e+04</td>\n",
       "      <td>NaN</td>\n",
       "      <td>34.601900</td>\n",
       "      <td>-111.939847</td>\n",
       "    </tr>\n",
       "    <tr>\n",
       "      <th>50%</th>\n",
       "      <td>1.395000e+04</td>\n",
       "      <td>2013.000000</td>\n",
       "      <td>8.554800e+04</td>\n",
       "      <td>NaN</td>\n",
       "      <td>39.150100</td>\n",
       "      <td>-88.432600</td>\n",
       "    </tr>\n",
       "    <tr>\n",
       "      <th>75%</th>\n",
       "      <td>2.648575e+04</td>\n",
       "      <td>2017.000000</td>\n",
       "      <td>1.335425e+05</td>\n",
       "      <td>NaN</td>\n",
       "      <td>42.398900</td>\n",
       "      <td>-80.832039</td>\n",
       "    </tr>\n",
       "    <tr>\n",
       "      <th>max</th>\n",
       "      <td>3.736929e+09</td>\n",
       "      <td>2022.000000</td>\n",
       "      <td>1.000000e+07</td>\n",
       "      <td>NaN</td>\n",
       "      <td>82.390818</td>\n",
       "      <td>173.885502</td>\n",
       "    </tr>\n",
       "  </tbody>\n",
       "</table>\n",
       "</div>"
      ],
      "text/plain": [
       "              price           year      odometer  county            lat  \\\n",
       "count  4.268800e+05  425675.000000  4.224800e+05     0.0  420331.000000   \n",
       "mean   7.519903e+04    2011.235191  9.804333e+04     NaN      38.493940   \n",
       "std    1.218228e+07       9.452120  2.138815e+05     NaN       5.841533   \n",
       "min    0.000000e+00    1900.000000  0.000000e+00     NaN     -84.122245   \n",
       "25%    5.900000e+03    2008.000000  3.770400e+04     NaN      34.601900   \n",
       "50%    1.395000e+04    2013.000000  8.554800e+04     NaN      39.150100   \n",
       "75%    2.648575e+04    2017.000000  1.335425e+05     NaN      42.398900   \n",
       "max    3.736929e+09    2022.000000  1.000000e+07     NaN      82.390818   \n",
       "\n",
       "                long  \n",
       "count  420331.000000  \n",
       "mean      -94.748599  \n",
       "std        18.365462  \n",
       "min      -159.827728  \n",
       "25%      -111.939847  \n",
       "50%       -88.432600  \n",
       "75%       -80.832039  \n",
       "max       173.885502  "
      ]
     },
     "execution_count": 5,
     "metadata": {},
     "output_type": "execute_result"
    }
   ],
   "source": [
    "df.describe()"
   ]
  },
  {
   "cell_type": "code",
   "execution_count": 6,
   "id": "b5b269ff",
   "metadata": {},
   "outputs": [
    {
     "data": {
      "text/html": [
       "<div>\n",
       "<style scoped>\n",
       "    .dataframe tbody tr th:only-of-type {\n",
       "        vertical-align: middle;\n",
       "    }\n",
       "\n",
       "    .dataframe tbody tr th {\n",
       "        vertical-align: top;\n",
       "    }\n",
       "\n",
       "    .dataframe thead th {\n",
       "        text-align: right;\n",
       "    }\n",
       "</style>\n",
       "<table border=\"1\" class=\"dataframe\">\n",
       "  <thead>\n",
       "    <tr style=\"text-align: right;\">\n",
       "      <th></th>\n",
       "      <th>price</th>\n",
       "      <th>year</th>\n",
       "      <th>odometer</th>\n",
       "      <th>county</th>\n",
       "      <th>lat</th>\n",
       "      <th>long</th>\n",
       "    </tr>\n",
       "  </thead>\n",
       "  <tbody>\n",
       "    <tr>\n",
       "      <th>count</th>\n",
       "      <td>393925.000000</td>\n",
       "      <td>392752.000000</td>\n",
       "      <td>3.916350e+05</td>\n",
       "      <td>0.0</td>\n",
       "      <td>390436.000000</td>\n",
       "      <td>390436.000000</td>\n",
       "    </tr>\n",
       "    <tr>\n",
       "      <th>mean</th>\n",
       "      <td>18916.331776</td>\n",
       "      <td>2011.008919</td>\n",
       "      <td>9.869091e+04</td>\n",
       "      <td>NaN</td>\n",
       "      <td>38.514120</td>\n",
       "      <td>-94.448441</td>\n",
       "    </tr>\n",
       "    <tr>\n",
       "      <th>std</th>\n",
       "      <td>15748.231707</td>\n",
       "      <td>9.623093</td>\n",
       "      <td>2.052945e+05</td>\n",
       "      <td>NaN</td>\n",
       "      <td>5.875029</td>\n",
       "      <td>18.194849</td>\n",
       "    </tr>\n",
       "    <tr>\n",
       "      <th>min</th>\n",
       "      <td>1.000000</td>\n",
       "      <td>1900.000000</td>\n",
       "      <td>0.000000e+00</td>\n",
       "      <td>NaN</td>\n",
       "      <td>-84.122245</td>\n",
       "      <td>-159.827728</td>\n",
       "    </tr>\n",
       "    <tr>\n",
       "      <th>25%</th>\n",
       "      <td>7000.000000</td>\n",
       "      <td>2008.000000</td>\n",
       "      <td>3.800000e+04</td>\n",
       "      <td>NaN</td>\n",
       "      <td>34.620000</td>\n",
       "      <td>-111.236250</td>\n",
       "    </tr>\n",
       "    <tr>\n",
       "      <th>50%</th>\n",
       "      <td>15000.000000</td>\n",
       "      <td>2013.000000</td>\n",
       "      <td>8.700000e+04</td>\n",
       "      <td>NaN</td>\n",
       "      <td>39.254962</td>\n",
       "      <td>-88.049143</td>\n",
       "    </tr>\n",
       "    <tr>\n",
       "      <th>75%</th>\n",
       "      <td>27590.000000</td>\n",
       "      <td>2017.000000</td>\n",
       "      <td>1.353290e+05</td>\n",
       "      <td>NaN</td>\n",
       "      <td>42.418751</td>\n",
       "      <td>-80.832039</td>\n",
       "    </tr>\n",
       "    <tr>\n",
       "      <th>max</th>\n",
       "      <td>999999.000000</td>\n",
       "      <td>2022.000000</td>\n",
       "      <td>1.000000e+07</td>\n",
       "      <td>NaN</td>\n",
       "      <td>82.390818</td>\n",
       "      <td>173.885502</td>\n",
       "    </tr>\n",
       "  </tbody>\n",
       "</table>\n",
       "</div>"
      ],
      "text/plain": [
       "               price           year      odometer  county            lat  \\\n",
       "count  393925.000000  392752.000000  3.916350e+05     0.0  390436.000000   \n",
       "mean    18916.331776    2011.008919  9.869091e+04     NaN      38.514120   \n",
       "std     15748.231707       9.623093  2.052945e+05     NaN       5.875029   \n",
       "min         1.000000    1900.000000  0.000000e+00     NaN     -84.122245   \n",
       "25%      7000.000000    2008.000000  3.800000e+04     NaN      34.620000   \n",
       "50%     15000.000000    2013.000000  8.700000e+04     NaN      39.254962   \n",
       "75%     27590.000000    2017.000000  1.353290e+05     NaN      42.418751   \n",
       "max    999999.000000    2022.000000  1.000000e+07     NaN      82.390818   \n",
       "\n",
       "                long  \n",
       "count  390436.000000  \n",
       "mean      -94.448441  \n",
       "std        18.194849  \n",
       "min      -159.827728  \n",
       "25%      -111.236250  \n",
       "50%       -88.049143  \n",
       "75%       -80.832039  \n",
       "max       173.885502  "
      ]
     },
     "execution_count": 6,
     "metadata": {},
     "output_type": "execute_result"
    }
   ],
   "source": [
    "df = df[df['price'] < 1000000]\n",
    "df = df[df['price'] > 0]\n",
    "df.describe()"
   ]
  },
  {
   "cell_type": "markdown",
   "id": "77cfde02",
   "metadata": {},
   "source": [
    "## Obrada podataka"
   ]
  },
  {
   "cell_type": "markdown",
   "id": "d3f47c04",
   "metadata": {},
   "source": [
    "Nakon pregleda podataka, nastavlja se sa njihovom obradom. Prvi korak u obradi je pregled tipa stupaca i preoblikovanje tipa ukoliko je to potrebo. Možemo vidjeti da je stupac 'year' tipa float64 pa ga je potrebno pretvoriti u tip int64. Također ćemo izvući broj cilindara iz stringa stupaca cylinders i pretvoriti ga u tip int32.  Na posljetku prebaciti stupac 'posting_date' iz object u datetime."
   ]
  },
  {
   "cell_type": "code",
   "execution_count": 7,
   "id": "ab28ea42",
   "metadata": {},
   "outputs": [
    {
     "data": {
      "text/plain": [
       "url              object\n",
       "region           object\n",
       "region_url       object\n",
       "price             int64\n",
       "year            float64\n",
       "manufacturer     object\n",
       "model            object\n",
       "condition        object\n",
       "cylinders        object\n",
       "fuel             object\n",
       "odometer        float64\n",
       "title_status     object\n",
       "transmission     object\n",
       "VIN              object\n",
       "drive            object\n",
       "size             object\n",
       "type             object\n",
       "paint_color      object\n",
       "image_url        object\n",
       "description      object\n",
       "county          float64\n",
       "state            object\n",
       "lat             float64\n",
       "long            float64\n",
       "posting_date     object\n",
       "dtype: object"
      ]
     },
     "execution_count": 7,
     "metadata": {},
     "output_type": "execute_result"
    }
   ],
   "source": [
    "df.dtypes"
   ]
  },
  {
   "cell_type": "code",
   "execution_count": 8,
   "id": "5ceb6b8d",
   "metadata": {},
   "outputs": [
    {
     "data": {
      "text/plain": [
       "url                          object\n",
       "region                       object\n",
       "region_url                   object\n",
       "price                         int64\n",
       "year                          Int64\n",
       "manufacturer                 object\n",
       "model                        object\n",
       "condition                    object\n",
       "cylinders                     Int32\n",
       "fuel                         object\n",
       "odometer                    float64\n",
       "title_status                 object\n",
       "transmission                 object\n",
       "VIN                          object\n",
       "drive                        object\n",
       "size                         object\n",
       "type                         object\n",
       "paint_color                  object\n",
       "image_url                    object\n",
       "description                  object\n",
       "county                      float64\n",
       "state                        object\n",
       "lat                         float64\n",
       "long                        float64\n",
       "posting_date    datetime64[ns, UTC]\n",
       "dtype: object"
      ]
     },
     "execution_count": 8,
     "metadata": {},
     "output_type": "execute_result"
    }
   ],
   "source": [
    "df['year'] = pd.to_numeric(df['year'], errors='coerce').astype(pd.Int64Dtype())\n",
    "df['cylinders'] = pd.to_numeric(df['cylinders'].apply(lambda x: str(x).split()[0]), errors='coerce').astype(pd.Int32Dtype())\n",
    "df['posting_date'] = pd.to_datetime(df['posting_date'], utc=True)\n",
    "df.dtypes"
   ]
  },
  {
   "cell_type": "markdown",
   "id": "161b448b",
   "metadata": {},
   "source": [
    "## Nedostajuće vrijednosti i odabir značajki"
   ]
  },
  {
   "cell_type": "markdown",
   "id": "ecfda3f6",
   "metadata": {},
   "source": [
    "Potrebno je i provjeriti postoje li Nan, odnosno nepostojeće vrijednosti kako bi se retci koji sadrže te vrijednosti uklonili, ili kako bi se te vrijednosti zamijenile nekom drugom vrijednosti koja se ond može koristiti u treniranju modela. "
   ]
  },
  {
   "cell_type": "code",
   "execution_count": 9,
   "id": "779e22c6",
   "metadata": {},
   "outputs": [
    {
     "data": {
      "text/plain": [
       "url                  0\n",
       "region               0\n",
       "region_url           0\n",
       "price                0\n",
       "year              1173\n",
       "manufacturer     16176\n",
       "model             4678\n",
       "condition       151354\n",
       "cylinders       161456\n",
       "fuel              2594\n",
       "odometer          2290\n",
       "title_status      7734\n",
       "transmission      1823\n",
       "VIN             152108\n",
       "drive           120217\n",
       "size            282892\n",
       "type             85893\n",
       "paint_color     117109\n",
       "image_url           62\n",
       "description         64\n",
       "county          393925\n",
       "state                0\n",
       "lat               3489\n",
       "long              3489\n",
       "posting_date        62\n",
       "dtype: int64"
      ]
     },
     "execution_count": 9,
     "metadata": {},
     "output_type": "execute_result"
    }
   ],
   "source": [
    "df.isna().sum()"
   ]
  },
  {
   "cell_type": "code",
   "execution_count": 10,
   "id": "e29b68be",
   "metadata": {},
   "outputs": [
    {
     "data": {
      "text/plain": [
       "url                  0\n",
       "region               0\n",
       "region_url           0\n",
       "price                0\n",
       "year                 0\n",
       "manufacturer     15007\n",
       "model             4616\n",
       "condition       150181\n",
       "cylinders            0\n",
       "fuel              2335\n",
       "odometer             0\n",
       "title_status      7430\n",
       "transmission      1761\n",
       "VIN             152046\n",
       "drive           119935\n",
       "size            281719\n",
       "type             85719\n",
       "paint_color     116971\n",
       "image_url            0\n",
       "description          2\n",
       "county          392752\n",
       "state                0\n",
       "lat               3427\n",
       "long              3427\n",
       "posting_date         0\n",
       "dtype: int64"
      ]
     },
     "execution_count": 10,
     "metadata": {},
     "output_type": "execute_result"
    }
   ],
   "source": [
    "df = df.dropna(subset=['year'])\n",
    "\n",
    "cyl_median = df['cylinders'].median()\n",
    "df['cylinders'].fillna(cyl_median, inplace=True)\n",
    "\n",
    "df['odometer'] = df.apply(lambda x: df[df['year']==x['year']]['odometer'].mean() if pd.isna(x['odometer']) else x['odometer'], axis=1)\n",
    "df.isna().sum()"
   ]
  },
  {
   "cell_type": "code",
   "execution_count": 11,
   "id": "ce51fac8",
   "metadata": {},
   "outputs": [
    {
     "data": {
      "text/plain": [
       "2018    32644\n",
       "2017    32544\n",
       "2013    28198\n",
       "2015    27982\n",
       "2016    27398\n",
       "        ...  \n",
       "1918        1\n",
       "1943        1\n",
       "1915        1\n",
       "1905        1\n",
       "1909        1\n",
       "Name: year, Length: 112, dtype: Int64"
      ]
     },
     "execution_count": 11,
     "metadata": {},
     "output_type": "execute_result"
    }
   ],
   "source": [
    "df['year'].value_counts()"
   ]
  },
  {
   "cell_type": "markdown",
   "id": "b8e5a91c",
   "metadata": {},
   "source": [
    "Zbog malog broja podataka određenih godina izradnje automobila, odbacujemo podatke koji sadrže automobile napravljene 1990 godine i prije."
   ]
  },
  {
   "cell_type": "code",
   "execution_count": 12,
   "id": "b3202bc6",
   "metadata": {},
   "outputs": [
    {
     "data": {
      "text/plain": [
       "url                  0\n",
       "region               0\n",
       "region_url           0\n",
       "price                0\n",
       "year                 0\n",
       "manufacturer     12790\n",
       "model             3565\n",
       "condition       146538\n",
       "cylinders            0\n",
       "fuel              2319\n",
       "odometer             0\n",
       "title_status      7414\n",
       "transmission      1750\n",
       "VIN             141077\n",
       "drive           115220\n",
       "size            274413\n",
       "type             80419\n",
       "paint_color     112214\n",
       "image_url            0\n",
       "description          2\n",
       "county          380035\n",
       "state                0\n",
       "lat               3398\n",
       "long              3398\n",
       "posting_date         0\n",
       "dtype: int64"
      ]
     },
     "execution_count": 12,
     "metadata": {},
     "output_type": "execute_result"
    }
   ],
   "source": [
    "df = df[df['year'] > 1990]\n",
    "df.isna().sum()"
   ]
  },
  {
   "cell_type": "markdown",
   "id": "28e18627",
   "metadata": {},
   "source": [
    "Sve kolone nisu potrebne za predikciju cijene automibila, zbog čega radimo novi skup podataka koji će sadržavati podskup kolona originalnog skupa podataka koji bi mogli biti od važnosti u predikciji. Kolona 'size' je izbačena jer sadrži 70% Nan vrijednosti."
   ]
  },
  {
   "cell_type": "code",
   "execution_count": 13,
   "id": "d0c7a5bf",
   "metadata": {},
   "outputs": [],
   "source": [
    "df1 = df.copy()\n",
    "df1 = df1[['price','year','manufacturer','condition','cylinders','odometer','fuel', 'transmission','drive','size','type']]"
   ]
  },
  {
   "cell_type": "markdown",
   "id": "3cfda6b6",
   "metadata": {},
   "source": [
    "Također je potrebno pretvoriti određene kolone u kategoričke varijable kako bi se s njima moglo raditi u nekom prediktivnom modelu. Koristi se funckija get_dummies koja pretvara kolonu u indikatorske varijable. Postoji i mogućnosti pretvaranja kolone u kategorički tip, no ukoliko primjerice kolonu transmission pretvortimo u kategoričku varijablu gdje je 'automatic' označen sa 0, 'manual' sa 1 te 'other' sa 2, model bi mogao smatrati kako je 2>1>0 te da to predstavlja nekakav poredak. Da bi to izbjegli koristimo indikatorske varijable."
   ]
  },
  {
   "cell_type": "code",
   "execution_count": 14,
   "id": "77d10b92",
   "metadata": {},
   "outputs": [
    {
     "data": {
      "text/html": [
       "<div>\n",
       "<style scoped>\n",
       "    .dataframe tbody tr th:only-of-type {\n",
       "        vertical-align: middle;\n",
       "    }\n",
       "\n",
       "    .dataframe tbody tr th {\n",
       "        vertical-align: top;\n",
       "    }\n",
       "\n",
       "    .dataframe thead th {\n",
       "        text-align: right;\n",
       "    }\n",
       "</style>\n",
       "<table border=\"1\" class=\"dataframe\">\n",
       "  <thead>\n",
       "    <tr style=\"text-align: right;\">\n",
       "      <th></th>\n",
       "      <th>price</th>\n",
       "      <th>year</th>\n",
       "      <th>cylinders</th>\n",
       "      <th>odometer</th>\n",
       "      <th>manufacturer_acura</th>\n",
       "      <th>manufacturer_alfa-romeo</th>\n",
       "      <th>manufacturer_aston-martin</th>\n",
       "      <th>manufacturer_audi</th>\n",
       "      <th>manufacturer_bmw</th>\n",
       "      <th>manufacturer_buick</th>\n",
       "      <th>...</th>\n",
       "      <th>transmission_automatic</th>\n",
       "      <th>transmission_manual</th>\n",
       "      <th>transmission_other</th>\n",
       "      <th>drive_4wd</th>\n",
       "      <th>drive_fwd</th>\n",
       "      <th>drive_rwd</th>\n",
       "      <th>size_compact</th>\n",
       "      <th>size_full-size</th>\n",
       "      <th>size_mid-size</th>\n",
       "      <th>size_sub-compact</th>\n",
       "    </tr>\n",
       "    <tr>\n",
       "      <th>id</th>\n",
       "      <th></th>\n",
       "      <th></th>\n",
       "      <th></th>\n",
       "      <th></th>\n",
       "      <th></th>\n",
       "      <th></th>\n",
       "      <th></th>\n",
       "      <th></th>\n",
       "      <th></th>\n",
       "      <th></th>\n",
       "      <th></th>\n",
       "      <th></th>\n",
       "      <th></th>\n",
       "      <th></th>\n",
       "      <th></th>\n",
       "      <th></th>\n",
       "      <th></th>\n",
       "      <th></th>\n",
       "      <th></th>\n",
       "      <th></th>\n",
       "      <th></th>\n",
       "    </tr>\n",
       "  </thead>\n",
       "  <tbody>\n",
       "    <tr>\n",
       "      <th>7316130053</th>\n",
       "      <td>4500</td>\n",
       "      <td>1992</td>\n",
       "      <td>6</td>\n",
       "      <td>192000.0</td>\n",
       "      <td>0</td>\n",
       "      <td>0</td>\n",
       "      <td>0</td>\n",
       "      <td>0</td>\n",
       "      <td>0</td>\n",
       "      <td>0</td>\n",
       "      <td>...</td>\n",
       "      <td>1</td>\n",
       "      <td>0</td>\n",
       "      <td>0</td>\n",
       "      <td>1</td>\n",
       "      <td>0</td>\n",
       "      <td>0</td>\n",
       "      <td>0</td>\n",
       "      <td>0</td>\n",
       "      <td>0</td>\n",
       "      <td>0</td>\n",
       "    </tr>\n",
       "    <tr>\n",
       "      <th>7315816316</th>\n",
       "      <td>32990</td>\n",
       "      <td>2017</td>\n",
       "      <td>6</td>\n",
       "      <td>30041.0</td>\n",
       "      <td>0</td>\n",
       "      <td>0</td>\n",
       "      <td>0</td>\n",
       "      <td>0</td>\n",
       "      <td>0</td>\n",
       "      <td>0</td>\n",
       "      <td>...</td>\n",
       "      <td>0</td>\n",
       "      <td>0</td>\n",
       "      <td>1</td>\n",
       "      <td>1</td>\n",
       "      <td>0</td>\n",
       "      <td>0</td>\n",
       "      <td>0</td>\n",
       "      <td>0</td>\n",
       "      <td>0</td>\n",
       "      <td>0</td>\n",
       "    </tr>\n",
       "    <tr>\n",
       "      <th>7315770394</th>\n",
       "      <td>24590</td>\n",
       "      <td>2017</td>\n",
       "      <td>6</td>\n",
       "      <td>40784.0</td>\n",
       "      <td>0</td>\n",
       "      <td>0</td>\n",
       "      <td>0</td>\n",
       "      <td>0</td>\n",
       "      <td>0</td>\n",
       "      <td>0</td>\n",
       "      <td>...</td>\n",
       "      <td>0</td>\n",
       "      <td>0</td>\n",
       "      <td>1</td>\n",
       "      <td>0</td>\n",
       "      <td>0</td>\n",
       "      <td>0</td>\n",
       "      <td>0</td>\n",
       "      <td>0</td>\n",
       "      <td>0</td>\n",
       "      <td>0</td>\n",
       "    </tr>\n",
       "    <tr>\n",
       "      <th>7315756348</th>\n",
       "      <td>30990</td>\n",
       "      <td>2016</td>\n",
       "      <td>6</td>\n",
       "      <td>34940.0</td>\n",
       "      <td>0</td>\n",
       "      <td>0</td>\n",
       "      <td>0</td>\n",
       "      <td>0</td>\n",
       "      <td>0</td>\n",
       "      <td>0</td>\n",
       "      <td>...</td>\n",
       "      <td>0</td>\n",
       "      <td>0</td>\n",
       "      <td>1</td>\n",
       "      <td>1</td>\n",
       "      <td>0</td>\n",
       "      <td>0</td>\n",
       "      <td>0</td>\n",
       "      <td>0</td>\n",
       "      <td>0</td>\n",
       "      <td>0</td>\n",
       "    </tr>\n",
       "    <tr>\n",
       "      <th>7315715960</th>\n",
       "      <td>27990</td>\n",
       "      <td>2014</td>\n",
       "      <td>6</td>\n",
       "      <td>17805.0</td>\n",
       "      <td>0</td>\n",
       "      <td>0</td>\n",
       "      <td>0</td>\n",
       "      <td>0</td>\n",
       "      <td>0</td>\n",
       "      <td>0</td>\n",
       "      <td>...</td>\n",
       "      <td>0</td>\n",
       "      <td>0</td>\n",
       "      <td>1</td>\n",
       "      <td>0</td>\n",
       "      <td>0</td>\n",
       "      <td>0</td>\n",
       "      <td>0</td>\n",
       "      <td>0</td>\n",
       "      <td>0</td>\n",
       "      <td>0</td>\n",
       "    </tr>\n",
       "    <tr>\n",
       "      <th>7315379459</th>\n",
       "      <td>37990</td>\n",
       "      <td>2016</td>\n",
       "      <td>8</td>\n",
       "      <td>9704.0</td>\n",
       "      <td>0</td>\n",
       "      <td>0</td>\n",
       "      <td>0</td>\n",
       "      <td>0</td>\n",
       "      <td>0</td>\n",
       "      <td>0</td>\n",
       "      <td>...</td>\n",
       "      <td>0</td>\n",
       "      <td>0</td>\n",
       "      <td>1</td>\n",
       "      <td>0</td>\n",
       "      <td>0</td>\n",
       "      <td>1</td>\n",
       "      <td>0</td>\n",
       "      <td>0</td>\n",
       "      <td>0</td>\n",
       "      <td>0</td>\n",
       "    </tr>\n",
       "    <tr>\n",
       "      <th>7315275975</th>\n",
       "      <td>33590</td>\n",
       "      <td>2014</td>\n",
       "      <td>6</td>\n",
       "      <td>55251.0</td>\n",
       "      <td>0</td>\n",
       "      <td>0</td>\n",
       "      <td>0</td>\n",
       "      <td>0</td>\n",
       "      <td>0</td>\n",
       "      <td>0</td>\n",
       "      <td>...</td>\n",
       "      <td>0</td>\n",
       "      <td>0</td>\n",
       "      <td>1</td>\n",
       "      <td>0</td>\n",
       "      <td>0</td>\n",
       "      <td>0</td>\n",
       "      <td>0</td>\n",
       "      <td>0</td>\n",
       "      <td>0</td>\n",
       "      <td>0</td>\n",
       "    </tr>\n",
       "    <tr>\n",
       "      <th>7315275942</th>\n",
       "      <td>30990</td>\n",
       "      <td>2019</td>\n",
       "      <td>6</td>\n",
       "      <td>1834.0</td>\n",
       "      <td>0</td>\n",
       "      <td>0</td>\n",
       "      <td>0</td>\n",
       "      <td>0</td>\n",
       "      <td>0</td>\n",
       "      <td>0</td>\n",
       "      <td>...</td>\n",
       "      <td>0</td>\n",
       "      <td>0</td>\n",
       "      <td>1</td>\n",
       "      <td>0</td>\n",
       "      <td>0</td>\n",
       "      <td>0</td>\n",
       "      <td>0</td>\n",
       "      <td>0</td>\n",
       "      <td>0</td>\n",
       "      <td>0</td>\n",
       "    </tr>\n",
       "    <tr>\n",
       "      <th>7315270785</th>\n",
       "      <td>27990</td>\n",
       "      <td>2018</td>\n",
       "      <td>6</td>\n",
       "      <td>37332.0</td>\n",
       "      <td>0</td>\n",
       "      <td>0</td>\n",
       "      <td>0</td>\n",
       "      <td>0</td>\n",
       "      <td>0</td>\n",
       "      <td>0</td>\n",
       "      <td>...</td>\n",
       "      <td>0</td>\n",
       "      <td>0</td>\n",
       "      <td>1</td>\n",
       "      <td>1</td>\n",
       "      <td>0</td>\n",
       "      <td>0</td>\n",
       "      <td>0</td>\n",
       "      <td>0</td>\n",
       "      <td>0</td>\n",
       "      <td>0</td>\n",
       "    </tr>\n",
       "    <tr>\n",
       "      <th>7314910156</th>\n",
       "      <td>34590</td>\n",
       "      <td>2018</td>\n",
       "      <td>6</td>\n",
       "      <td>20856.0</td>\n",
       "      <td>0</td>\n",
       "      <td>0</td>\n",
       "      <td>0</td>\n",
       "      <td>0</td>\n",
       "      <td>0</td>\n",
       "      <td>0</td>\n",
       "      <td>...</td>\n",
       "      <td>0</td>\n",
       "      <td>0</td>\n",
       "      <td>1</td>\n",
       "      <td>0</td>\n",
       "      <td>0</td>\n",
       "      <td>0</td>\n",
       "      <td>0</td>\n",
       "      <td>0</td>\n",
       "      <td>0</td>\n",
       "      <td>0</td>\n",
       "    </tr>\n",
       "  </tbody>\n",
       "</table>\n",
       "<p>10 rows × 79 columns</p>\n",
       "</div>"
      ],
      "text/plain": [
       "            price  year  cylinders  odometer  manufacturer_acura  \\\n",
       "id                                                                 \n",
       "7316130053   4500  1992          6  192000.0                   0   \n",
       "7315816316  32990  2017          6   30041.0                   0   \n",
       "7315770394  24590  2017          6   40784.0                   0   \n",
       "7315756348  30990  2016          6   34940.0                   0   \n",
       "7315715960  27990  2014          6   17805.0                   0   \n",
       "7315379459  37990  2016          8    9704.0                   0   \n",
       "7315275975  33590  2014          6   55251.0                   0   \n",
       "7315275942  30990  2019          6    1834.0                   0   \n",
       "7315270785  27990  2018          6   37332.0                   0   \n",
       "7314910156  34590  2018          6   20856.0                   0   \n",
       "\n",
       "            manufacturer_alfa-romeo  manufacturer_aston-martin  \\\n",
       "id                                                               \n",
       "7316130053                        0                          0   \n",
       "7315816316                        0                          0   \n",
       "7315770394                        0                          0   \n",
       "7315756348                        0                          0   \n",
       "7315715960                        0                          0   \n",
       "7315379459                        0                          0   \n",
       "7315275975                        0                          0   \n",
       "7315275942                        0                          0   \n",
       "7315270785                        0                          0   \n",
       "7314910156                        0                          0   \n",
       "\n",
       "            manufacturer_audi  manufacturer_bmw  manufacturer_buick  ...  \\\n",
       "id                                                                   ...   \n",
       "7316130053                  0                 0                   0  ...   \n",
       "7315816316                  0                 0                   0  ...   \n",
       "7315770394                  0                 0                   0  ...   \n",
       "7315756348                  0                 0                   0  ...   \n",
       "7315715960                  0                 0                   0  ...   \n",
       "7315379459                  0                 0                   0  ...   \n",
       "7315275975                  0                 0                   0  ...   \n",
       "7315275942                  0                 0                   0  ...   \n",
       "7315270785                  0                 0                   0  ...   \n",
       "7314910156                  0                 0                   0  ...   \n",
       "\n",
       "            transmission_automatic  transmission_manual  transmission_other  \\\n",
       "id                                                                            \n",
       "7316130053                       1                    0                   0   \n",
       "7315816316                       0                    0                   1   \n",
       "7315770394                       0                    0                   1   \n",
       "7315756348                       0                    0                   1   \n",
       "7315715960                       0                    0                   1   \n",
       "7315379459                       0                    0                   1   \n",
       "7315275975                       0                    0                   1   \n",
       "7315275942                       0                    0                   1   \n",
       "7315270785                       0                    0                   1   \n",
       "7314910156                       0                    0                   1   \n",
       "\n",
       "            drive_4wd  drive_fwd  drive_rwd  size_compact  size_full-size  \\\n",
       "id                                                                          \n",
       "7316130053          1          0          0             0               0   \n",
       "7315816316          1          0          0             0               0   \n",
       "7315770394          0          0          0             0               0   \n",
       "7315756348          1          0          0             0               0   \n",
       "7315715960          0          0          0             0               0   \n",
       "7315379459          0          0          1             0               0   \n",
       "7315275975          0          0          0             0               0   \n",
       "7315275942          0          0          0             0               0   \n",
       "7315270785          1          0          0             0               0   \n",
       "7314910156          0          0          0             0               0   \n",
       "\n",
       "            size_mid-size  size_sub-compact  \n",
       "id                                           \n",
       "7316130053              0                 0  \n",
       "7315816316              0                 0  \n",
       "7315770394              0                 0  \n",
       "7315756348              0                 0  \n",
       "7315715960              0                 0  \n",
       "7315379459              0                 0  \n",
       "7315275975              0                 0  \n",
       "7315275942              0                 0  \n",
       "7315270785              0                 0  \n",
       "7314910156              0                 0  \n",
       "\n",
       "[10 rows x 79 columns]"
      ]
     },
     "execution_count": 14,
     "metadata": {},
     "output_type": "execute_result"
    }
   ],
   "source": [
    "df1 = pd.get_dummies(df1, columns=['manufacturer','condition','fuel','type','transmission','drive','size'])\n",
    "df1[10:20]"
   ]
  },
  {
   "cell_type": "code",
   "execution_count": 15,
   "id": "b74d2ec6",
   "metadata": {},
   "outputs": [
    {
     "data": {
      "text/plain": [
       "price                 0\n",
       "year                  0\n",
       "cylinders             0\n",
       "odometer              0\n",
       "manufacturer_acura    0\n",
       "                     ..\n",
       "drive_rwd             0\n",
       "size_compact          0\n",
       "size_full-size        0\n",
       "size_mid-size         0\n",
       "size_sub-compact      0\n",
       "Length: 79, dtype: int64"
      ]
     },
     "execution_count": 15,
     "metadata": {},
     "output_type": "execute_result"
    }
   ],
   "source": [
    "df1.isna().sum()"
   ]
  },
  {
   "cell_type": "markdown",
   "id": "1b5642f0",
   "metadata": {},
   "source": [
    "Sljedeće su grafovi korišteni prilikom odluke oko nepostojećih vrijenosti u koloni 'cylinders'. Pokušao sam saznati postoji li neka korelacija između kolone 'cylinders' i ostalih kolona. Izgleda da ovisnost postoji, no problem je što i te kolone imaju nepostojeće vrijednosti pa je problem kako sve to skupa uskalditi. Na kraju sam se odlučio za opciju da zamjenim nepostojeće vrijednosti sa medijanom, jer bi bila šteta odbaciti sve podatke koji imaju nepostojeću vrijednost u koloni 'cylinders' premda je takvih više od trećine ukupnog broja podataka."
   ]
  },
  {
   "cell_type": "code",
   "execution_count": 16,
   "id": "2e3e8ede",
   "metadata": {},
   "outputs": [
    {
     "data": {
      "text/plain": [
       "<seaborn.axisgrid.FacetGrid at 0x1d9f0dabc10>"
      ]
     },
     "execution_count": 16,
     "metadata": {},
     "output_type": "execute_result"
    },
    {
     "data": {
      "image/png": "[encoded data removed]",
      "text/plain": [
       "<Figure size 360x360 with 1 Axes>"
      ]
     },
     "metadata": {
      "needs_background": "light"
     },
     "output_type": "display_data"
    }
   ],
   "source": [
    "sns.catplot(x='cylinders',y='type',data=df,kind='bar')"
   ]
  },
  {
   "cell_type": "code",
   "execution_count": 17,
   "id": "40e6816f",
   "metadata": {},
   "outputs": [
    {
     "data": {
      "text/plain": [
       "<seaborn.axisgrid.FacetGrid at 0x1d92dd5ab80>"
      ]
     },
     "execution_count": 17,
     "metadata": {},
     "output_type": "execute_result"
    },
    {
     "data": {
      "image/png": "[encoded data removed]",
      "text/plain": [
       "<Figure size 360x360 with 1 Axes>"
      ]
     },
     "metadata": {
      "needs_background": "light"
     },
     "output_type": "display_data"
    }
   ],
   "source": [
    "sns.catplot(x='cylinders',y='fuel',data=df,kind='bar')"
   ]
  },
  {
   "cell_type": "code",
   "execution_count": 18,
   "id": "8b03f962",
   "metadata": {},
   "outputs": [
    {
     "data": {
      "text/plain": [
       "<seaborn.axisgrid.FacetGrid at 0x1d92ef58160>"
      ]
     },
     "execution_count": 18,
     "metadata": {},
     "output_type": "execute_result"
    },
    {
     "data": {
      "image/png": "[encoded data removed]",
      "text/plain": [
       "<Figure size 360x360 with 1 Axes>"
      ]
     },
     "metadata": {
      "needs_background": "light"
     },
     "output_type": "display_data"
    }
   ],
   "source": [
    "sns.catplot(x='cylinders',y='size',data=df,kind='bar')"
   ]
  },
  {
   "cell_type": "code",
   "execution_count": 19,
   "id": "bcd8bfdb",
   "metadata": {},
   "outputs": [
    {
     "data": {
      "text/plain": [
       "type         size       \n",
       "SUV          compact        4.0\n",
       "             full-size      6.0\n",
       "             mid-size       6.0\n",
       "             sub-compact    4.0\n",
       "bus          compact        4.0\n",
       "             full-size      6.0\n",
       "             mid-size       6.0\n",
       "             sub-compact    8.0\n",
       "convertible  compact        6.0\n",
       "             full-size      6.0\n",
       "             mid-size       6.0\n",
       "             sub-compact    6.0\n",
       "coupe        compact        6.0\n",
       "             full-size      6.0\n",
       "             mid-size       6.0\n",
       "             sub-compact    6.0\n",
       "hatchback    compact        4.0\n",
       "             full-size      4.0\n",
       "             mid-size       4.0\n",
       "             sub-compact    4.0\n",
       "mini-van     compact        6.0\n",
       "             full-size      6.0\n",
       "             mid-size       6.0\n",
       "             sub-compact    4.0\n",
       "offroad      compact        6.0\n",
       "             full-size      6.0\n",
       "             mid-size       6.0\n",
       "             sub-compact    6.0\n",
       "other        compact        8.0\n",
       "             full-size      6.0\n",
       "             mid-size       6.0\n",
       "             sub-compact    6.0\n",
       "pickup       compact        6.0\n",
       "             full-size      8.0\n",
       "             mid-size       6.0\n",
       "             sub-compact    6.0\n",
       "sedan        compact        4.0\n",
       "             full-size      6.0\n",
       "             mid-size       4.0\n",
       "             sub-compact    4.0\n",
       "truck        compact        6.0\n",
       "             full-size      8.0\n",
       "             mid-size       6.0\n",
       "             sub-compact    6.0\n",
       "van          compact        4.0\n",
       "             full-size      6.0\n",
       "             mid-size       6.0\n",
       "             sub-compact    4.0\n",
       "wagon        compact        4.0\n",
       "             full-size      5.0\n",
       "             mid-size       4.0\n",
       "             sub-compact    4.0\n",
       "Name: cylinders, dtype: Float64"
      ]
     },
     "execution_count": 19,
     "metadata": {},
     "output_type": "execute_result"
    }
   ],
   "source": [
    "cyl = df.groupby(['type','size'])['cylinders'].median()\n",
    "cyl"
   ]
  },
  {
   "cell_type": "markdown",
   "id": "5f6c549d",
   "metadata": {},
   "source": [
    "## Vizualizacija\n"
   ]
  },
  {
   "cell_type": "markdown",
   "id": "2076852c",
   "metadata": {},
   "source": [
    "Može se vidjeti porast cijena u odnosu na godinu kad je automobil napravljen. To je u skladu sa općenitim porastom cijena."
   ]
  },
  {
   "cell_type": "code",
   "execution_count": 20,
   "id": "5790fa2b",
   "metadata": {},
   "outputs": [
    {
     "data": {
      "text/html": [
       "<div>\n",
       "<style scoped>\n",
       "    .dataframe tbody tr th:only-of-type {\n",
       "        vertical-align: middle;\n",
       "    }\n",
       "\n",
       "    .dataframe tbody tr th {\n",
       "        vertical-align: top;\n",
       "    }\n",
       "\n",
       "    .dataframe thead th {\n",
       "        text-align: right;\n",
       "    }\n",
       "</style>\n",
       "<table border=\"1\" class=\"dataframe\">\n",
       "  <thead>\n",
       "    <tr style=\"text-align: right;\">\n",
       "      <th></th>\n",
       "      <th>price</th>\n",
       "    </tr>\n",
       "    <tr>\n",
       "      <th>year</th>\n",
       "      <th></th>\n",
       "    </tr>\n",
       "  </thead>\n",
       "  <tbody>\n",
       "    <tr>\n",
       "      <th>1991</th>\n",
       "      <td>9256.038143</td>\n",
       "    </tr>\n",
       "    <tr>\n",
       "      <th>1992</th>\n",
       "      <td>9970.622735</td>\n",
       "    </tr>\n",
       "    <tr>\n",
       "      <th>1993</th>\n",
       "      <td>9634.438672</td>\n",
       "    </tr>\n",
       "    <tr>\n",
       "      <th>1994</th>\n",
       "      <td>8009.052632</td>\n",
       "    </tr>\n",
       "    <tr>\n",
       "      <th>1995</th>\n",
       "      <td>9110.865478</td>\n",
       "    </tr>\n",
       "    <tr>\n",
       "      <th>1996</th>\n",
       "      <td>9227.353763</td>\n",
       "    </tr>\n",
       "    <tr>\n",
       "      <th>1997</th>\n",
       "      <td>7802.228538</td>\n",
       "    </tr>\n",
       "    <tr>\n",
       "      <th>1998</th>\n",
       "      <td>6951.964176</td>\n",
       "    </tr>\n",
       "    <tr>\n",
       "      <th>1999</th>\n",
       "      <td>8215.272307</td>\n",
       "    </tr>\n",
       "    <tr>\n",
       "      <th>2000</th>\n",
       "      <td>7463.578629</td>\n",
       "    </tr>\n",
       "    <tr>\n",
       "      <th>2001</th>\n",
       "      <td>7699.337335</td>\n",
       "    </tr>\n",
       "    <tr>\n",
       "      <th>2002</th>\n",
       "      <td>7070.232374</td>\n",
       "    </tr>\n",
       "    <tr>\n",
       "      <th>2003</th>\n",
       "      <td>7249.239977</td>\n",
       "    </tr>\n",
       "    <tr>\n",
       "      <th>2004</th>\n",
       "      <td>7759.702662</td>\n",
       "    </tr>\n",
       "    <tr>\n",
       "      <th>2005</th>\n",
       "      <td>8277.194845</td>\n",
       "    </tr>\n",
       "    <tr>\n",
       "      <th>2006</th>\n",
       "      <td>8666.234175</td>\n",
       "    </tr>\n",
       "    <tr>\n",
       "      <th>2007</th>\n",
       "      <td>9192.567106</td>\n",
       "    </tr>\n",
       "    <tr>\n",
       "      <th>2008</th>\n",
       "      <td>9608.753993</td>\n",
       "    </tr>\n",
       "    <tr>\n",
       "      <th>2009</th>\n",
       "      <td>9543.005094</td>\n",
       "    </tr>\n",
       "    <tr>\n",
       "      <th>2010</th>\n",
       "      <td>10748.340296</td>\n",
       "    </tr>\n",
       "    <tr>\n",
       "      <th>2011</th>\n",
       "      <td>13372.238906</td>\n",
       "    </tr>\n",
       "    <tr>\n",
       "      <th>2012</th>\n",
       "      <td>15075.676816</td>\n",
       "    </tr>\n",
       "    <tr>\n",
       "      <th>2013</th>\n",
       "      <td>16106.205369</td>\n",
       "    </tr>\n",
       "    <tr>\n",
       "      <th>2014</th>\n",
       "      <td>18936.228686</td>\n",
       "    </tr>\n",
       "    <tr>\n",
       "      <th>2015</th>\n",
       "      <td>21970.862590</td>\n",
       "    </tr>\n",
       "    <tr>\n",
       "      <th>2016</th>\n",
       "      <td>23768.485400</td>\n",
       "    </tr>\n",
       "    <tr>\n",
       "      <th>2017</th>\n",
       "      <td>26825.213557</td>\n",
       "    </tr>\n",
       "    <tr>\n",
       "      <th>2018</th>\n",
       "      <td>29377.522424</td>\n",
       "    </tr>\n",
       "    <tr>\n",
       "      <th>2019</th>\n",
       "      <td>33287.302858</td>\n",
       "    </tr>\n",
       "    <tr>\n",
       "      <th>2020</th>\n",
       "      <td>37197.067898</td>\n",
       "    </tr>\n",
       "    <tr>\n",
       "      <th>2021</th>\n",
       "      <td>34522.597257</td>\n",
       "    </tr>\n",
       "    <tr>\n",
       "      <th>2022</th>\n",
       "      <td>6211.825243</td>\n",
       "    </tr>\n",
       "  </tbody>\n",
       "</table>\n",
       "</div>"
      ],
      "text/plain": [
       "             price\n",
       "year              \n",
       "1991   9256.038143\n",
       "1992   9970.622735\n",
       "1993   9634.438672\n",
       "1994   8009.052632\n",
       "1995   9110.865478\n",
       "1996   9227.353763\n",
       "1997   7802.228538\n",
       "1998   6951.964176\n",
       "1999   8215.272307\n",
       "2000   7463.578629\n",
       "2001   7699.337335\n",
       "2002   7070.232374\n",
       "2003   7249.239977\n",
       "2004   7759.702662\n",
       "2005   8277.194845\n",
       "2006   8666.234175\n",
       "2007   9192.567106\n",
       "2008   9608.753993\n",
       "2009   9543.005094\n",
       "2010  10748.340296\n",
       "2011  13372.238906\n",
       "2012  15075.676816\n",
       "2013  16106.205369\n",
       "2014  18936.228686\n",
       "2015  21970.862590\n",
       "2016  23768.485400\n",
       "2017  26825.213557\n",
       "2018  29377.522424\n",
       "2019  33287.302858\n",
       "2020  37197.067898\n",
       "2021  34522.597257\n",
       "2022   6211.825243"
      ]
     },
     "execution_count": 20,
     "metadata": {},
     "output_type": "execute_result"
    }
   ],
   "source": [
    "df1.pivot_table(values=['price'], index=['year'], aggfunc='mean')"
   ]
  },
  {
   "cell_type": "code",
   "execution_count": 21,
   "id": "e7cf5ed4",
   "metadata": {},
   "outputs": [
    {
     "data": {
      "text/plain": [
       "(38003, 79)"
      ]
     },
     "execution_count": 21,
     "metadata": {},
     "output_type": "execute_result"
    }
   ],
   "source": [
    "import random\n",
    "idx = random.sample(range(df1.shape[0]), int(df1.shape[0]*0.1))\n",
    "df_plot = df1.iloc[idx]\n",
    "df_plot.shape"
   ]
  },
  {
   "cell_type": "code",
   "execution_count": 22,
   "id": "264b3898",
   "metadata": {},
   "outputs": [
    {
     "data": {
      "text/plain": [
       "(38003, 79)"
      ]
     },
     "execution_count": 22,
     "metadata": {},
     "output_type": "execute_result"
    }
   ],
   "source": [
    "df_price = df1[df1['year']>1990]\n",
    "idx = random.sample(range(df_price.shape[0]), int(df_price.shape[0]*0.1))\n",
    "df_plot = df_price.iloc[idx]\n",
    "df_plot.shape"
   ]
  },
  {
   "cell_type": "code",
   "execution_count": 23,
   "id": "340250d6",
   "metadata": {},
   "outputs": [
    {
     "data": {
      "text/plain": [
       "<seaborn.axisgrid.JointGrid at 0x1d9c157ebe0>"
      ]
     },
     "execution_count": 23,
     "metadata": {},
     "output_type": "execute_result"
    },
    {
     "data": {
      "image/png": "[encoded data removed]",
      "text/plain": [
       "<Figure size 432x432 with 3 Axes>"
      ]
     },
     "metadata": {
      "needs_background": "light"
     },
     "output_type": "display_data"
    }
   ],
   "source": [
    "sns.jointplot(x='year',y='price',data=df_plot,kind='scatter')"
   ]
  },
  {
   "cell_type": "code",
   "execution_count": 24,
   "id": "89de5c18",
   "metadata": {},
   "outputs": [
    {
     "name": "stderr",
     "output_type": "stream",
     "text": [
      "C:\\Users\\pebe1\\anaconda3\\lib\\site-packages\\seaborn\\distributions.py:2619: FutureWarning: `distplot` is a deprecated function and will be removed in a future version. Please adapt your code to use either `displot` (a figure-level function with similar flexibility) or `histplot` (an axes-level function for histograms).\n",
      "  warnings.warn(msg, FutureWarning)\n"
     ]
    },
    {
     "data": {
      "text/plain": [
       "<AxesSubplot:xlabel='odometer', ylabel='Density'>"
      ]
     },
     "execution_count": 24,
     "metadata": {},
     "output_type": "execute_result"
    },
    {
     "data": {
      "image/png": "[encoded data removed]",
      "text/plain": [
       "<Figure size 432x288 with 1 Axes>"
      ]
     },
     "metadata": {
      "needs_background": "light"
     },
     "output_type": "display_data"
    }
   ],
   "source": [
    "odometer_perc = np.percentile(df_plot['odometer'], q=[0.25,0.75])\n",
    "df_odom = df_plot[df_plot['odometer'] > odometer_perc[0]]\n",
    "df_odom = df_plot[df_plot['odometer'] < odometer_perc[1]]\n",
    "\n",
    "\n",
    "sns.distplot(df_odom['odometer'])"
   ]
  },
  {
   "cell_type": "code",
   "execution_count": 25,
   "id": "17e763ea",
   "metadata": {},
   "outputs": [
    {
     "data": {
      "text/plain": [
       "<seaborn.axisgrid.JointGrid at 0x1d930102d60>"
      ]
     },
     "execution_count": 25,
     "metadata": {},
     "output_type": "execute_result"
    },
    {
     "data": {
      "image/png": "[encoded data removed]",
      "text/plain": [
       "<Figure size 432x432 with 3 Axes>"
      ]
     },
     "metadata": {
      "needs_background": "light"
     },
     "output_type": "display_data"
    }
   ],
   "source": [
    "sns.jointplot(x='odometer',y='price',data=df_odom, kind='scatter')"
   ]
  },
  {
   "cell_type": "code",
   "execution_count": 26,
   "id": "99fa622f",
   "metadata": {},
   "outputs": [
    {
     "data": {
      "text/plain": [
       "<seaborn.axisgrid.FacetGrid at 0x1d92ee12910>"
      ]
     },
     "execution_count": 26,
     "metadata": {},
     "output_type": "execute_result"
    },
    {
     "data": {
      "image/png": "[encoded data removed]",
      "text/plain": [
       "<Figure size 360x360 with 1 Axes>"
      ]
     },
     "metadata": {
      "needs_background": "light"
     },
     "output_type": "display_data"
    }
   ],
   "source": [
    "df_cyl = df_plot[~df_plot['cylinders'].isna()]\n",
    "sns.catplot(x='cylinders',y='price',data=df_cyl,kind='bar')"
   ]
  },
  {
   "cell_type": "code",
   "execution_count": 27,
   "id": "4eb3c8e4",
   "metadata": {},
   "outputs": [
    {
     "data": {
      "text/plain": [
       "<seaborn.axisgrid.FacetGrid at 0x1d9b56a98e0>"
      ]
     },
     "execution_count": 27,
     "metadata": {},
     "output_type": "execute_result"
    },
    {
     "data": {
      "image/png": "[encoded data removed]",
      "text/plain": [
       "<Figure size 360x360 with 1 Axes>"
      ]
     },
     "metadata": {
      "needs_background": "light"
     },
     "output_type": "display_data"
    }
   ],
   "source": [
    "sns.catplot(x='condition', y='price', data=df, kind='bar')"
   ]
  },
  {
   "cell_type": "code",
   "execution_count": 28,
   "id": "95f725bb",
   "metadata": {},
   "outputs": [
    {
     "data": {
      "text/plain": [
       "<seaborn.axisgrid.FacetGrid at 0x1d9f0dab3a0>"
      ]
     },
     "execution_count": 28,
     "metadata": {},
     "output_type": "execute_result"
    },
    {
     "data": {
      "image/png": "[encoded data removed]",
      "text/plain": [
       "<Figure size 360x360 with 1 Axes>"
      ]
     },
     "metadata": {
      "needs_background": "light"
     },
     "output_type": "display_data"
    }
   ],
   "source": [
    "sns.catplot(x='fuel',y='price', data=df, kind='bar')"
   ]
  },
  {
   "cell_type": "code",
   "execution_count": 29,
   "id": "1dae61ae",
   "metadata": {},
   "outputs": [
    {
     "data": {
      "text/plain": [
       "<seaborn.axisgrid.FacetGrid at 0x1d9b8688b20>"
      ]
     },
     "execution_count": 29,
     "metadata": {},
     "output_type": "execute_result"
    },
    {
     "data": {
      "image/png": "[encoded data removed]",
      "text/plain": [
       "<Figure size 360x360 with 1 Axes>"
      ]
     },
     "metadata": {
      "needs_background": "light"
     },
     "output_type": "display_data"
    }
   ],
   "source": [
    "sns.catplot(x='transmission',y='price', data=df, kind='bar')"
   ]
  },
  {
   "cell_type": "code",
   "execution_count": 30,
   "id": "40d9dddd",
   "metadata": {},
   "outputs": [
    {
     "data": {
      "text/plain": [
       "<seaborn.axisgrid.FacetGrid at 0x1d9f0dab490>"
      ]
     },
     "execution_count": 30,
     "metadata": {},
     "output_type": "execute_result"
    },
    {
     "data": {
      "image/png": "[encoded data removed]",
      "text/plain": [
       "<Figure size 360x360 with 1 Axes>"
      ]
     },
     "metadata": {
      "needs_background": "light"
     },
     "output_type": "display_data"
    }
   ],
   "source": [
    "sns.catplot(x='drive',y='price', data=df, kind='bar')"
   ]
  },
  {
   "cell_type": "code",
   "execution_count": 31,
   "id": "8dfa844c",
   "metadata": {},
   "outputs": [
    {
     "data": {
      "text/plain": [
       "<seaborn.axisgrid.FacetGrid at 0x1d9b869e460>"
      ]
     },
     "execution_count": 31,
     "metadata": {},
     "output_type": "execute_result"
    },
    {
     "data": {
      "image/png": "[encoded data removed]",
      "text/plain": [
       "<Figure size 360x360 with 1 Axes>"
      ]
     },
     "metadata": {
      "needs_background": "light"
     },
     "output_type": "display_data"
    }
   ],
   "source": [
    "sns.catplot(x='size',y='price', data=df, kind='bar')"
   ]
  },
  {
   "cell_type": "code",
   "execution_count": 32,
   "id": "6b673338",
   "metadata": {},
   "outputs": [
    {
     "data": {
      "image/png": "[encoded data removed]",
      "text/plain": [
       "<Figure size 360x360 with 1 Axes>"
      ]
     },
     "metadata": {
      "needs_background": "light"
     },
     "output_type": "display_data"
    }
   ],
   "source": [
    "ax = sns.catplot(x='type',y='price', data=df, kind='bar')\n",
    "ax.set_xticklabels(rotation=30)\n",
    "plt.show()"
   ]
  },
  {
   "cell_type": "markdown",
   "id": "683d25bc",
   "metadata": {},
   "source": [
    "## Podjela skupa podataka za fazu treniranja"
   ]
  },
  {
   "cell_type": "markdown",
   "id": "692ba3e3",
   "metadata": {},
   "source": [
    "Obrađeni je skup podataka potrebno podijelit na više dijelova kako bi se nad njima mogla raditi regresija. Najčešće se skup dijeli na podskup za trening i podskup za validaciju, a može se i dodatno podijeliti na podskup za tuning. Podskup za trening služi za treniranje modela, odnosno podešavanje parametara modela, a podskup za validaciju za usporedbu modela sa različitim hiperparametrima. Ta se usporedba radi na skupu za validaciju koji je različit od skupa za treniranje kako bi se izbjegla pristranost jer statistički gledano nije ispravno mjeriti točnost modela na skupu na kojem je treniran. Slična je uporaba i podskupa za tuning. On se koristi kad postoje hiperparametri na više razina. Također se originalni skup može podijeliti i na 10 (k) dijelo kad bi se radila 10-fold (k-fold) unakrsna validacija (cross-validation). Nakon što se podese hiperparametri modela, model se trenira na cjelokupnom skupu podataka prije nego se deploy-a."
   ]
  },
  {
   "cell_type": "code",
   "execution_count": 33,
   "id": "806d13a6",
   "metadata": {},
   "outputs": [],
   "source": [
    "# je li oblik u kojem su podaci dovoljan i prikladan za sve daljnje potrebe\n",
    "\n",
    "\n",
    "# kak sam ja pripremil skup podataka za sljedeci korak\n",
    "from sklearn.model_selection import train_test_split\n",
    "\n",
    "X = df1.loc[:, df1.columns != 'price'].values\n",
    "y = df1[['price']].values\n",
    "X_train, X_test, y_train, y_test = train_test_split(X, y, test_size=0.2, random_state=42)\n"
   ]
  },
  {
   "cell_type": "code",
   "execution_count": 34,
   "id": "90633655",
   "metadata": {},
   "outputs": [
    {
     "data": {
      "text/plain": [
       "(304028, 78)"
      ]
     },
     "execution_count": 34,
     "metadata": {},
     "output_type": "execute_result"
    }
   ],
   "source": [
    "X_train.shape"
   ]
  },
  {
   "cell_type": "code",
   "execution_count": 35,
   "id": "74f6ff48",
   "metadata": {},
   "outputs": [
    {
     "data": {
      "text/plain": [
       "(76007, 78)"
      ]
     },
     "execution_count": 35,
     "metadata": {},
     "output_type": "execute_result"
    }
   ],
   "source": [
    "X_test.shape"
   ]
  },
  {
   "cell_type": "markdown",
   "id": "8e8518b4",
   "metadata": {},
   "source": [
    "## Treniranje modela"
   ]
  },
  {
   "cell_type": "code",
   "execution_count": 36,
   "id": "68abd61b",
   "metadata": {},
   "outputs": [],
   "source": [
    "# koji si model izabral i zakaj\n",
    "\n",
    "# kako ste evaluirali performanse, koje metrike koristis\n",
    "# kakvi su rezultati\n",
    "\n",
    "# kak si spremil model za buduce koristenje\n",
    "# postoji li neki drugi nacin"
   ]
  },
  {
   "cell_type": "markdown",
   "id": "c8abe911",
   "metadata": {},
   "source": [
    "Problem predikcije cijene automobila je regresijski problem. On se razlikuje od klasifikacije u tome što je cilj klasifikacije pridijeliti jednu od klasa novom primjeru. S druge strane, regresijom se pokušava predvidjeti neka kontinuirana brojčana vrijednost na temelju novog primjera. U ovom je slučaju to cijena automobila. Svaka se metoda strojnog učenja sastoji od modela, objektivne funkcije i metode optimizacije. Samim time što se klasifikacijom dodjeljuje klasa nekom primjeru, a regresijom se predviđa brojčana vrijednost, njihove će objektivne funckije (model) i funkcije pogreške biti različite. Primjerice postoji SVM za klasifikaciju i za regresiju gdje je onaj za regresiju ima objektivnu funkciju koja je dodatno prilagođena za problem regresije."
   ]
  },
  {
   "cell_type": "markdown",
   "id": "ae38b693",
   "metadata": {},
   "source": [
    "Postoje razni regresijski modeli, od kojih su neki: linearna regresija, LS-SVM i regresijsko stablo odluke. Odlučujem se za linearnu regresiju. Kako bi ovaj model mogao raditi za kategoričkim varijablama potrebno ih je nekako pretvoriti u numeričke vrijednost. To je učinjeno u prethodnim koracima pomoću get_dummies funkcije. Tako će model moći naučiti važnost svake kategoričke varijable i tako odrediti vrijednost pripadajućih parametara."
   ]
  },
  {
   "cell_type": "markdown",
   "id": "215bae38",
   "metadata": {},
   "source": [
    "### Linear regression"
   ]
  },
  {
   "cell_type": "code",
   "execution_count": 37,
   "id": "b9f90994",
   "metadata": {},
   "outputs": [],
   "source": [
    "from sklearn.linear_model import LinearRegression\n",
    "\n",
    "model = LinearRegression().fit(X_train, y_train)\n",
    "y_hat = model.predict(X_test)"
   ]
  },
  {
   "cell_type": "code",
   "execution_count": 38,
   "id": "96d76844",
   "metadata": {},
   "outputs": [
    {
     "name": "stdout",
     "output_type": "stream",
     "text": [
      "Root Mean Squared Erorr (RMSE):  11278.966808704326\n",
      "R^2 score:  0.507395565096362\n"
     ]
    }
   ],
   "source": [
    "from sklearn.metrics import mean_squared_error, r2_score\n",
    "\n",
    "mse = mean_squared_error(y_test, y_hat)\n",
    "r2 = r2_score(y_test, y_hat)\n",
    "\n",
    "print('Root Mean Squared Erorr (RMSE): ',np.sqrt(mse))\n",
    "print('R^2 score: ', r2)"
   ]
  },
  {
   "cell_type": "markdown",
   "id": "39262bd0",
   "metadata": {},
   "source": [
    "### Polynomial Regression"
   ]
  },
  {
   "cell_type": "code",
   "execution_count": 39,
   "id": "a9ce3d4a",
   "metadata": {},
   "outputs": [],
   "source": [
    "from sklearn.preprocessing import PolynomialFeatures\n",
    "\n",
    "poly = PolynomialFeatures(degree=2, include_bias=False)\n",
    "poly_features = poly.fit_transform(X_train)\n",
    "poly_features_test = poly.transform(X_test)"
   ]
  },
  {
   "cell_type": "code",
   "execution_count": 40,
   "id": "d6b38908",
   "metadata": {},
   "outputs": [
    {
     "data": {
      "text/plain": [
       "(100000, 3159)"
      ]
     },
     "execution_count": 40,
     "metadata": {},
     "output_type": "execute_result"
    }
   ],
   "source": [
    "poly_features[:100000].shape"
   ]
  },
  {
   "cell_type": "code",
   "execution_count": 44,
   "id": "b711d133",
   "metadata": {},
   "outputs": [
    {
     "name": "stdout",
     "output_type": "stream",
     "text": [
      "Root Mean Squared Erorr (RMSE):  11612.818495844931\n",
      "R^2 score:  0.47780229761007575\n"
     ]
    }
   ],
   "source": [
    "poly_model = LinearRegression().fit(poly_features[:100000], y_train[:100000])\n",
    "y_hat_poly = poly_model.predict(poly_features_test)\n",
    "\n",
    "mse = mean_squared_error(y_test, y_hat_poly)\n",
    "r2 = r2_score(y_test, y_hat_poly)\n",
    "\n",
    "print('Root Mean Squared Erorr (RMSE): ',np.sqrt(mse))\n",
    "print('R^2 score: ', r2)"
   ]
  }
 ],
 "metadata": {
  "kernelspec": {
   "display_name": "Python 3 (ipykernel)",
   "language": "python",
   "name": "python3"
  },
  "language_info": {
   "codemirror_mode": {
    "name": "ipython",
    "version": 3
   },
   "file_extension": ".py",
   "mimetype": "text/x-python",
   "name": "python",
   "nbconvert_exporter": "python",
   "pygments_lexer": "ipython3",
   "version": "3.9.12"
  }
 },
 "nbformat": 4,
 "nbformat_minor": 5
}
